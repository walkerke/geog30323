{
 "cells": [
  {
   "cell_type": "markdown",
   "metadata": {},
   "source": [
    "## Assignment 6: Multivariate exploratory visualization\n",
    "\n",
    "In Assignment 5, you got a feel for the basic analytic capabilites of `pandas` and `seaborn`, and learned how to calculate descriptive statistics and generate univariate plots.  In many cases, however, you are going to want to explore interrelationships between multiple characteristics of your data.  In this course, we are going to address this with __multivariate exploratory visualization__.  \n",
    "\n",
    "Multivariate visualization can take a lot of forms, and can get quite complex!  We're just going to start with the basics here and work our way up to more complicated visualizations - and fortunately `seaborn` can do quite a lot of things.  \n",
    "\n",
    "Our data for today's notebook are going to come from the World Bank's World Development Indicators API.  You'll learn a lot more about APIs in a few weeks; for now, you can think of it as a way that we can programmatically get access to the World Bank's data.  The World Bank's data catalog contains social and economic indicators for countries around the world dating all the way back to 1960, and is one of the world's foremost resources for development data.  An added bonus: access to the data is built-in to `pandas`!  One caveat: the next release of `pandas` will move this functionality to an external package called `pandas-datareader`, which is installable from `pip`, so watch out for that; for now, we can still use the functionality in the `pandas.io` module.   \n",
    "\n",
    "To get started, run the cell below to load the required packages and tell the Jupyter Notebook to show figures inline.  "
   ]
  },
  {
   "cell_type": "code",
   "execution_count": 1,
   "metadata": {
    "collapsed": false
   },
   "outputs": [],
   "source": [
    "import pandas as pd\n",
    "import seaborn as sns\n",
    "from pandas.io import wb\n",
    "\n",
    "%matplotlib inline"
   ]
  },
  {
   "cell_type": "markdown",
   "metadata": {},
   "source": [
    "Note that I've switched to the standard import for `seaborn` - `import seaborn as sns`.  As you get more skilled with Python, you'll be using online documentation and tutorials to help you with your data analysis.  `import seaborn as sns` is the standard around the web and in the `seaborn` docs, so I'm making our notebooks consistent with these standards.  \n",
    "\n",
    "This notebook will be organized around different types of exploratory visualizations, which are each best-suited for different types of data.  As such, we'll be making multiple calls to the World Bank API throughout the notebook to get different datasets.  \n",
    "\n",
    "### Getting data from the World Bank\n",
    "\n",
    "Access to World Bank data in `pandas` is done through the `wb` module, which we've imported into our namespace.  World Bank indicators are defined by __indicator codes__, which are unique strings that represent the given indicators.  To look up codes for data we might be interested in, we can use the `wb.search` function.  Let's try life expectancy: "
   ]
  },
  {
   "cell_type": "code",
   "execution_count": 2,
   "metadata": {
    "collapsed": false
   },
   "outputs": [
    {
     "data": {
      "text/html": [
       "<div>\n",
       "<table border=\"1\" class=\"dataframe\">\n",
       "  <thead>\n",
       "    <tr style=\"text-align: right;\">\n",
       "      <th></th>\n",
       "      <th>id</th>\n",
       "      <th>name</th>\n",
       "      <th>source</th>\n",
       "      <th>sourceNote</th>\n",
       "      <th>sourceOrganization</th>\n",
       "      <th>topics</th>\n",
       "    </tr>\n",
       "  </thead>\n",
       "  <tbody>\n",
       "    <tr>\n",
       "      <th>7980</th>\n",
       "      <td>SP.DYN.LE00.FE.IN</td>\n",
       "      <td>Life expectancy at birth, female (years)</td>\n",
       "      <td>World Development Indicators</td>\n",
       "      <td>Life expectancy at birth indicates the number ...</td>\n",
       "      <td>b'(1) United Nations Population Division. Worl...</td>\n",
       "      <td>Aid Effectiveness  ; Health  ; Social Developm...</td>\n",
       "    </tr>\n",
       "    <tr>\n",
       "      <th>7981</th>\n",
       "      <td>SP.DYN.LE00.IN</td>\n",
       "      <td>Life expectancy at birth, total (years)</td>\n",
       "      <td>World Development Indicators</td>\n",
       "      <td>Life expectancy at birth indicates the number ...</td>\n",
       "      <td>b'Derived from male and female life expectancy...</td>\n",
       "      <td>Health</td>\n",
       "    </tr>\n",
       "    <tr>\n",
       "      <th>7982</th>\n",
       "      <td>SP.DYN.LE00.MA.IN</td>\n",
       "      <td>Life expectancy at birth, male (years)</td>\n",
       "      <td>World Development Indicators</td>\n",
       "      <td>Life expectancy at birth indicates the number ...</td>\n",
       "      <td>b'(1) United Nations Population Division. Worl...</td>\n",
       "      <td>Aid Effectiveness  ; Social Development  ; Hea...</td>\n",
       "    </tr>\n",
       "    <tr>\n",
       "      <th>9078</th>\n",
       "      <td>UIS.SLE.0</td>\n",
       "      <td>School life expectancy (years).  Pre-primary. ...</td>\n",
       "      <td>Education Statistics</td>\n",
       "      <td>School life expectancy (years). Pre-primary. T...</td>\n",
       "      <td>b'UNESCO Institute for Statistics'</td>\n",
       "      <td>Education</td>\n",
       "    </tr>\n",
       "    <tr>\n",
       "      <th>9079</th>\n",
       "      <td>UIS.SLE.0.F</td>\n",
       "      <td>School life expectancy (years).  Pre-primary. ...</td>\n",
       "      <td>Education Statistics</td>\n",
       "      <td>School life expectancy (years). Pre-primary. F...</td>\n",
       "      <td>b'UNESCO Institute for Statistics'</td>\n",
       "      <td>Education</td>\n",
       "    </tr>\n",
       "    <tr>\n",
       "      <th>9080</th>\n",
       "      <td>UIS.SLE.0.M</td>\n",
       "      <td>School life expectancy (years).  Pre-primary. ...</td>\n",
       "      <td>Education Statistics</td>\n",
       "      <td>School life expectancy (years). Pre-primary. M...</td>\n",
       "      <td>b'UNESCO Institute for Statistics'</td>\n",
       "      <td>Education</td>\n",
       "    </tr>\n",
       "    <tr>\n",
       "      <th>9081</th>\n",
       "      <td>UIS.SLE.123</td>\n",
       "      <td>School life expectancy (years).  Primary to se...</td>\n",
       "      <td>Education Statistics</td>\n",
       "      <td>School life expectancy (years). Primary to sec...</td>\n",
       "      <td>b'UNESCO Institute for Statistics'</td>\n",
       "      <td>Education</td>\n",
       "    </tr>\n",
       "    <tr>\n",
       "      <th>9082</th>\n",
       "      <td>UIS.SLE.123.F</td>\n",
       "      <td>School life expectancy (years).  Primary to se...</td>\n",
       "      <td>Education Statistics</td>\n",
       "      <td>School life expectancy (years). Primary to sec...</td>\n",
       "      <td>b'UNESCO Institute for Statistics'</td>\n",
       "      <td>Education</td>\n",
       "    </tr>\n",
       "    <tr>\n",
       "      <th>9083</th>\n",
       "      <td>UIS.SLE.123.GPI</td>\n",
       "      <td>Gender parity index for school life expectancy...</td>\n",
       "      <td>Education Statistics</td>\n",
       "      <td>Gender parity index for school life expectancy...</td>\n",
       "      <td>b'UNESCO Institute for Statistics'</td>\n",
       "      <td>Education</td>\n",
       "    </tr>\n",
       "    <tr>\n",
       "      <th>9084</th>\n",
       "      <td>UIS.SLE.123.M</td>\n",
       "      <td>School life expectancy (years).  Primary to se...</td>\n",
       "      <td>Education Statistics</td>\n",
       "      <td>School life expectancy (years). Primary to sec...</td>\n",
       "      <td>b'UNESCO Institute for Statistics'</td>\n",
       "      <td>Education</td>\n",
       "    </tr>\n",
       "    <tr>\n",
       "      <th>9085</th>\n",
       "      <td>UIS.SLE.1t6.GPI</td>\n",
       "      <td>Gender parity index for school life expectancy...</td>\n",
       "      <td>Education Statistics</td>\n",
       "      <td>Gender parity index for school life expectancy...</td>\n",
       "      <td>b'UNESCO Institute for Statistics'</td>\n",
       "      <td>Education</td>\n",
       "    </tr>\n",
       "    <tr>\n",
       "      <th>9086</th>\n",
       "      <td>UIS.SLE.56</td>\n",
       "      <td>School life expectancy (years).  Tertiary.  Total</td>\n",
       "      <td>Education Statistics</td>\n",
       "      <td>School life expectancy (years). Tertiary. Tota...</td>\n",
       "      <td>b'UNESCO Institute for Statistics'</td>\n",
       "      <td>Education</td>\n",
       "    </tr>\n",
       "    <tr>\n",
       "      <th>9087</th>\n",
       "      <td>UIS.SLE.56.F</td>\n",
       "      <td>School life expectancy (years).  Tertiary.  Fe...</td>\n",
       "      <td>Education Statistics</td>\n",
       "      <td>School life expectancy (years). Tertiary. Fema...</td>\n",
       "      <td>b'UNESCO Institute for Statistics'</td>\n",
       "      <td>Education</td>\n",
       "    </tr>\n",
       "    <tr>\n",
       "      <th>9088</th>\n",
       "      <td>UIS.SLE.56.GPI</td>\n",
       "      <td>Gender parity index for school life expectancy...</td>\n",
       "      <td>Education Statistics</td>\n",
       "      <td>Gender parity index for school life expectancy...</td>\n",
       "      <td>b'UNESCO Institute for Statistics'</td>\n",
       "      <td>Education</td>\n",
       "    </tr>\n",
       "    <tr>\n",
       "      <th>9089</th>\n",
       "      <td>UIS.SLE.56.M</td>\n",
       "      <td>School life expectancy (years).  Tertiary.  Male</td>\n",
       "      <td>Education Statistics</td>\n",
       "      <td>School life expectancy (years). Tertiary. Male...</td>\n",
       "      <td>b'UNESCO Institute for Statistics'</td>\n",
       "      <td>Education</td>\n",
       "    </tr>\n",
       "    <tr>\n",
       "      <th>9090</th>\n",
       "      <td>UIS.SLEN.12.F</td>\n",
       "      <td>School life expectancy net of repetition (year...</td>\n",
       "      <td>Education Statistics</td>\n",
       "      <td>School life expectancy net of repetition (year...</td>\n",
       "      <td>b'UNESCO Institute for Statistics'</td>\n",
       "      <td>Education</td>\n",
       "    </tr>\n",
       "    <tr>\n",
       "      <th>9091</th>\n",
       "      <td>UIS.SLEN.12.GPI</td>\n",
       "      <td>Gender parity index for school life expectancy...</td>\n",
       "      <td>Education Statistics</td>\n",
       "      <td>Gender parity index for school life expectancy...</td>\n",
       "      <td>b'UNESCO Institute for Statistics'</td>\n",
       "      <td>Education</td>\n",
       "    </tr>\n",
       "    <tr>\n",
       "      <th>9092</th>\n",
       "      <td>UIS.SLEN.12.M</td>\n",
       "      <td>School life expectancy net of repetition (year...</td>\n",
       "      <td>Education Statistics</td>\n",
       "      <td>School life expectancy net of repetition (year...</td>\n",
       "      <td>b'UNESCO Institute for Statistics'</td>\n",
       "      <td>Education</td>\n",
       "    </tr>\n",
       "    <tr>\n",
       "      <th>9093</th>\n",
       "      <td>UIS.SLEN.12.T</td>\n",
       "      <td>School life expectancy net of repetition (year...</td>\n",
       "      <td>Education Statistics</td>\n",
       "      <td>School life expectancy net of repetition (year...</td>\n",
       "      <td>b'UNESCO Institute for Statistics'</td>\n",
       "      <td>Education</td>\n",
       "    </tr>\n",
       "  </tbody>\n",
       "</table>\n",
       "</div>"
      ],
      "text/plain": [
       "                     id                                               name  \\\n",
       "7980  SP.DYN.LE00.FE.IN           Life expectancy at birth, female (years)   \n",
       "7981     SP.DYN.LE00.IN            Life expectancy at birth, total (years)   \n",
       "7982  SP.DYN.LE00.MA.IN             Life expectancy at birth, male (years)   \n",
       "9078          UIS.SLE.0  School life expectancy (years).  Pre-primary. ...   \n",
       "9079        UIS.SLE.0.F  School life expectancy (years).  Pre-primary. ...   \n",
       "9080        UIS.SLE.0.M  School life expectancy (years).  Pre-primary. ...   \n",
       "9081        UIS.SLE.123  School life expectancy (years).  Primary to se...   \n",
       "9082      UIS.SLE.123.F  School life expectancy (years).  Primary to se...   \n",
       "9083    UIS.SLE.123.GPI  Gender parity index for school life expectancy...   \n",
       "9084      UIS.SLE.123.M  School life expectancy (years).  Primary to se...   \n",
       "9085    UIS.SLE.1t6.GPI  Gender parity index for school life expectancy...   \n",
       "9086         UIS.SLE.56  School life expectancy (years).  Tertiary.  Total   \n",
       "9087       UIS.SLE.56.F  School life expectancy (years).  Tertiary.  Fe...   \n",
       "9088     UIS.SLE.56.GPI  Gender parity index for school life expectancy...   \n",
       "9089       UIS.SLE.56.M   School life expectancy (years).  Tertiary.  Male   \n",
       "9090      UIS.SLEN.12.F  School life expectancy net of repetition (year...   \n",
       "9091    UIS.SLEN.12.GPI  Gender parity index for school life expectancy...   \n",
       "9092      UIS.SLEN.12.M  School life expectancy net of repetition (year...   \n",
       "9093      UIS.SLEN.12.T  School life expectancy net of repetition (year...   \n",
       "\n",
       "                            source  \\\n",
       "7980  World Development Indicators   \n",
       "7981  World Development Indicators   \n",
       "7982  World Development Indicators   \n",
       "9078          Education Statistics   \n",
       "9079          Education Statistics   \n",
       "9080          Education Statistics   \n",
       "9081          Education Statistics   \n",
       "9082          Education Statistics   \n",
       "9083          Education Statistics   \n",
       "9084          Education Statistics   \n",
       "9085          Education Statistics   \n",
       "9086          Education Statistics   \n",
       "9087          Education Statistics   \n",
       "9088          Education Statistics   \n",
       "9089          Education Statistics   \n",
       "9090          Education Statistics   \n",
       "9091          Education Statistics   \n",
       "9092          Education Statistics   \n",
       "9093          Education Statistics   \n",
       "\n",
       "                                             sourceNote  \\\n",
       "7980  Life expectancy at birth indicates the number ...   \n",
       "7981  Life expectancy at birth indicates the number ...   \n",
       "7982  Life expectancy at birth indicates the number ...   \n",
       "9078  School life expectancy (years). Pre-primary. T...   \n",
       "9079  School life expectancy (years). Pre-primary. F...   \n",
       "9080  School life expectancy (years). Pre-primary. M...   \n",
       "9081  School life expectancy (years). Primary to sec...   \n",
       "9082  School life expectancy (years). Primary to sec...   \n",
       "9083  Gender parity index for school life expectancy...   \n",
       "9084  School life expectancy (years). Primary to sec...   \n",
       "9085  Gender parity index for school life expectancy...   \n",
       "9086  School life expectancy (years). Tertiary. Tota...   \n",
       "9087  School life expectancy (years). Tertiary. Fema...   \n",
       "9088  Gender parity index for school life expectancy...   \n",
       "9089  School life expectancy (years). Tertiary. Male...   \n",
       "9090  School life expectancy net of repetition (year...   \n",
       "9091  Gender parity index for school life expectancy...   \n",
       "9092  School life expectancy net of repetition (year...   \n",
       "9093  School life expectancy net of repetition (year...   \n",
       "\n",
       "                                     sourceOrganization  \\\n",
       "7980  b'(1) United Nations Population Division. Worl...   \n",
       "7981  b'Derived from male and female life expectancy...   \n",
       "7982  b'(1) United Nations Population Division. Worl...   \n",
       "9078                 b'UNESCO Institute for Statistics'   \n",
       "9079                 b'UNESCO Institute for Statistics'   \n",
       "9080                 b'UNESCO Institute for Statistics'   \n",
       "9081                 b'UNESCO Institute for Statistics'   \n",
       "9082                 b'UNESCO Institute for Statistics'   \n",
       "9083                 b'UNESCO Institute for Statistics'   \n",
       "9084                 b'UNESCO Institute for Statistics'   \n",
       "9085                 b'UNESCO Institute for Statistics'   \n",
       "9086                 b'UNESCO Institute for Statistics'   \n",
       "9087                 b'UNESCO Institute for Statistics'   \n",
       "9088                 b'UNESCO Institute for Statistics'   \n",
       "9089                 b'UNESCO Institute for Statistics'   \n",
       "9090                 b'UNESCO Institute for Statistics'   \n",
       "9091                 b'UNESCO Institute for Statistics'   \n",
       "9092                 b'UNESCO Institute for Statistics'   \n",
       "9093                 b'UNESCO Institute for Statistics'   \n",
       "\n",
       "                                                 topics  \n",
       "7980  Aid Effectiveness  ; Health  ; Social Developm...  \n",
       "7981                                            Health   \n",
       "7982  Aid Effectiveness  ; Social Development  ; Hea...  \n",
       "9078                                         Education   \n",
       "9079                                         Education   \n",
       "9080                                         Education   \n",
       "9081                                         Education   \n",
       "9082                                         Education   \n",
       "9083                                         Education   \n",
       "9084                                         Education   \n",
       "9085                                         Education   \n",
       "9086                                         Education   \n",
       "9087                                         Education   \n",
       "9088                                         Education   \n",
       "9089                                         Education   \n",
       "9090                                         Education   \n",
       "9091                                         Education   \n",
       "9092                                         Education   \n",
       "9093                                         Education   "
      ]
     },
     "execution_count": 2,
     "metadata": {},
     "output_type": "execute_result"
    }
   ],
   "source": [
    "wb.search('life expectancy')"
   ]
  },
  {
   "cell_type": "markdown",
   "metadata": {},
   "source": [
    "Looks like there are a lot of indicators available!  Let's use the most general one, `SP.DYN.LE00.IN`, and assign it to a variable.  "
   ]
  },
  {
   "cell_type": "code",
   "execution_count": 3,
   "metadata": {
    "collapsed": true
   },
   "outputs": [],
   "source": [
    "lex_code = 'SP.DYN.LE00.IN'"
   ]
  },
  {
   "cell_type": "markdown",
   "metadata": {},
   "source": [
    "Our first task is to produce some charts that compare life expectancy at birth between the United States and several peer economies.  To do this, we're going to need to know __country codes__.  The `wb` module takes either two-digit __iso2__ codes or three-digit __iso3__ codes; Wikipedia is probably the easiest place to look them up.  \n",
    "\n",
    "* ISO-2: https://en.wikipedia.org/wiki/ISO_3166-1_alpha-2\n",
    "* ISO-3: https://en.wikipedia.org/wiki/ISO_3166-1_alpha-3\n",
    "\n",
    "Let's make a list of countries -- the USA, the UK, Germany, China, Canada, Japan, and France -- for which we'd like to chart life expectancy.  "
   ]
  },
  {
   "cell_type": "code",
   "execution_count": 4,
   "metadata": {
    "collapsed": false
   },
   "outputs": [],
   "source": [
    "ctrys = ['US', 'GB', 'DE', 'CN', 'CA', 'JP', 'FR'] "
   ]
  },
  {
   "cell_type": "markdown",
   "metadata": {},
   "source": [
    "We can now make a call to the World Bank API with the `wb.download()` function.  We pass to the function our indicator code and our list of countries; we also specify a start and end date, which will be the same in this case as we only want one year.  We'll assign the resulting data frame to a variable named `lex`, for life expectancy at birth.  "
   ]
  },
  {
   "cell_type": "code",
   "execution_count": 5,
   "metadata": {
    "collapsed": false
   },
   "outputs": [
    {
     "data": {
      "text/html": [
       "<div>\n",
       "<table border=\"1\" class=\"dataframe\">\n",
       "  <thead>\n",
       "    <tr style=\"text-align: right;\">\n",
       "      <th></th>\n",
       "      <th></th>\n",
       "      <th>SP.DYN.LE00.IN</th>\n",
       "    </tr>\n",
       "    <tr>\n",
       "      <th>country</th>\n",
       "      <th>year</th>\n",
       "      <th></th>\n",
       "    </tr>\n",
       "  </thead>\n",
       "  <tbody>\n",
       "    <tr>\n",
       "      <th>Canada</th>\n",
       "      <th>2013</th>\n",
       "      <td>81.401122</td>\n",
       "    </tr>\n",
       "    <tr>\n",
       "      <th>China</th>\n",
       "      <th>2013</th>\n",
       "      <td>75.353024</td>\n",
       "    </tr>\n",
       "    <tr>\n",
       "      <th>Germany</th>\n",
       "      <th>2013</th>\n",
       "      <td>81.043902</td>\n",
       "    </tr>\n",
       "    <tr>\n",
       "      <th>France</th>\n",
       "      <th>2013</th>\n",
       "      <td>81.968293</td>\n",
       "    </tr>\n",
       "    <tr>\n",
       "      <th>United Kingdom</th>\n",
       "      <th>2013</th>\n",
       "      <td>80.956098</td>\n",
       "    </tr>\n",
       "    <tr>\n",
       "      <th>Japan</th>\n",
       "      <th>2013</th>\n",
       "      <td>83.331951</td>\n",
       "    </tr>\n",
       "    <tr>\n",
       "      <th>United States</th>\n",
       "      <th>2013</th>\n",
       "      <td>78.841463</td>\n",
       "    </tr>\n",
       "  </tbody>\n",
       "</table>\n",
       "</div>"
      ],
      "text/plain": [
       "                     SP.DYN.LE00.IN\n",
       "country        year                \n",
       "Canada         2013       81.401122\n",
       "China          2013       75.353024\n",
       "Germany        2013       81.043902\n",
       "France         2013       81.968293\n",
       "United Kingdom 2013       80.956098\n",
       "Japan          2013       83.331951\n",
       "United States  2013       78.841463"
      ]
     },
     "execution_count": 5,
     "metadata": {},
     "output_type": "execute_result"
    }
   ],
   "source": [
    "lex = wb.download(indicator = lex_code, country = ctrys, start = 2013, end = 2013)\n",
    "\n",
    "lex"
   ]
  },
  {
   "cell_type": "markdown",
   "metadata": {},
   "source": [
    "We've gotten back a data frame with a single column - \"SP.DYN.LE00.IN\", and \"country\" and \"year\" values in the index.  We now can get ready for plotting!"
   ]
  },
  {
   "cell_type": "markdown",
   "metadata": {},
   "source": [
    "### Bar charts and dot plots\n",
    "\n",
    "Two common types of charts for comparing quantities, as we discussed in class, are bar charts and dot plots.  __Bar charts__ represent values as proportional to the height of bars, and __dot plots__ represent values as dots along a given axis.  \n",
    "\n",
    "Many plot types are available in `pandas` through the built-in `.plot()` data frame method, and also have equivalent functions in `seaborn`.  In `pandas` plotting, if no data arguments are passed to the `plot` method, `pandas` will assume that the x-axis values are in the index, and then will plot numeric columns as data series.  For example, we can create a bar plot below.  Also notice the use of the `sns.set()` function.  Within `seaborn`, you can choose from a variety of built-in plot templates: `\"white\"`, `\"dark`\", `\"darkgrid\"`, `\"whitegrid\"`, and `\"ticks\"`, and you can use the `set` function to make all of your plots in this particular style.  "
   ]
  },
  {
   "cell_type": "code",
   "execution_count": 6,
   "metadata": {
    "collapsed": false
   },
   "outputs": [
    {
     "data": {
      "text/plain": [
       "<matplotlib.axes._subplots.AxesSubplot at 0x94c3d30>"
      ]
     },
     "execution_count": 6,
     "metadata": {},
     "output_type": "execute_result"
    },
    {
     "data": {
      "image/png": "[encoded data removed]",
      "text/plain": [
       "<matplotlib.figure.Figure at 0x94c3198>"
      ]
     },
     "metadata": {},
     "output_type": "display_data"
    }
   ],
   "source": [
    "sns.set(style = 'whitegrid')\n",
    "\n",
    "lex.plot(kind = 'bar')"
   ]
  },
  {
   "cell_type": "markdown",
   "metadata": {},
   "source": [
    "The `pandas` `.plot()` method is excellent for basic exploratory plotting.  However, `seaborn` is an excellent choice for creating publication-quality plots with a minimum of code as well.  To create plots in `seaborn`, we'll want to make sure that all of our data values are represented in columns; as such, we'll use the `.reset_index()` method to reset the index of our data frame.  \n",
    "\n",
    "Notice, however, that I'm resetting the index of my data frame and creating a new data frame, `lex2`, from that method call; this will preserve my `lex` data frame in case I need to go back to it.  If you prefer to modify the original data frame in place, you would use the syntax `lex.reset_index(inplace = True)` to do this.  \n",
    "\n",
    "We'll then rename the column representing life expectancy to `'lex'` which is easier to work with by modifying the `columns` attribute.  "
   ]
  },
  {
   "cell_type": "code",
   "execution_count": 7,
   "metadata": {
    "collapsed": false
   },
   "outputs": [
    {
     "data": {
      "text/html": [
       "<div>\n",
       "<table border=\"1\" class=\"dataframe\">\n",
       "  <thead>\n",
       "    <tr style=\"text-align: right;\">\n",
       "      <th></th>\n",
       "      <th>country</th>\n",
       "      <th>year</th>\n",
       "      <th>lex</th>\n",
       "    </tr>\n",
       "  </thead>\n",
       "  <tbody>\n",
       "    <tr>\n",
       "      <th>0</th>\n",
       "      <td>Canada</td>\n",
       "      <td>2013</td>\n",
       "      <td>81.401122</td>\n",
       "    </tr>\n",
       "    <tr>\n",
       "      <th>1</th>\n",
       "      <td>China</td>\n",
       "      <td>2013</td>\n",
       "      <td>75.353024</td>\n",
       "    </tr>\n",
       "    <tr>\n",
       "      <th>2</th>\n",
       "      <td>Germany</td>\n",
       "      <td>2013</td>\n",
       "      <td>81.043902</td>\n",
       "    </tr>\n",
       "    <tr>\n",
       "      <th>3</th>\n",
       "      <td>France</td>\n",
       "      <td>2013</td>\n",
       "      <td>81.968293</td>\n",
       "    </tr>\n",
       "    <tr>\n",
       "      <th>4</th>\n",
       "      <td>United Kingdom</td>\n",
       "      <td>2013</td>\n",
       "      <td>80.956098</td>\n",
       "    </tr>\n",
       "    <tr>\n",
       "      <th>5</th>\n",
       "      <td>Japan</td>\n",
       "      <td>2013</td>\n",
       "      <td>83.331951</td>\n",
       "    </tr>\n",
       "    <tr>\n",
       "      <th>6</th>\n",
       "      <td>United States</td>\n",
       "      <td>2013</td>\n",
       "      <td>78.841463</td>\n",
       "    </tr>\n",
       "  </tbody>\n",
       "</table>\n",
       "</div>"
      ],
      "text/plain": [
       "          country  year        lex\n",
       "0          Canada  2013  81.401122\n",
       "1           China  2013  75.353024\n",
       "2         Germany  2013  81.043902\n",
       "3          France  2013  81.968293\n",
       "4  United Kingdom  2013  80.956098\n",
       "5           Japan  2013  83.331951\n",
       "6   United States  2013  78.841463"
      ]
     },
     "execution_count": 7,
     "metadata": {},
     "output_type": "execute_result"
    }
   ],
   "source": [
    "lex2 = lex.reset_index()\n",
    "\n",
    "lex2.columns = ['country', 'year', 'lex']\n",
    "\n",
    "lex2"
   ]
  },
  {
   "cell_type": "markdown",
   "metadata": {},
   "source": [
    "Bar charts in `seaborn` are available from the `barplot` function.  The function has a lot of optional parameters; however, to get a bar chart to display, all you need are columns to map onto the x and y axes, and a dataset you'd like to plot.  Let's try a horizontal bar plot with the country name on the y-axis and data values on the x-axis: "
   ]
  },
  {
   "cell_type": "code",
   "execution_count": 8,
   "metadata": {
    "collapsed": false
   },
   "outputs": [
    {
     "data": {
      "text/plain": [
       "<matplotlib.axes._subplots.AxesSubplot at 0x981b518>"
      ]
     },
     "execution_count": 8,
     "metadata": {},
     "output_type": "execute_result"
    },
    {
     "data": {
      "image/png": "[encoded data removed]",
      "text/plain": [
       "<matplotlib.figure.Figure at 0x980fa90>"
      ]
     },
     "metadata": {},
     "output_type": "display_data"
    }
   ],
   "source": [
    "sns.barplot(x = 'lex', y = 'country', data = lex2)"
   ]
  },
  {
   "cell_type": "markdown",
   "metadata": {},
   "source": [
    "Looks good!  There is much more you can do with the plot - customizing colors, axis labels, and beyond.  We'll be addressing plot customization beginning in Week 10.  However, there are still some small things that we can do to make our plots more readable.  Recall from class our discussion of the `.sort()` data frame method, in which we can arrange our data based on one or more column values.  When creating bar charts, it is a good idea to show sorted data values, which makes it easier for the reader to make comparisons.  \n",
    "\n",
    "We have a few options here.  We could sort our data frame in place, then supply it to the `data` parameter of `barplot`: \n",
    "\n",
    "```python\n",
    "lex2.sort('lex', ascending = False, inplace = True)\n",
    "sns.barplot(x = 'lex', y = 'country', data = lex2)\n",
    "```\n",
    "\n",
    "We could create a new sorted data frame from the `sort` operation and use it instead: \n",
    "\n",
    "```python\n",
    "lex_sorted = lex2.sort('lex', ascending = False)\n",
    "sns.barplot(x = 'lex', y = 'country', data = lex_sorted)\n",
    "```\n",
    "\n",
    "Or, we could tell `seaborn` to work with a sorted data frame within the function call.  \n",
    "\n",
    "```python\n",
    "sns.barplot(x = 'lex', y = 'country', data = lex2.sort('lex', ascending = True))\n",
    "```\n",
    "\n",
    "All of these will work.  Recall that the `sort` method takes either a single column or a list of columns, and defaults to sorting in ascending order; if you want descending order you will need to tell the method `ascending = False`.  Let's try the second option I discussed.  "
   ]
  },
  {
   "cell_type": "code",
   "execution_count": 9,
   "metadata": {
    "collapsed": false
   },
   "outputs": [
    {
     "data": {
      "text/plain": [
       "<matplotlib.axes._subplots.AxesSubplot at 0x9b569b0>"
      ]
     },
     "execution_count": 9,
     "metadata": {},
     "output_type": "execute_result"
    },
    {
     "data": {
      "image/png": "[encoded data removed]",
      "text/plain": [
       "<matplotlib.figure.Figure at 0xbf44978>"
      ]
     },
     "metadata": {},
     "output_type": "display_data"
    }
   ],
   "source": [
    "lex_sorted = lex2.sort('lex', ascending = False)\n",
    "\n",
    "sns.barplot(x = 'lex', y = 'country', data = lex_sorted)"
   ]
  },
  {
   "cell_type": "markdown",
   "metadata": {},
   "source": [
    "Sorting the data allows us to more clearly see how the values vary.  However, as we discussed in class, it is essential that bar charts have an origin of 0, as bar heights are used to make comparisons.  For values that are similar - but for which the differences are still significant - the __dot plot__ may be preferable, which represents values by the position of dots along a a value axis.  Indeed, many data visualization experts prefer dot plots to bar charts, as they argue that it is easier for humans to perceive dot position instead of bar heights.  Further, dot plots are not constrained by the zero-axis-origin rule.  \n",
    "\n",
    "Dot plots in `seaborn` are available via the `stripplot` function; for reference, \"strip plot\" is another name for dot plot.  The syntax you'll use is identical to `barplot` in this example.  "
   ]
  },
  {
   "cell_type": "code",
   "execution_count": 10,
   "metadata": {
    "collapsed": false
   },
   "outputs": [
    {
     "data": {
      "text/plain": [
       "<matplotlib.axes._subplots.AxesSubplot at 0xc166fd0>"
      ]
     },
     "execution_count": 10,
     "metadata": {},
     "output_type": "execute_result"
    },
    {
     "data": {
      "image/png": "[encoded data removed]",
      "text/plain": [
       "<matplotlib.figure.Figure at 0xc1d1978>"
      ]
     },
     "metadata": {},
     "output_type": "display_data"
    }
   ],
   "source": [
    "sns.stripplot(x = 'lex', y = 'country', data = lex_sorted)"
   ]
  },
  {
   "cell_type": "markdown",
   "metadata": {},
   "source": [
    "### Scatter plots\n",
    "\n",
    "Bar charts and dot plots are excellent choices for visualizing quantitative variations amongst different categories, like countries.  However: what if you want to visualize how two quantitative attributes might covary?  The most common exploratory visualization technique for this type of scenario is the __scatter plot__.  \n",
    "\n",
    "Scatter plots most closely resemble the base __Cartesian coordinate system__ that underpins the charts we've learned how to make to this point.  In fact, scatter plots are likely familiar to you from grade-school mathematics in the way they represent the joint distributions of two attributes.  The value for one attribute is represented by the x-coordinate (the horizontal axis) on the chart, and the other attribute is represented by the y-coordinate (the vertical axis).  \n",
    "\n",
    "Let's give this a try.  We'll need some more data from the World Bank to accomplish this.  We'll be comparing the distributions of countries' __total fertility rate__, which measures the average number of children per woman (more or less) in a country, and countries' __infant mortality rate__, which measures the number of deaths to infants aged 1 and below per 1000 live births.  We'll grab data for all countries for 2012; I'm getting rid of the rows that don't represent countries and that have missing values (you'll learn how to do this yourselves in the next couple weeks)"
   ]
  },
  {
   "cell_type": "code",
   "execution_count": 11,
   "metadata": {
    "collapsed": false
   },
   "outputs": [
    {
     "data": {
      "text/html": [
       "<div>\n",
       "<table border=\"1\" class=\"dataframe\">\n",
       "  <thead>\n",
       "    <tr style=\"text-align: right;\">\n",
       "      <th></th>\n",
       "      <th></th>\n",
       "      <th>tfr</th>\n",
       "      <th>imr</th>\n",
       "    </tr>\n",
       "    <tr>\n",
       "      <th>country</th>\n",
       "      <th>year</th>\n",
       "      <th></th>\n",
       "      <th></th>\n",
       "    </tr>\n",
       "  </thead>\n",
       "  <tbody>\n",
       "    <tr>\n",
       "      <th>Afghanistan</th>\n",
       "      <th>2012</th>\n",
       "      <td>5.141</td>\n",
       "      <td>71.7</td>\n",
       "    </tr>\n",
       "    <tr>\n",
       "      <th>Albania</th>\n",
       "      <th>2012</th>\n",
       "      <td>1.760</td>\n",
       "      <td>13.8</td>\n",
       "    </tr>\n",
       "    <tr>\n",
       "      <th>Algeria</th>\n",
       "      <th>2012</th>\n",
       "      <td>2.820</td>\n",
       "      <td>22.4</td>\n",
       "    </tr>\n",
       "    <tr>\n",
       "      <th>Angola</th>\n",
       "      <th>2012</th>\n",
       "      <td>5.979</td>\n",
       "      <td>104.1</td>\n",
       "    </tr>\n",
       "    <tr>\n",
       "      <th>Antigua and Barbuda</th>\n",
       "      <th>2012</th>\n",
       "      <td>2.102</td>\n",
       "      <td>6.8</td>\n",
       "    </tr>\n",
       "  </tbody>\n",
       "</table>\n",
       "</div>"
      ],
      "text/plain": [
       "                            tfr    imr\n",
       "country             year              \n",
       "Afghanistan         2012  5.141   71.7\n",
       "Albania             2012  1.760   13.8\n",
       "Algeria             2012  2.820   22.4\n",
       "Angola              2012  5.979  104.1\n",
       "Antigua and Barbuda 2012  2.102    6.8"
      ]
     },
     "execution_count": 11,
     "metadata": {},
     "output_type": "execute_result"
    }
   ],
   "source": [
    "df = wb.download(indicator = ['SP.DYN.TFRT.IN', 'SP.DYN.IMRT.IN'], country = 'all', start = 2012, end = 2012)\n",
    "\n",
    "df2 = df[34:].dropna()\n",
    "\n",
    "df2.columns = ['tfr', 'imr']\n",
    "\n",
    "df2.head()"
   ]
  },
  {
   "cell_type": "markdown",
   "metadata": {},
   "source": [
    "Let's now take a quick peek at the characteristics of our data: "
   ]
  },
  {
   "cell_type": "code",
   "execution_count": 12,
   "metadata": {
    "collapsed": false
   },
   "outputs": [
    {
     "data": {
      "text/html": [
       "<div>\n",
       "<table border=\"1\" class=\"dataframe\">\n",
       "  <thead>\n",
       "    <tr style=\"text-align: right;\">\n",
       "      <th></th>\n",
       "      <th>tfr</th>\n",
       "      <th>imr</th>\n",
       "    </tr>\n",
       "  </thead>\n",
       "  <tbody>\n",
       "    <tr>\n",
       "      <th>count</th>\n",
       "      <td>185.000000</td>\n",
       "      <td>185.000000</td>\n",
       "    </tr>\n",
       "    <tr>\n",
       "      <th>mean</th>\n",
       "      <td>2.901976</td>\n",
       "      <td>26.667027</td>\n",
       "    </tr>\n",
       "    <tr>\n",
       "      <th>std</th>\n",
       "      <td>1.447172</td>\n",
       "      <td>24.185736</td>\n",
       "    </tr>\n",
       "    <tr>\n",
       "      <th>min</th>\n",
       "      <td>1.260000</td>\n",
       "      <td>1.600000</td>\n",
       "    </tr>\n",
       "    <tr>\n",
       "      <th>25%</th>\n",
       "      <td>1.800000</td>\n",
       "      <td>6.800000</td>\n",
       "    </tr>\n",
       "    <tr>\n",
       "      <th>50%</th>\n",
       "      <td>2.389000</td>\n",
       "      <td>16.000000</td>\n",
       "    </tr>\n",
       "    <tr>\n",
       "      <th>75%</th>\n",
       "      <td>3.844000</td>\n",
       "      <td>39.700000</td>\n",
       "    </tr>\n",
       "    <tr>\n",
       "      <th>max</th>\n",
       "      <td>7.574000</td>\n",
       "      <td>104.100000</td>\n",
       "    </tr>\n",
       "  </tbody>\n",
       "</table>\n",
       "</div>"
      ],
      "text/plain": [
       "              tfr         imr\n",
       "count  185.000000  185.000000\n",
       "mean     2.901976   26.667027\n",
       "std      1.447172   24.185736\n",
       "min      1.260000    1.600000\n",
       "25%      1.800000    6.800000\n",
       "50%      2.389000   16.000000\n",
       "75%      3.844000   39.700000\n",
       "max      7.574000  104.100000"
      ]
     },
     "execution_count": 12,
     "metadata": {},
     "output_type": "execute_result"
    }
   ],
   "source": [
    "df2.describe()"
   ]
  },
  {
   "cell_type": "markdown",
   "metadata": {},
   "source": [
    "You can get a sense here of the wide variations among countries; TFR varies from 1.26 children/woman to 7.57, and infant mortality ranges from 1.6 infant deaths/1000 live births to over 104, which is astonishing in 2012.  \n",
    "\n",
    "So how do these two distributions of values covary?  We can assess this quickly with the versatile `.plot()` method in `pandas`.  "
   ]
  },
  {
   "cell_type": "code",
   "execution_count": 13,
   "metadata": {
    "collapsed": false
   },
   "outputs": [
    {
     "data": {
      "text/plain": [
       "<matplotlib.axes._subplots.AxesSubplot at 0xc1ca4e0>"
      ]
     },
     "execution_count": 13,
     "metadata": {},
     "output_type": "execute_result"
    },
    {
     "data": {
      "image/png": "[encoded data removed]",
      "text/plain": [
       "<matplotlib.figure.Figure at 0xc205748>"
      ]
     },
     "metadata": {},
     "output_type": "display_data"
    }
   ],
   "source": [
    "df2.plot(x = 'imr', y = 'tfr', kind = 'scatter')"
   ]
  },
  {
   "cell_type": "markdown",
   "metadata": {},
   "source": [
    "Notice the shape formed by the distribution of dots.  It appears from our plot that as infant mortality increases, fertility increases as well, suggesting a __positive relationship__ between the two distributions.  Recall from class that this statistical relationship can be quantified with a __correlation coefficient__.  Let's check this out by using the `.corr()` method available to us in `pandas`: "
   ]
  },
  {
   "cell_type": "code",
   "execution_count": 14,
   "metadata": {
    "collapsed": false
   },
   "outputs": [
    {
     "data": {
      "text/plain": [
       "0.84677101176557701"
      ]
     },
     "execution_count": 14,
     "metadata": {},
     "output_type": "execute_result"
    }
   ],
   "source": [
    "df2['imr'].corr(df2['tfr'])"
   ]
  },
  {
   "cell_type": "markdown",
   "metadata": {},
   "source": [
    "As we discussed in class, Pearson's correlation coefficient (which is used here) ranges between -1 and +1, with positive values suggestive of a positive correlation and vice versa.  This statistic conforms with what we see in the scatter plot.  However: remember to beware of spurious correlations!  We'll learn some more methods for investigating this graphically throughout the semester.  \n",
    "\n",
    "Scatter plots are also available in `seaborn`, with some additional options.  Both the `lmplot` (\"linear model plot\") and `regplot` (\"regression plot\") functions will get this done.  Let's try: "
   ]
  },
  {
   "cell_type": "code",
   "execution_count": 15,
   "metadata": {
    "collapsed": false
   },
   "outputs": [
    {
     "data": {
      "text/plain": [
       "<seaborn.axisgrid.FacetGrid at 0xc2c0978>"
      ]
     },
     "execution_count": 15,
     "metadata": {},
     "output_type": "execute_result"
    },
    {
     "data": {
      "image/png": "[encoded data removed]",
      "text/plain": [
       "<matplotlib.figure.Figure at 0xbfb4400>"
      ]
     },
     "metadata": {},
     "output_type": "display_data"
    }
   ],
   "source": [
    "sns.lmplot(x = 'imr', y = 'tfr', data = df2)"
   ]
  },
  {
   "cell_type": "markdown",
   "metadata": {},
   "source": [
    "The plot is similar, but notice the superimposition of a __regression line__ over the dots.  You can think of this line as a visual representation of the correlation between the two variables; the upward slope, again, suggests a positive relationship.  This line also presumes that the relationship between the two variables is __linear__, which is not always the case; we'll discuss this a bit more later in the semester.  \n",
    "\n",
    "`seaborn` also has additional options for drawing multi-dimensional plots.  You'll learn much more about this in the second half of the semester, but here's a preview of the `jointplot` function.  "
   ]
  },
  {
   "cell_type": "code",
   "execution_count": 16,
   "metadata": {
    "collapsed": false
   },
   "outputs": [
    {
     "data": {
      "text/plain": [
       "<seaborn.axisgrid.JointGrid at 0xc2d8fd0>"
      ]
     },
     "execution_count": 16,
     "metadata": {},
     "output_type": "execute_result"
    },
    {
     "data": {
      "image/png": "[encoded data removed]",
      "text/plain": [
       "<matplotlib.figure.Figure at 0xc2d83c8>"
      ]
     },
     "metadata": {},
     "output_type": "display_data"
    }
   ],
   "source": [
    "sns.jointplot(x = 'imr', y = 'tfr', data = df2)"
   ]
  },
  {
   "cell_type": "markdown",
   "metadata": {
    "collapsed": true
   },
   "source": [
    "`seaborn` draws a scatter plot, but with histograms of the two data distributions on the margins, and includes the Pearson correlation coefficient!  "
   ]
  },
  {
   "cell_type": "markdown",
   "metadata": {},
   "source": [
    "## Exercises\n",
    "\n",
    "As usual, I'll ask you to do some of this on your own now in the form of a few small exercises.  Take care to answer all of the questions!  \n",
    "\n",
    "__Exercise 1__: Explain, in your own words, the differences between a bar chart and a dot plot.  When might one of these charts be preferable to the other?  Write your response below in this Markdown cell.  "
   ]
  },
  {
   "cell_type": "markdown",
   "metadata": {},
   "source": [
    "---\n",
    "\n",
    "As we know, recent economic crises have had widely disparate impacts across the European Union.  You'll be analyzing these disparate impacts by downloading unemployment data for European Union members from the World Bank and plotting it.  \n",
    "\n",
    "Exercises 2 and 3 will use data from the cell below; run the cell to fetch the data from the World Bank and create a data frame from it called `ex2`."
   ]
  },
  {
   "cell_type": "code",
   "execution_count": 19,
   "metadata": {
    "collapsed": false
   },
   "outputs": [],
   "source": [
    "eu_countries = ['BE', 'BG', 'CZ', 'DK', 'DE', 'EE', 'IE', 'GR', 'ES', 'FR', 'HR', \n",
    "               'IT', 'CY', 'LV', 'LT', 'LU', 'HU', 'MT', 'NL', 'AT', 'PL', 'PT', \n",
    "               'RO', 'SI', 'SK', 'FI', 'SE', 'GB']\n",
    "\n",
    "ex2 = wb.download(indicator = \"SL.UEM.TOTL.ZS\", country = eu_countries, start = 2013, end = 2013)\n",
    "\n",
    "ex2.reset_index(inplace = True)\n",
    "\n",
    "ex2.columns = ['country', 'year', 'unemployment']"
   ]
  },
  {
   "cell_type": "markdown",
   "metadata": {},
   "source": [
    "__Exercise 2__: Sort your data frame in descending order.  Which EU country had the highest unemployment rate in 2013?  Which EU country had the lowest rate?  "
   ]
  },
  {
   "cell_type": "code",
   "execution_count": null,
   "metadata": {
    "collapsed": false
   },
   "outputs": [],
   "source": []
  },
  {
   "cell_type": "markdown",
   "metadata": {},
   "source": [
    "__Exercise 3__: Use `seaborn` to create either a dot plot or bar chart of unemployment in Europe using your sorted data frame. "
   ]
  },
  {
   "cell_type": "code",
   "execution_count": null,
   "metadata": {
    "collapsed": false
   },
   "outputs": [],
   "source": []
  },
  {
   "cell_type": "markdown",
   "metadata": {},
   "source": [
    "---\n",
    "\n",
    "In Exercises 4 and 5, you are going to examine the (potential) relationship between rates of tuberculosis per 100,000 people and the percent of the population with access to improved sanitation facilities (e.g. sewers/flush toilets) in 2013 for countries in the world.  \n",
    "\n",
    "Run the cell below to return a data frame named `ex4` with the necessary data.  "
   ]
  },
  {
   "cell_type": "code",
   "execution_count": 33,
   "metadata": {
    "collapsed": false
   },
   "outputs": [],
   "source": [
    "ex4 = wb.download(indicator = ['SH.TBS.INCD', 'SH.STA.ACSN'], country = 'all', start = 2013, end = 2013)\n",
    "\n",
    "ex4 = ex4[34:].dropna()\n",
    "\n",
    "ex4.columns = ['tb_rate', 'impr_sanitation']"
   ]
  },
  {
   "cell_type": "markdown",
   "metadata": {},
   "source": [
    "__Exercise 4__: Use `seaborn` to draw a scatter plot that shows the relationship between rates of infection for tuberculosis and access to improved sanitation facilities.  "
   ]
  },
  {
   "cell_type": "code",
   "execution_count": null,
   "metadata": {
    "collapsed": false
   },
   "outputs": [],
   "source": []
  },
  {
   "cell_type": "markdown",
   "metadata": {},
   "source": [
    "__Exercise 5:__ Calculate the correlation coefficient for countries' rates of TB infections and improved santitation access.  What appears to be the relationship between the two variables?  "
   ]
  },
  {
   "cell_type": "code",
   "execution_count": null,
   "metadata": {
    "collapsed": true
   },
   "outputs": [],
   "source": []
  }
 ],
 "metadata": {
  "kernelspec": {
   "display_name": "Python 3",
   "language": "python",
   "name": "python3"
  },
  "language_info": {
   "codemirror_mode": {
    "name": "ipython",
    "version": 3
   },
   "file_extension": ".py",
   "mimetype": "text/x-python",
   "name": "python",
   "nbconvert_exporter": "python",
   "pygments_lexer": "ipython3",
   "version": "3.4.3"
  }
 },
 "nbformat": 4,
 "nbformat_minor": 0
}
