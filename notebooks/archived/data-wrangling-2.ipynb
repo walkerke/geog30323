{
 "cells": [
  {
   "cell_type": "markdown",
   "metadata": {},
   "source": [
    "## Assignment 8: Wrangling data from APIs\n",
    "\n",
    "The previous assignment gave you some experience with the data wrangling functionality of `pandas`; this are skills you'll be returning to throughout the semester.  In this assignment, you'll be expanding upon those skills by working with data from the City of Fort Worth's Open Data API.  As you learned in class, data APIs are interfaces that allow you to access data programmatically.  In turn, data APIs allow data to be accessed by applications such as websites, or in this case a data analysis pipeline.  \n",
    "\n",
    "Fort Worth's Open Data API is powered by [Socrata](http://www.socrata.com/), a start-up that helps cities open up their data catalogs to the public.  Many other cities, including [New York City](https://nycopendata.socrata.com/) and [Dallas](https://www.dallasopendata.com/), use Socrata as well.  Fort Worth's open data catalog is small, but growing, and the city's use of Socrata makes its data available in many different ways.  \n",
    "\n",
    "In this assignment we'll be working with Fort Worth Police crime data, available at this link: https://data.fortworthtexas.gov/Public-Safety-Courts/Crime-Data/k6ic-7kp7.  The data include observations going back more than 100 years!  However, we'll be working with more recent data as we can presume that they are more complete.  \n",
    "\n",
    "The Socrata web interface includes a lot of options for filtering, manipulating, and visualizing the data.  As we want to be able to access it inside our data analysis environment in `pandas`, however, we'll want to be able to access it directly.  Socrata gives several options for exporting the data in a variety of formats, including CSV; however, you are going to learn in this assignment how to access the data through Socrata's open data API.  \n",
    "\n",
    "Generally, data APIs make data available in one of two formats: JSON (__J__ava__S__cript __O__bject __N__otation) or XML (e__X__tensible __M__arkup __L__anguage).  JSON is becoming the more common of the two, as it fits well within the structure of modern websites, which rely heavily on the JavaScript programming language.  \n",
    "\n",
    "JSON is a way of encoding data objects with JavaScript, and organizes data as a series objects represented by key-value pairs.  In terms of how you are used to thinking about data, the __object__ represents a record, the __key__ represents a column header, and the __value__ represents a data value.  Let's take a look at a single JSON record from the crime database (run the cell to display it if it doesn't show): "
   ]
  },
  {
   "cell_type": "code",
   "execution_count": 1,
   "metadata": {
    "collapsed": false
   },
   "outputs": [
    {
     "data": {
      "text/html": [
       "\n",
       "        <iframe\n",
       "            width=\"700\"\n",
       "            height=\"450\"\n",
       "            src=\"https://data.fortworthtexas.gov/resource/k6ic-7kp7.json?case_no=63560\"\n",
       "            frameborder=\"0\"\n",
       "            allowfullscreen\n",
       "        ></iframe>\n",
       "        "
      ],
      "text/plain": [
       "<IPython.lib.display.IFrame at 0x44660b8>"
      ]
     },
     "execution_count": 1,
     "metadata": {},
     "output_type": "execute_result"
    }
   ],
   "source": [
    "from IPython.display import IFrame\n",
    "\n",
    "IFrame('https://data.fortworthtexas.gov/resource/k6ic-7kp7.json?case_no=63560', width = 700, height = 450)"
   ]
  },
  {
   "cell_type": "markdown",
   "metadata": {},
   "source": [
    "The code you see above is new: I'm using the capabilities of the Jupyter Notebook to display an embedded web page.  Trust me, we haven't even scratched the surface of what the Notebook can do; it can display animated GIFs, YouTube videos, interactive charts/maps, and much more!  Here, I'm showing the contents of the URL https://data.fortworthtexas.gov/resource/k6ic-7kp7.json?case_no=63560 - click it to take a look if you want - which queries Fort Worth's open data API and returns a single record from the crime dataset.  Let's break the URL down a little bit.  \n",
    "\n",
    "The first part, https://data.fortworthtexas.gov/resource/k6ic-7kp7.json, is the __API endpoint__.  This is the root directory of the data API; if you were to follow that link, you'd see the entire dataset in JSON format.  The second part, `?case_no=63560`, is a __filter__; the question mark signifies that I am going to query the data, and the string that follows, `case_no=63560`, specifies how the data are to be subsetted.  I've done this all in the URL of the API call!\n",
    "\n",
    "Additionally, the Socrata API recognizes a query language they call \"SoQL\", which operates against the API in a similar way to how SQL (Structured Query Language) allows users to access databases.  More information is here: http://dev.socrata.com/docs/queries.html.  For example, the following query will return burglaries in Fort Worth for December 2014: "
   ]
  },
  {
   "cell_type": "code",
   "execution_count": 2,
   "metadata": {
    "collapsed": false
   },
   "outputs": [
    {
     "data": {
      "text/html": [
       "\n",
       "        <iframe\n",
       "            width=\"700\"\n",
       "            height=\"450\"\n",
       "            src=\"https://data.fortworthtexas.gov/resource/k6ic-7kp7.json?$where=offense_desc = 'Burglary' AND from_date > '2014-12-01 00:00:00' AND from_date < '2015-01-01 00:00:00' \"\n",
       "            frameborder=\"0\"\n",
       "            allowfullscreen\n",
       "        ></iframe>\n",
       "        "
      ],
      "text/plain": [
       "<IPython.lib.display.IFrame at 0x4466c88>"
      ]
     },
     "execution_count": 2,
     "metadata": {},
     "output_type": "execute_result"
    }
   ],
   "source": [
    "# This is the API endpoint - the source of our data\n",
    "endpoint = \"https://data.fortworthtexas.gov/resource/k6ic-7kp7.json\"\n",
    "\n",
    "# Here is the first part of the SoQL query - denoting what type of offense we want\n",
    "type_query = \"?$where=offense_desc = 'Burglary'\"\n",
    "\n",
    "# Here is the second part of the query - we are taking offenses after midnight on December 1, \n",
    "# and prior to midnight on January 1\n",
    "date_query = \" AND from_date > '2014-12-01 00:00:00' AND from_date < '2015-01-01 00:00:00' \"\n",
    "\n",
    "# We then concatenate together the endpoint and the two components of the SoQL query\n",
    "# to get our API call.  \n",
    "burglary_call = endpoint + type_query + date_query\n",
    "\n",
    "IFrame(burglary_call, width = 700, height = 450)"
   ]
  },
  {
   "cell_type": "markdown",
   "metadata": {},
   "source": [
    "The `read_json()` function in `pandas` can then translate JSON to a nice data frame.  However, we'll first need to translate our long query to a URL-appropriate string that `pandas` can use.  Currently, our API call looks like this: "
   ]
  },
  {
   "cell_type": "code",
   "execution_count": 4,
   "metadata": {
    "collapsed": false
   },
   "outputs": [
    {
     "data": {
      "text/plain": [
       "\"https://data.fortworthtexas.gov/resource/k6ic-7kp7.json?$where=offense_desc = 'Burglary' AND from_date > '2014-12-01 00:00:00' AND from_date < '2015-01-01 00:00:00' \""
      ]
     },
     "execution_count": 4,
     "metadata": {},
     "output_type": "execute_result"
    }
   ],
   "source": [
    "burglary_call"
   ]
  },
  {
   "cell_type": "markdown",
   "metadata": {},
   "source": [
    "However, as there are spaces and special characters in the query, `pandas` needs the string as it will be translated in the web browser.  Fortunately, Python has a built-in library, `urllib`, that can assist with this.  The `quote` function in the `parse` module gets this done, so let's import it and format the URL accordingly.  Note the argument supplied to the `safe` parameter, which denotes characters we don't want to convert.  Take a look at how the URL changes: "
   ]
  },
  {
   "cell_type": "code",
   "execution_count": 10,
   "metadata": {
    "collapsed": false
   },
   "outputs": [
    {
     "data": {
      "text/plain": [
       "'https://data.fortworthtexas.gov/resource/k6ic-7kp7.json?$where=offense_desc%20=%20%27Burglary%27%20AND%20from_date%20>%20%272014-12-01%2000:00:00%27%20AND%20from_date%20<%20%272015-01-01%2000:00:00%27%20'"
      ]
     },
     "execution_count": 10,
     "metadata": {},
     "output_type": "execute_result"
    }
   ],
   "source": [
    "from urllib.parse import quote\n",
    "\n",
    "quote(burglary_call, safe = \"/:?$=<->\")"
   ]
  },
  {
   "cell_type": "markdown",
   "metadata": {},
   "source": [
    "We can use this formatted URL in a `read_json` call now using `pandas`, creating a new data frame called `burg_df`.  "
   ]
  },
  {
   "cell_type": "code",
   "execution_count": 11,
   "metadata": {
    "collapsed": false
   },
   "outputs": [
    {
     "data": {
      "text/plain": [
       "(586, 18)"
      ]
     },
     "execution_count": 11,
     "metadata": {},
     "output_type": "execute_result"
    }
   ],
   "source": [
    "import pandas as pd\n",
    "\n",
    "formatted_call = quote(burglary_call, safe = \"/:?$=<->\")\n",
    "\n",
    "burg_df = pd.read_json(formatted_call)\n",
    "\n",
    "burg_df.shape"
   ]
  },
  {
   "cell_type": "markdown",
   "metadata": {},
   "source": [
    "Our API call has returned 586 burglaries in Fort Worth in December of 2014.  Let's take a quick peek at the data: "
   ]
  },
  {
   "cell_type": "code",
   "execution_count": 12,
   "metadata": {
    "collapsed": false
   },
   "outputs": [
    {
     "data": {
      "text/html": [
       "<div>\n",
       "<table border=\"1\" class=\"dataframe\">\n",
       "  <thead>\n",
       "    <tr style=\"text-align: right;\">\n",
       "      <th></th>\n",
       "      <th>attempt_complete</th>\n",
       "      <th>beat</th>\n",
       "      <th>block_address</th>\n",
       "      <th>case_no</th>\n",
       "      <th>case_no_offense</th>\n",
       "      <th>city</th>\n",
       "      <th>councildistrict</th>\n",
       "      <th>division</th>\n",
       "      <th>from_date</th>\n",
       "      <th>inttotal</th>\n",
       "      <th>location_1</th>\n",
       "      <th>location_type</th>\n",
       "      <th>locationtypedescription</th>\n",
       "      <th>nature_of_call</th>\n",
       "      <th>offense</th>\n",
       "      <th>offense_desc</th>\n",
       "      <th>reported_date</th>\n",
       "      <th>state</th>\n",
       "    </tr>\n",
       "  </thead>\n",
       "  <tbody>\n",
       "    <tr>\n",
       "      <th>0</th>\n",
       "      <td>C</td>\n",
       "      <td>E13</td>\n",
       "      <td>7500 BLOCK  BRENTWOOD STAIR RD</td>\n",
       "      <td>140115132</td>\n",
       "      <td>140115132-220</td>\n",
       "      <td>Fort Worth</td>\n",
       "      <td>5</td>\n",
       "      <td>E</td>\n",
       "      <td>2014-12-01T00:00:00</td>\n",
       "      <td>0</td>\n",
       "      <td>NaN</td>\n",
       "      <td>20</td>\n",
       "      <td>Residence, home</td>\n",
       "      <td>BURG RES</td>\n",
       "      <td>220</td>\n",
       "      <td>Burglary</td>\n",
       "      <td>2014-12-01T00:00:00</td>\n",
       "      <td>TX</td>\n",
       "    </tr>\n",
       "    <tr>\n",
       "      <th>1</th>\n",
       "      <td>C</td>\n",
       "      <td>S43</td>\n",
       "      <td>10600 BLOCK  BILSKY BAY DR</td>\n",
       "      <td>140115143</td>\n",
       "      <td>140115143-220</td>\n",
       "      <td>Fort Worth</td>\n",
       "      <td>6</td>\n",
       "      <td>S</td>\n",
       "      <td>2014-12-01T00:00:00</td>\n",
       "      <td>0</td>\n",
       "      <td>NaN</td>\n",
       "      <td>20</td>\n",
       "      <td>Residence, home</td>\n",
       "      <td>BURG RES</td>\n",
       "      <td>220</td>\n",
       "      <td>Burglary</td>\n",
       "      <td>2014-12-01T00:00:00</td>\n",
       "      <td>TX</td>\n",
       "    </tr>\n",
       "    <tr>\n",
       "      <th>2</th>\n",
       "      <td>C</td>\n",
       "      <td>E13</td>\n",
       "      <td>7300 BLOCK D ANDERSON BL</td>\n",
       "      <td>140115248</td>\n",
       "      <td>140115248-220</td>\n",
       "      <td>Fort Worth</td>\n",
       "      <td>4</td>\n",
       "      <td>E</td>\n",
       "      <td>2014-12-01T00:00:00</td>\n",
       "      <td>0</td>\n",
       "      <td>NaN</td>\n",
       "      <td>20</td>\n",
       "      <td>Residence, home</td>\n",
       "      <td>BURG RES</td>\n",
       "      <td>220</td>\n",
       "      <td>Burglary</td>\n",
       "      <td>2014-12-01T00:00:00</td>\n",
       "      <td>TX</td>\n",
       "    </tr>\n",
       "    <tr>\n",
       "      <th>3</th>\n",
       "      <td>C</td>\n",
       "      <td>W43</td>\n",
       "      <td>2500 BLOCK  WAKECREST DR</td>\n",
       "      <td>140115273</td>\n",
       "      <td>140115273-220</td>\n",
       "      <td>Fort Worth</td>\n",
       "      <td>7</td>\n",
       "      <td>W</td>\n",
       "      <td>2014-12-01T00:00:00</td>\n",
       "      <td>0</td>\n",
       "      <td>NaN</td>\n",
       "      <td>20</td>\n",
       "      <td>Residence, home</td>\n",
       "      <td>BURG RES</td>\n",
       "      <td>220</td>\n",
       "      <td>Burglary</td>\n",
       "      <td>2014-12-01T00:00:00</td>\n",
       "      <td>TX</td>\n",
       "    </tr>\n",
       "    <tr>\n",
       "      <th>4</th>\n",
       "      <td>C</td>\n",
       "      <td>W42</td>\n",
       "      <td>9000 BLOCK S NORMANDALE ST</td>\n",
       "      <td>140115293</td>\n",
       "      <td>140115293-220</td>\n",
       "      <td>Fort Worth</td>\n",
       "      <td>7</td>\n",
       "      <td>W</td>\n",
       "      <td>2014-12-01T00:00:00</td>\n",
       "      <td>0</td>\n",
       "      <td>{'longitude': '-97.4741003148882', 'latitude':...</td>\n",
       "      <td>20</td>\n",
       "      <td>Residence, home</td>\n",
       "      <td>BURG RES</td>\n",
       "      <td>220</td>\n",
       "      <td>Burglary</td>\n",
       "      <td>2014-12-01T00:00:00</td>\n",
       "      <td>TX</td>\n",
       "    </tr>\n",
       "  </tbody>\n",
       "</table>\n",
       "</div>"
      ],
      "text/plain": [
       "  attempt_complete beat                   block_address    case_no  \\\n",
       "0                C  E13  7500 BLOCK  BRENTWOOD STAIR RD  140115132   \n",
       "1                C  S43      10600 BLOCK  BILSKY BAY DR  140115143   \n",
       "2                C  E13        7300 BLOCK D ANDERSON BL  140115248   \n",
       "3                C  W43        2500 BLOCK  WAKECREST DR  140115273   \n",
       "4                C  W42      9000 BLOCK S NORMANDALE ST  140115293   \n",
       "\n",
       "  case_no_offense        city  councildistrict division            from_date  \\\n",
       "0   140115132-220  Fort Worth                5        E  2014-12-01T00:00:00   \n",
       "1   140115143-220  Fort Worth                6        S  2014-12-01T00:00:00   \n",
       "2   140115248-220  Fort Worth                4        E  2014-12-01T00:00:00   \n",
       "3   140115273-220  Fort Worth                7        W  2014-12-01T00:00:00   \n",
       "4   140115293-220  Fort Worth                7        W  2014-12-01T00:00:00   \n",
       "\n",
       "   inttotal                                         location_1  location_type  \\\n",
       "0         0                                                NaN             20   \n",
       "1         0                                                NaN             20   \n",
       "2         0                                                NaN             20   \n",
       "3         0                                                NaN             20   \n",
       "4         0  {'longitude': '-97.4741003148882', 'latitude':...             20   \n",
       "\n",
       "  locationtypedescription nature_of_call  offense offense_desc  \\\n",
       "0         Residence, home       BURG RES      220     Burglary   \n",
       "1         Residence, home       BURG RES      220     Burglary   \n",
       "2         Residence, home       BURG RES      220     Burglary   \n",
       "3         Residence, home       BURG RES      220     Burglary   \n",
       "4         Residence, home       BURG RES      220     Burglary   \n",
       "\n",
       "         reported_date state  \n",
       "0  2014-12-01T00:00:00    TX  \n",
       "1  2014-12-01T00:00:00    TX  \n",
       "2  2014-12-01T00:00:00    TX  \n",
       "3  2014-12-01T00:00:00    TX  \n",
       "4  2014-12-01T00:00:00    TX  "
      ]
     },
     "execution_count": 12,
     "metadata": {},
     "output_type": "execute_result"
    }
   ],
   "source": [
    "burg_df.head()"
   ]
  },
  {
   "cell_type": "markdown",
   "metadata": {
    "collapsed": false
   },
   "source": [
    "Notice how `pandas` has translated the JSON into a data frame with columns that make sense to us.  There is a lot we can do with the data here!  We have information about the date of the crime; the location - including lat/long coordinates, that need some additional parsing - the police beat, and the city council district.  Using the methods we've learned to this point, we can do some basic analysis of the data.  For example: how did burglary vary by city council district in December of last year?  "
   ]
  },
  {
   "cell_type": "code",
   "execution_count": 13,
   "metadata": {
    "collapsed": false
   },
   "outputs": [
    {
     "data": {
      "text/plain": [
       "councildistrict\n",
       "2     99\n",
       "3     54\n",
       "4     59\n",
       "5    106\n",
       "6     72\n",
       "7     59\n",
       "8     83\n",
       "9     54\n",
       "dtype: int64"
      ]
     },
     "execution_count": 13,
     "metadata": {},
     "output_type": "execute_result"
    }
   ],
   "source": [
    "g = burg_df.groupby('councildistrict')\n",
    "\n",
    "g.size()"
   ]
  },
  {
   "cell_type": "markdown",
   "metadata": {
    "collapsed": false
   },
   "source": [
    "Looks like District 5 had the most burglaries, followed by District 2.  Let's try plotting this with `seaborn`: "
   ]
  },
  {
   "cell_type": "code",
   "execution_count": 14,
   "metadata": {
    "collapsed": false
   },
   "outputs": [
    {
     "data": {
      "text/plain": [
       "<matplotlib.axes._subplots.AxesSubplot at 0x9f55ba8>"
      ]
     },
     "execution_count": 14,
     "metadata": {},
     "output_type": "execute_result"
    },
    {
     "data": {
      "image/png": "[encoded data removed]",
      "text/plain": [
       "<matplotlib.figure.Figure at 0x2a945f8>"
      ]
     },
     "metadata": {},
     "output_type": "display_data"
    }
   ],
   "source": [
    "import seaborn as sns\n",
    "%matplotlib inline\n",
    "\n",
    "sns.set_context('notebook')\n",
    "\n",
    "sns.countplot(data = burg_df, y = 'councildistrict', order = range(2, 10))"
   ]
  },
  {
   "cell_type": "markdown",
   "metadata": {},
   "source": [
    "A trained observer, however, would notice that that data are not normalized for population.  As data analysts, always be mindful of whether your analysis accurately represents the underlying variation in your data.  Data can easily mislead if not presented correctly; for example, while the largest cities in the United States will usually have the most crimes, they won't necessarily have the highest crime __rates__.  \n",
    "\n",
    "However, we don't have city council district population in our dataset; in turn, we'll need to fetch it from somewhere else and __merge__ it to our existing data.  As we discussed in class, merges are based on __key fields__ that match between two different tables.  Also, recall from class our discussion of the four types of merges available to you in `pandas` via the `.merge()` method, which can be passed as arguments to the `how` parameter: \n",
    "\n",
    "* `'inner'` (the default): only the matching rows are retained\n",
    "* `'left'`: all rows from the first table are retained; only matching rows from the second table are retained\n",
    "* `'right'`: all rows from the second table are retained; only matching rows from the first table are retained\n",
    "* `'outer'`: all rows are retained, regardless of a match between the two tables\n",
    "\n",
    "We'll be conducting a very simple merge here, in which all rows will match between the two tables.  Let's read in the city council population data from my website:  "
   ]
  },
  {
   "cell_type": "code",
   "execution_count": 15,
   "metadata": {
    "collapsed": false
   },
   "outputs": [
    {
     "data": {
      "text/html": [
       "<div>\n",
       "<table border=\"1\" class=\"dataframe\">\n",
       "  <thead>\n",
       "    <tr style=\"text-align: right;\">\n",
       "      <th></th>\n",
       "      <th>name</th>\n",
       "      <th>district</th>\n",
       "      <th>total</th>\n",
       "    </tr>\n",
       "  </thead>\n",
       "  <tbody>\n",
       "    <tr>\n",
       "      <th>0</th>\n",
       "      <td>2 - Salvador Espino</td>\n",
       "      <td>2</td>\n",
       "      <td>93845</td>\n",
       "    </tr>\n",
       "    <tr>\n",
       "      <th>1</th>\n",
       "      <td>3 - Zim Zimmerman</td>\n",
       "      <td>3</td>\n",
       "      <td>93122</td>\n",
       "    </tr>\n",
       "    <tr>\n",
       "      <th>2</th>\n",
       "      <td>4 - Cary Moon</td>\n",
       "      <td>4</td>\n",
       "      <td>96603</td>\n",
       "    </tr>\n",
       "    <tr>\n",
       "      <th>3</th>\n",
       "      <td>9 - Ann Zadeh</td>\n",
       "      <td>9</td>\n",
       "      <td>89777</td>\n",
       "    </tr>\n",
       "    <tr>\n",
       "      <th>4</th>\n",
       "      <td>7 - Dennis Shingleton</td>\n",
       "      <td>7</td>\n",
       "      <td>96199</td>\n",
       "    </tr>\n",
       "    <tr>\n",
       "      <th>5</th>\n",
       "      <td>5 - Gyna Bivens</td>\n",
       "      <td>5</td>\n",
       "      <td>91467</td>\n",
       "    </tr>\n",
       "    <tr>\n",
       "      <th>6</th>\n",
       "      <td>6 - Jungus Jordan</td>\n",
       "      <td>6</td>\n",
       "      <td>90365</td>\n",
       "    </tr>\n",
       "    <tr>\n",
       "      <th>7</th>\n",
       "      <td>8 - Kelly Allen Gray</td>\n",
       "      <td>8</td>\n",
       "      <td>91990</td>\n",
       "    </tr>\n",
       "  </tbody>\n",
       "</table>\n",
       "</div>"
      ],
      "text/plain": [
       "                    name  district  total\n",
       "0    2 - Salvador Espino         2  93845\n",
       "1      3 - Zim Zimmerman         3  93122\n",
       "2          4 - Cary Moon         4  96603\n",
       "3          9 - Ann Zadeh         9  89777\n",
       "4  7 - Dennis Shingleton         7  96199\n",
       "5        5 - Gyna Bivens         5  91467\n",
       "6      6 - Jungus Jordan         6  90365\n",
       "7   8 - Kelly Allen Gray         8  91990"
      ]
     },
     "execution_count": 15,
     "metadata": {},
     "output_type": "execute_result"
    }
   ],
   "source": [
    "council = pd.read_csv('http://personal.tcu.edu/kylewalker/data/cd_population.csv')\n",
    "\n",
    "council.columns = council.columns.str.lower()\n",
    "\n",
    "council"
   ]
  },
  {
   "cell_type": "markdown",
   "metadata": {},
   "source": [
    "In this case, we notice that all city council districts have relatively the same population size; this is of course intentional, as council districts go through periodic redistricting to ensure consistent district populations.  We can now create a data frame from our `groupby` result (resetting the index, as `pandas` places the group name in the index), to get it ready for a merge.  "
   ]
  },
  {
   "cell_type": "code",
   "execution_count": 16,
   "metadata": {
    "collapsed": false
   },
   "outputs": [
    {
     "data": {
      "text/html": [
       "<div>\n",
       "<table border=\"1\" class=\"dataframe\">\n",
       "  <thead>\n",
       "    <tr style=\"text-align: right;\">\n",
       "      <th></th>\n",
       "      <th>district</th>\n",
       "      <th>count</th>\n",
       "    </tr>\n",
       "  </thead>\n",
       "  <tbody>\n",
       "    <tr>\n",
       "      <th>0</th>\n",
       "      <td>2</td>\n",
       "      <td>99</td>\n",
       "    </tr>\n",
       "    <tr>\n",
       "      <th>1</th>\n",
       "      <td>3</td>\n",
       "      <td>54</td>\n",
       "    </tr>\n",
       "    <tr>\n",
       "      <th>2</th>\n",
       "      <td>4</td>\n",
       "      <td>59</td>\n",
       "    </tr>\n",
       "    <tr>\n",
       "      <th>3</th>\n",
       "      <td>5</td>\n",
       "      <td>106</td>\n",
       "    </tr>\n",
       "    <tr>\n",
       "      <th>4</th>\n",
       "      <td>6</td>\n",
       "      <td>72</td>\n",
       "    </tr>\n",
       "    <tr>\n",
       "      <th>5</th>\n",
       "      <td>7</td>\n",
       "      <td>59</td>\n",
       "    </tr>\n",
       "    <tr>\n",
       "      <th>6</th>\n",
       "      <td>8</td>\n",
       "      <td>83</td>\n",
       "    </tr>\n",
       "    <tr>\n",
       "      <th>7</th>\n",
       "      <td>9</td>\n",
       "      <td>54</td>\n",
       "    </tr>\n",
       "  </tbody>\n",
       "</table>\n",
       "</div>"
      ],
      "text/plain": [
       "   district  count\n",
       "0         2     99\n",
       "1         3     54\n",
       "2         4     59\n",
       "3         5    106\n",
       "4         6     72\n",
       "5         7     59\n",
       "6         8     83\n",
       "7         9     54"
      ]
     },
     "execution_count": 16,
     "metadata": {},
     "output_type": "execute_result"
    }
   ],
   "source": [
    "burg_by_council = pd.DataFrame(g.size().reset_index())\n",
    "\n",
    "burg_by_council.columns = ['district', 'count']\n",
    "\n",
    "burg_by_council"
   ]
  },
  {
   "cell_type": "markdown",
   "metadata": {},
   "source": [
    "We'll be able to merge on the \"district\" column, which I've renamed in the second data frame for clarity.  First, let's check our `dtypes` to make sure they match up: "
   ]
  },
  {
   "cell_type": "code",
   "execution_count": 17,
   "metadata": {
    "collapsed": false
   },
   "outputs": [
    {
     "data": {
      "text/plain": [
       "name        object\n",
       "district     int64\n",
       "total        int64\n",
       "dtype: object"
      ]
     },
     "execution_count": 17,
     "metadata": {},
     "output_type": "execute_result"
    }
   ],
   "source": [
    "council.dtypes"
   ]
  },
  {
   "cell_type": "code",
   "execution_count": 18,
   "metadata": {
    "collapsed": false
   },
   "outputs": [
    {
     "data": {
      "text/plain": [
       "district    int64\n",
       "count       int64\n",
       "dtype: object"
      ]
     },
     "execution_count": 18,
     "metadata": {},
     "output_type": "execute_result"
    }
   ],
   "source": [
    "burg_by_council.dtypes"
   ]
  },
  {
   "cell_type": "markdown",
   "metadata": {},
   "source": [
    "Now, we can do the merge with the `.merge()` method in `pandas`.  "
   ]
  },
  {
   "cell_type": "code",
   "execution_count": 19,
   "metadata": {
    "collapsed": false
   },
   "outputs": [
    {
     "data": {
      "text/html": [
       "<div>\n",
       "<table border=\"1\" class=\"dataframe\">\n",
       "  <thead>\n",
       "    <tr style=\"text-align: right;\">\n",
       "      <th></th>\n",
       "      <th>name</th>\n",
       "      <th>district</th>\n",
       "      <th>total</th>\n",
       "      <th>count</th>\n",
       "    </tr>\n",
       "  </thead>\n",
       "  <tbody>\n",
       "    <tr>\n",
       "      <th>0</th>\n",
       "      <td>2 - Salvador Espino</td>\n",
       "      <td>2</td>\n",
       "      <td>93845</td>\n",
       "      <td>99</td>\n",
       "    </tr>\n",
       "    <tr>\n",
       "      <th>1</th>\n",
       "      <td>3 - Zim Zimmerman</td>\n",
       "      <td>3</td>\n",
       "      <td>93122</td>\n",
       "      <td>54</td>\n",
       "    </tr>\n",
       "    <tr>\n",
       "      <th>2</th>\n",
       "      <td>4 - Cary Moon</td>\n",
       "      <td>4</td>\n",
       "      <td>96603</td>\n",
       "      <td>59</td>\n",
       "    </tr>\n",
       "    <tr>\n",
       "      <th>3</th>\n",
       "      <td>9 - Ann Zadeh</td>\n",
       "      <td>9</td>\n",
       "      <td>89777</td>\n",
       "      <td>54</td>\n",
       "    </tr>\n",
       "    <tr>\n",
       "      <th>4</th>\n",
       "      <td>7 - Dennis Shingleton</td>\n",
       "      <td>7</td>\n",
       "      <td>96199</td>\n",
       "      <td>59</td>\n",
       "    </tr>\n",
       "    <tr>\n",
       "      <th>5</th>\n",
       "      <td>5 - Gyna Bivens</td>\n",
       "      <td>5</td>\n",
       "      <td>91467</td>\n",
       "      <td>106</td>\n",
       "    </tr>\n",
       "    <tr>\n",
       "      <th>6</th>\n",
       "      <td>6 - Jungus Jordan</td>\n",
       "      <td>6</td>\n",
       "      <td>90365</td>\n",
       "      <td>72</td>\n",
       "    </tr>\n",
       "    <tr>\n",
       "      <th>7</th>\n",
       "      <td>8 - Kelly Allen Gray</td>\n",
       "      <td>8</td>\n",
       "      <td>91990</td>\n",
       "      <td>83</td>\n",
       "    </tr>\n",
       "  </tbody>\n",
       "</table>\n",
       "</div>"
      ],
      "text/plain": [
       "                    name  district  total  count\n",
       "0    2 - Salvador Espino         2  93845     99\n",
       "1      3 - Zim Zimmerman         3  93122     54\n",
       "2          4 - Cary Moon         4  96603     59\n",
       "3          9 - Ann Zadeh         9  89777     54\n",
       "4  7 - Dennis Shingleton         7  96199     59\n",
       "5        5 - Gyna Bivens         5  91467    106\n",
       "6      6 - Jungus Jordan         6  90365     72\n",
       "7   8 - Kelly Allen Gray         8  91990     83"
      ]
     },
     "execution_count": 19,
     "metadata": {},
     "output_type": "execute_result"
    }
   ],
   "source": [
    "council_merged = council.merge(burg_by_council, on = 'district')\n",
    "\n",
    "council_merged"
   ]
  },
  {
   "cell_type": "markdown",
   "metadata": {},
   "source": [
    "Perfect!  We can now calculate a new column that measures rate per 1000 residents for burglaries in December 2014.  "
   ]
  },
  {
   "cell_type": "code",
   "execution_count": 20,
   "metadata": {
    "collapsed": false
   },
   "outputs": [
    {
     "data": {
      "text/html": [
       "<div>\n",
       "<table border=\"1\" class=\"dataframe\">\n",
       "  <thead>\n",
       "    <tr style=\"text-align: right;\">\n",
       "      <th></th>\n",
       "      <th>name</th>\n",
       "      <th>district</th>\n",
       "      <th>total</th>\n",
       "      <th>count</th>\n",
       "      <th>rate</th>\n",
       "    </tr>\n",
       "  </thead>\n",
       "  <tbody>\n",
       "    <tr>\n",
       "      <th>0</th>\n",
       "      <td>2 - Salvador Espino</td>\n",
       "      <td>2</td>\n",
       "      <td>93845</td>\n",
       "      <td>99</td>\n",
       "      <td>1.054931</td>\n",
       "    </tr>\n",
       "    <tr>\n",
       "      <th>1</th>\n",
       "      <td>3 - Zim Zimmerman</td>\n",
       "      <td>3</td>\n",
       "      <td>93122</td>\n",
       "      <td>54</td>\n",
       "      <td>0.579884</td>\n",
       "    </tr>\n",
       "    <tr>\n",
       "      <th>2</th>\n",
       "      <td>4 - Cary Moon</td>\n",
       "      <td>4</td>\n",
       "      <td>96603</td>\n",
       "      <td>59</td>\n",
       "      <td>0.610747</td>\n",
       "    </tr>\n",
       "    <tr>\n",
       "      <th>3</th>\n",
       "      <td>9 - Ann Zadeh</td>\n",
       "      <td>9</td>\n",
       "      <td>89777</td>\n",
       "      <td>54</td>\n",
       "      <td>0.601490</td>\n",
       "    </tr>\n",
       "    <tr>\n",
       "      <th>4</th>\n",
       "      <td>7 - Dennis Shingleton</td>\n",
       "      <td>7</td>\n",
       "      <td>96199</td>\n",
       "      <td>59</td>\n",
       "      <td>0.613312</td>\n",
       "    </tr>\n",
       "    <tr>\n",
       "      <th>5</th>\n",
       "      <td>5 - Gyna Bivens</td>\n",
       "      <td>5</td>\n",
       "      <td>91467</td>\n",
       "      <td>106</td>\n",
       "      <td>1.158888</td>\n",
       "    </tr>\n",
       "    <tr>\n",
       "      <th>6</th>\n",
       "      <td>6 - Jungus Jordan</td>\n",
       "      <td>6</td>\n",
       "      <td>90365</td>\n",
       "      <td>72</td>\n",
       "      <td>0.796769</td>\n",
       "    </tr>\n",
       "    <tr>\n",
       "      <th>7</th>\n",
       "      <td>8 - Kelly Allen Gray</td>\n",
       "      <td>8</td>\n",
       "      <td>91990</td>\n",
       "      <td>83</td>\n",
       "      <td>0.902272</td>\n",
       "    </tr>\n",
       "  </tbody>\n",
       "</table>\n",
       "</div>"
      ],
      "text/plain": [
       "                    name  district  total  count      rate\n",
       "0    2 - Salvador Espino         2  93845     99  1.054931\n",
       "1      3 - Zim Zimmerman         3  93122     54  0.579884\n",
       "2          4 - Cary Moon         4  96603     59  0.610747\n",
       "3          9 - Ann Zadeh         9  89777     54  0.601490\n",
       "4  7 - Dennis Shingleton         7  96199     59  0.613312\n",
       "5        5 - Gyna Bivens         5  91467    106  1.158888\n",
       "6      6 - Jungus Jordan         6  90365     72  0.796769\n",
       "7   8 - Kelly Allen Gray         8  91990     83  0.902272"
      ]
     },
     "execution_count": 20,
     "metadata": {},
     "output_type": "execute_result"
    }
   ],
   "source": [
    "council_merged['rate'] = (council_merged['count'] / council_merged['total']) * 1000\n",
    "\n",
    "council_merged"
   ]
  },
  {
   "cell_type": "markdown",
   "metadata": {},
   "source": [
    "And we can plot the results: "
   ]
  },
  {
   "cell_type": "code",
   "execution_count": 21,
   "metadata": {
    "collapsed": false
   },
   "outputs": [
    {
     "data": {
      "text/plain": [
       "<matplotlib.axes._subplots.AxesSubplot at 0x9fea828>"
      ]
     },
     "execution_count": 21,
     "metadata": {},
     "output_type": "execute_result"
    },
    {
     "data": {
      "image/png": "[encoded data removed]",
      "text/plain": [
       "<matplotlib.figure.Figure at 0x9ff5fd0>"
      ]
     },
     "metadata": {},
     "output_type": "display_data"
    }
   ],
   "source": [
    "council_sort = council_merged.sort('rate', ascending = False)\n",
    "\n",
    "sns.stripplot(data = council_sort, x = 'rate', y = 'name')"
   ]
  },
  {
   "cell_type": "markdown",
   "metadata": {},
   "source": [
    "Just in case you were wondering: TCU is split across council districts 3 and 9.  \n",
    "\n",
    "The last thing we're going to do is look at how burglaries varied by date in December of 2014.  We have two columns that represent dates: `from_date` and `reported_date`; however they are not currently formatted as dates.  Dates are very tricky types to work with in data analysis - there are many different ways that dates can be written!  Fortunately, ours are currently fairly consistent - we just need to do a little work with them.  \n",
    "\n",
    "The date fields in our data frame include a substring, `'T00:00:00'`; this means that the Socrata date field type supports time of day, but we don't have this information in our dataset.  As such, we're going to remove it from the string.  \n",
    "\n",
    "The steps below will do the following: \n",
    "\n",
    "* Remove the unnecessary time information, creating a new column `d1`; \n",
    "* Create a new column formatted as a date, `d2`, from `d1`, using the `to_datetime()` function in `pandas`.  "
   ]
  },
  {
   "cell_type": "code",
   "execution_count": 23,
   "metadata": {
    "collapsed": false
   },
   "outputs": [
    {
     "data": {
      "text/html": [
       "<div>\n",
       "<table border=\"1\" class=\"dataframe\">\n",
       "  <thead>\n",
       "    <tr style=\"text-align: right;\">\n",
       "      <th></th>\n",
       "      <th>attempt_complete</th>\n",
       "      <th>beat</th>\n",
       "      <th>block_address</th>\n",
       "      <th>case_no</th>\n",
       "      <th>case_no_offense</th>\n",
       "      <th>city</th>\n",
       "      <th>councildistrict</th>\n",
       "      <th>division</th>\n",
       "      <th>from_date</th>\n",
       "      <th>inttotal</th>\n",
       "      <th>location_1</th>\n",
       "      <th>location_type</th>\n",
       "      <th>locationtypedescription</th>\n",
       "      <th>nature_of_call</th>\n",
       "      <th>offense</th>\n",
       "      <th>offense_desc</th>\n",
       "      <th>reported_date</th>\n",
       "      <th>state</th>\n",
       "      <th>d1</th>\n",
       "      <th>d2</th>\n",
       "    </tr>\n",
       "  </thead>\n",
       "  <tbody>\n",
       "    <tr>\n",
       "      <th>0</th>\n",
       "      <td>C</td>\n",
       "      <td>E13</td>\n",
       "      <td>7500 BLOCK  BRENTWOOD STAIR RD</td>\n",
       "      <td>140115132</td>\n",
       "      <td>140115132-220</td>\n",
       "      <td>Fort Worth</td>\n",
       "      <td>5</td>\n",
       "      <td>E</td>\n",
       "      <td>2014-12-01T00:00:00</td>\n",
       "      <td>0</td>\n",
       "      <td>NaN</td>\n",
       "      <td>20</td>\n",
       "      <td>Residence, home</td>\n",
       "      <td>BURG RES</td>\n",
       "      <td>220</td>\n",
       "      <td>Burglary</td>\n",
       "      <td>2014-12-01T00:00:00</td>\n",
       "      <td>TX</td>\n",
       "      <td>2014-12-01</td>\n",
       "      <td>2014-12-01</td>\n",
       "    </tr>\n",
       "    <tr>\n",
       "      <th>1</th>\n",
       "      <td>C</td>\n",
       "      <td>S43</td>\n",
       "      <td>10600 BLOCK  BILSKY BAY DR</td>\n",
       "      <td>140115143</td>\n",
       "      <td>140115143-220</td>\n",
       "      <td>Fort Worth</td>\n",
       "      <td>6</td>\n",
       "      <td>S</td>\n",
       "      <td>2014-12-01T00:00:00</td>\n",
       "      <td>0</td>\n",
       "      <td>NaN</td>\n",
       "      <td>20</td>\n",
       "      <td>Residence, home</td>\n",
       "      <td>BURG RES</td>\n",
       "      <td>220</td>\n",
       "      <td>Burglary</td>\n",
       "      <td>2014-12-01T00:00:00</td>\n",
       "      <td>TX</td>\n",
       "      <td>2014-12-01</td>\n",
       "      <td>2014-12-01</td>\n",
       "    </tr>\n",
       "    <tr>\n",
       "      <th>2</th>\n",
       "      <td>C</td>\n",
       "      <td>E13</td>\n",
       "      <td>7300 BLOCK D ANDERSON BL</td>\n",
       "      <td>140115248</td>\n",
       "      <td>140115248-220</td>\n",
       "      <td>Fort Worth</td>\n",
       "      <td>4</td>\n",
       "      <td>E</td>\n",
       "      <td>2014-12-01T00:00:00</td>\n",
       "      <td>0</td>\n",
       "      <td>NaN</td>\n",
       "      <td>20</td>\n",
       "      <td>Residence, home</td>\n",
       "      <td>BURG RES</td>\n",
       "      <td>220</td>\n",
       "      <td>Burglary</td>\n",
       "      <td>2014-12-01T00:00:00</td>\n",
       "      <td>TX</td>\n",
       "      <td>2014-12-01</td>\n",
       "      <td>2014-12-01</td>\n",
       "    </tr>\n",
       "    <tr>\n",
       "      <th>3</th>\n",
       "      <td>C</td>\n",
       "      <td>W43</td>\n",
       "      <td>2500 BLOCK  WAKECREST DR</td>\n",
       "      <td>140115273</td>\n",
       "      <td>140115273-220</td>\n",
       "      <td>Fort Worth</td>\n",
       "      <td>7</td>\n",
       "      <td>W</td>\n",
       "      <td>2014-12-01T00:00:00</td>\n",
       "      <td>0</td>\n",
       "      <td>NaN</td>\n",
       "      <td>20</td>\n",
       "      <td>Residence, home</td>\n",
       "      <td>BURG RES</td>\n",
       "      <td>220</td>\n",
       "      <td>Burglary</td>\n",
       "      <td>2014-12-01T00:00:00</td>\n",
       "      <td>TX</td>\n",
       "      <td>2014-12-01</td>\n",
       "      <td>2014-12-01</td>\n",
       "    </tr>\n",
       "    <tr>\n",
       "      <th>4</th>\n",
       "      <td>C</td>\n",
       "      <td>W42</td>\n",
       "      <td>9000 BLOCK S NORMANDALE ST</td>\n",
       "      <td>140115293</td>\n",
       "      <td>140115293-220</td>\n",
       "      <td>Fort Worth</td>\n",
       "      <td>7</td>\n",
       "      <td>W</td>\n",
       "      <td>2014-12-01T00:00:00</td>\n",
       "      <td>0</td>\n",
       "      <td>{'longitude': '-97.4741003148882', 'latitude':...</td>\n",
       "      <td>20</td>\n",
       "      <td>Residence, home</td>\n",
       "      <td>BURG RES</td>\n",
       "      <td>220</td>\n",
       "      <td>Burglary</td>\n",
       "      <td>2014-12-01T00:00:00</td>\n",
       "      <td>TX</td>\n",
       "      <td>2014-12-01</td>\n",
       "      <td>2014-12-01</td>\n",
       "    </tr>\n",
       "  </tbody>\n",
       "</table>\n",
       "</div>"
      ],
      "text/plain": [
       "  attempt_complete beat                   block_address    case_no  \\\n",
       "0                C  E13  7500 BLOCK  BRENTWOOD STAIR RD  140115132   \n",
       "1                C  S43      10600 BLOCK  BILSKY BAY DR  140115143   \n",
       "2                C  E13        7300 BLOCK D ANDERSON BL  140115248   \n",
       "3                C  W43        2500 BLOCK  WAKECREST DR  140115273   \n",
       "4                C  W42      9000 BLOCK S NORMANDALE ST  140115293   \n",
       "\n",
       "  case_no_offense        city  councildistrict division            from_date  \\\n",
       "0   140115132-220  Fort Worth                5        E  2014-12-01T00:00:00   \n",
       "1   140115143-220  Fort Worth                6        S  2014-12-01T00:00:00   \n",
       "2   140115248-220  Fort Worth                4        E  2014-12-01T00:00:00   \n",
       "3   140115273-220  Fort Worth                7        W  2014-12-01T00:00:00   \n",
       "4   140115293-220  Fort Worth                7        W  2014-12-01T00:00:00   \n",
       "\n",
       "   inttotal                                         location_1  location_type  \\\n",
       "0         0                                                NaN             20   \n",
       "1         0                                                NaN             20   \n",
       "2         0                                                NaN             20   \n",
       "3         0                                                NaN             20   \n",
       "4         0  {'longitude': '-97.4741003148882', 'latitude':...             20   \n",
       "\n",
       "  locationtypedescription nature_of_call  offense offense_desc  \\\n",
       "0         Residence, home       BURG RES      220     Burglary   \n",
       "1         Residence, home       BURG RES      220     Burglary   \n",
       "2         Residence, home       BURG RES      220     Burglary   \n",
       "3         Residence, home       BURG RES      220     Burglary   \n",
       "4         Residence, home       BURG RES      220     Burglary   \n",
       "\n",
       "         reported_date state          d1         d2  \n",
       "0  2014-12-01T00:00:00    TX  2014-12-01 2014-12-01  \n",
       "1  2014-12-01T00:00:00    TX  2014-12-01 2014-12-01  \n",
       "2  2014-12-01T00:00:00    TX  2014-12-01 2014-12-01  \n",
       "3  2014-12-01T00:00:00    TX  2014-12-01 2014-12-01  \n",
       "4  2014-12-01T00:00:00    TX  2014-12-01 2014-12-01  "
      ]
     },
     "execution_count": 23,
     "metadata": {},
     "output_type": "execute_result"
    }
   ],
   "source": [
    "burg_df['d1'] = burg_df['from_date'].str.replace('T00:00:00', '')\n",
    "\n",
    "burg_df['d2'] = pd.to_datetime(burg_df['d1'])\n",
    "\n",
    "burg_df.head()"
   ]
  },
  {
   "cell_type": "markdown",
   "metadata": {},
   "source": [
    "Scroll to the end; we see that `d1` and `d2` look similar; however, `d2` is formatted as a date, which means that `pandas` recognizes how to work with it in sequence.  In turn, we can plot how burglaries varied by day in Fort Worth last December: "
   ]
  },
  {
   "cell_type": "code",
   "execution_count": 24,
   "metadata": {
    "collapsed": false
   },
   "outputs": [
    {
     "data": {
      "text/plain": [
       "<matplotlib.axes._subplots.AxesSubplot at 0x87fe9e8>"
      ]
     },
     "execution_count": 24,
     "metadata": {},
     "output_type": "execute_result"
    },
    {
     "data": {
      "image/png": "[encoded data removed]",
      "text/plain": [
       "<matplotlib.figure.Figure at 0x9f9b048>"
      ]
     },
     "metadata": {},
     "output_type": "display_data"
    }
   ],
   "source": [
    "g2 = burg_df.groupby('d2')\n",
    "\n",
    "g2.size().plot()"
   ]
  },
  {
   "cell_type": "markdown",
   "metadata": {},
   "source": [
    "## Exercises\n",
    "\n",
    "Data APIs are complicated topics and we're only scratching the surface here of what you can do with them.  In turn, your exercises for this assignment will be a little different.  \n",
    "\n",
    "Your job here is to replicate the above analysis for __another type of offense__ and __another month__ (please note: the data only go up to July 2015) in Fort Worth.  Visit the Fort Worth dataset on the web here: https://data.fortworthtexas.gov/Public-Safety-Courts/Crime-Data/k6ic-7kp7 and look at the \"Offense_Desc\" column to see what other options there are.  Another note: some crimes like murder are relatively rare, so you might be better served choosing an offense that is more frequent.  \n",
    "\n",
    "What this basically involves is re-using the code I've already written for this assignment, and modifying it slightly for your chosen type of offense and your chosen month.  To do this, you'll modify the API call at the beginning of the code accordingly.  I want you to get a sense of how you can \"change parameters\" in an API call, and in turn get different results.  Indeed, an enterprising analysis like this could wrap everything in a function and re-produce analyses by parameterizing these inputs in Python; you don't have to do that here, but hopefully this gives you a sense of why it is useful to write everything out with code.  \n",
    "\n",
    "To get full credit for this assignment, your results should include responses to the following questions:  \n",
    "\n",
    "1. How did crime incidents for your chosen offense in your chosen month vary by city council district?  \n",
    "2. Draw a chart that shows these variations.  \n",
    "3. How did crime rates per 1000 residents in your chosen month vary by city council district for your chosen offense?  \n",
    "4. Draw a chart that shows variations in rates by council district.  \n",
    "5. Draw a line chart that shows how incidents of your chosen offense varied by day in the month that you chose.  \n",
    "\n",
    "For full credit, this assignment is due by the end of the day on __Thursday, November 5__.  \n"
   ]
  },
  {
   "cell_type": "code",
   "execution_count": null,
   "metadata": {
    "collapsed": true
   },
   "outputs": [],
   "source": []
  }
 ],
 "metadata": {
  "kernelspec": {
   "display_name": "Python 3",
   "language": "python",
   "name": "python3"
  },
  "language_info": {
   "codemirror_mode": {
    "name": "ipython",
    "version": 3
   },
   "file_extension": ".py",
   "mimetype": "text/x-python",
   "name": "python",
   "nbconvert_exporter": "python",
   "pygments_lexer": "ipython3",
   "version": "3.4.3"
  }
 },
 "nbformat": 4,
 "nbformat_minor": 0
}
