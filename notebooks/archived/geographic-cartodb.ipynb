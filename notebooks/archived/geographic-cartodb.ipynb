{
 "cells": [
  {
   "cell_type": "markdown",
   "metadata": {},
   "source": [
    "## Assignment 11: Geographic visualization with CartoDB\n",
    "\n",
    "In this assignment, the second-to-last of the semester, we will venture outside of the Python ecosystem to create interactive maps with CartoDB, a web-based geospatial data storage, analysis, and visualization platform.  You'll be making an interactive map of burglaries in Fort Worth for the first half of 2015, drawn from the same dataset you worked with in Assignment 8.  You'll explore methods for visualizing large amounts of point data, as well as create interactive maps that show trends in burglaries over time.  \n",
    "\n",
    "In this instance, you are going to upload a bulk CSV download that I've prepared for you from the City's open data catalog.  The data as currently constituted are not quite ready for use in CartoDB, so we're going to clean it up a bit in `pandas` first.  \n",
    "\n",
    "As we discussed in class, CartoDB accepts data in many formats, such as CSV, GeoJSON, and zipped shapefile; [see here for the full listing](http://docs.cartodb.com/cartodb-editor/datasets/#supported-file-formats).   In this instance, our data are in CSV format.  Let's read the data into `pandas` and have a look.  "
   ]
  },
  {
   "cell_type": "code",
   "execution_count": 1,
   "metadata": {
    "collapsed": false
   },
   "outputs": [
    {
     "data": {
      "text/html": [
       "<div>\n",
       "<table border=\"1\" class=\"dataframe\">\n",
       "  <thead>\n",
       "    <tr style=\"text-align: right;\">\n",
       "      <th></th>\n",
       "      <th>Case_No_Offense</th>\n",
       "      <th>Case_No</th>\n",
       "      <th>Reported_Date</th>\n",
       "      <th>Nature_Of_Call</th>\n",
       "      <th>From_Date</th>\n",
       "      <th>Offense</th>\n",
       "      <th>Offense_Desc</th>\n",
       "      <th>BLOCK_ADDRESS</th>\n",
       "      <th>City</th>\n",
       "      <th>State</th>\n",
       "      <th>Beat</th>\n",
       "      <th>Division</th>\n",
       "      <th>CouncilDistrict</th>\n",
       "      <th>Attempt_Complete</th>\n",
       "      <th>Location_Type</th>\n",
       "      <th>LocationTypeDescription</th>\n",
       "      <th>intTotal</th>\n",
       "      <th>Location_1</th>\n",
       "    </tr>\n",
       "  </thead>\n",
       "  <tbody>\n",
       "    <tr>\n",
       "      <th>0</th>\n",
       "      <td>150000165-220</td>\n",
       "      <td>150000165</td>\n",
       "      <td>01/01/2015 12:00:00 AM</td>\n",
       "      <td>BURG BUILD</td>\n",
       "      <td>01/01/2015 12:00:00 AM</td>\n",
       "      <td>220</td>\n",
       "      <td>Burglary</td>\n",
       "      <td>5100 BLOCK  WICHITA ST</td>\n",
       "      <td>Fort Worth</td>\n",
       "      <td>TX</td>\n",
       "      <td>C44</td>\n",
       "      <td>C</td>\n",
       "      <td>8</td>\n",
       "      <td>C</td>\n",
       "      <td>24</td>\n",
       "      <td>Speciality store</td>\n",
       "      <td>0</td>\n",
       "      <td>(32.686681044559926, -97.280407627736238)</td>\n",
       "    </tr>\n",
       "    <tr>\n",
       "      <th>1</th>\n",
       "      <td>150000187-220</td>\n",
       "      <td>150000187</td>\n",
       "      <td>01/01/2015 12:00:00 AM</td>\n",
       "      <td>BURG RES</td>\n",
       "      <td>01/01/2015 12:00:00 AM</td>\n",
       "      <td>220</td>\n",
       "      <td>Burglary</td>\n",
       "      <td>2700 BLOCK  QUINN ST</td>\n",
       "      <td>Fort Worth</td>\n",
       "      <td>TX</td>\n",
       "      <td>C42</td>\n",
       "      <td>C</td>\n",
       "      <td>5</td>\n",
       "      <td>C</td>\n",
       "      <td>20</td>\n",
       "      <td>Residence, home</td>\n",
       "      <td>0</td>\n",
       "      <td>NaN</td>\n",
       "    </tr>\n",
       "    <tr>\n",
       "      <th>2</th>\n",
       "      <td>150000190-220</td>\n",
       "      <td>150000190</td>\n",
       "      <td>01/01/2015 12:00:00 AM</td>\n",
       "      <td>BURG COMM</td>\n",
       "      <td>01/01/2015 12:00:00 AM</td>\n",
       "      <td>220</td>\n",
       "      <td>Burglary</td>\n",
       "      <td>6500 BLOCK  MEADOWBROOK DR</td>\n",
       "      <td>Fort Worth</td>\n",
       "      <td>TX</td>\n",
       "      <td>E24</td>\n",
       "      <td>E</td>\n",
       "      <td>5</td>\n",
       "      <td>C</td>\n",
       "      <td>17</td>\n",
       "      <td>Liquor store</td>\n",
       "      <td>0</td>\n",
       "      <td>(32.746011096597293, -97.218819442381601)</td>\n",
       "    </tr>\n",
       "    <tr>\n",
       "      <th>3</th>\n",
       "      <td>150000210-220</td>\n",
       "      <td>150000210</td>\n",
       "      <td>01/01/2015 12:00:00 AM</td>\n",
       "      <td>BURG RES</td>\n",
       "      <td>01/01/2015 12:00:00 AM</td>\n",
       "      <td>220</td>\n",
       "      <td>Burglary</td>\n",
       "      <td>3000 BLOCK MC KINLEY AVE</td>\n",
       "      <td>Fort Worth</td>\n",
       "      <td>TX</td>\n",
       "      <td>N31</td>\n",
       "      <td>N</td>\n",
       "      <td>2</td>\n",
       "      <td>C</td>\n",
       "      <td>20</td>\n",
       "      <td>Residence, home</td>\n",
       "      <td>0</td>\n",
       "      <td>(32.799674538970372, -97.369010160096721)</td>\n",
       "    </tr>\n",
       "    <tr>\n",
       "      <th>4</th>\n",
       "      <td>150000251-220</td>\n",
       "      <td>150000251</td>\n",
       "      <td>01/01/2015 12:00:00 AM</td>\n",
       "      <td>BURG RES</td>\n",
       "      <td>01/01/2015 12:00:00 AM</td>\n",
       "      <td>220</td>\n",
       "      <td>Burglary</td>\n",
       "      <td>3800 BLOCK  AVE G</td>\n",
       "      <td>Fort Worth</td>\n",
       "      <td>TX</td>\n",
       "      <td>C41</td>\n",
       "      <td>C</td>\n",
       "      <td>8</td>\n",
       "      <td>C</td>\n",
       "      <td>20</td>\n",
       "      <td>Residence, home</td>\n",
       "      <td>0</td>\n",
       "      <td>(32.729725211613555, -97.269106791461653)</td>\n",
       "    </tr>\n",
       "  </tbody>\n",
       "</table>\n",
       "</div>"
      ],
      "text/plain": [
       "  Case_No_Offense    Case_No           Reported_Date Nature_Of_Call  \\\n",
       "0   150000165-220  150000165  01/01/2015 12:00:00 AM     BURG BUILD   \n",
       "1   150000187-220  150000187  01/01/2015 12:00:00 AM       BURG RES   \n",
       "2   150000190-220  150000190  01/01/2015 12:00:00 AM      BURG COMM   \n",
       "3   150000210-220  150000210  01/01/2015 12:00:00 AM       BURG RES   \n",
       "4   150000251-220  150000251  01/01/2015 12:00:00 AM       BURG RES   \n",
       "\n",
       "                From_Date  Offense Offense_Desc               BLOCK_ADDRESS  \\\n",
       "0  01/01/2015 12:00:00 AM      220     Burglary      5100 BLOCK  WICHITA ST   \n",
       "1  01/01/2015 12:00:00 AM      220     Burglary        2700 BLOCK  QUINN ST   \n",
       "2  01/01/2015 12:00:00 AM      220     Burglary  6500 BLOCK  MEADOWBROOK DR   \n",
       "3  01/01/2015 12:00:00 AM      220     Burglary    3000 BLOCK MC KINLEY AVE   \n",
       "4  01/01/2015 12:00:00 AM      220     Burglary           3800 BLOCK  AVE G   \n",
       "\n",
       "         City State Beat Division  CouncilDistrict Attempt_Complete  \\\n",
       "0  Fort Worth    TX  C44        C                8                C   \n",
       "1  Fort Worth    TX  C42        C                5                C   \n",
       "2  Fort Worth    TX  E24        E                5                C   \n",
       "3  Fort Worth    TX  N31        N                2                C   \n",
       "4  Fort Worth    TX  C41        C                8                C   \n",
       "\n",
       "   Location_Type LocationTypeDescription  intTotal  \\\n",
       "0             24        Speciality store         0   \n",
       "1             20         Residence, home         0   \n",
       "2             17            Liquor store         0   \n",
       "3             20         Residence, home         0   \n",
       "4             20         Residence, home         0   \n",
       "\n",
       "                                  Location_1  \n",
       "0  (32.686681044559926, -97.280407627736238)  \n",
       "1                                        NaN  \n",
       "2  (32.746011096597293, -97.218819442381601)  \n",
       "3  (32.799674538970372, -97.369010160096721)  \n",
       "4  (32.729725211613555, -97.269106791461653)  "
      ]
     },
     "execution_count": 1,
     "metadata": {},
     "output_type": "execute_result"
    }
   ],
   "source": [
    "import pandas as pd\n",
    "\n",
    "data = \"http://personal.tcu.edu/kylewalker/data/burglaries2015.csv\"\n",
    "\n",
    "df = pd.read_csv(data)\n",
    "\n",
    "df.head()"
   ]
  },
  {
   "cell_type": "markdown",
   "metadata": {},
   "source": [
    "Scroll to the right-hand side of your data frame to view the `Location_1` column.  You'll notice that it is formatted as latitude/longitude coordinate pairs, separated by a comma and enclosed in parentheses.  Additionally, some of the latitude/longitude values are missing.  "
   ]
  },
  {
   "cell_type": "code",
   "execution_count": 15,
   "metadata": {
    "collapsed": false
   },
   "outputs": [
    {
     "data": {
      "text/plain": [
       "False    2520\n",
       "True      122\n",
       "dtype: int64"
      ]
     },
     "execution_count": 15,
     "metadata": {},
     "output_type": "execute_result"
    }
   ],
   "source": [
    "null_rows = pd.isnull(df.Location_1)\n",
    "\n",
    "null_rows.value_counts()"
   ]
  },
  {
   "cell_type": "markdown",
   "metadata": {},
   "source": [
    "It looks like 122 rows in our dataset are missing latitude and longitude information.  In a regular data analysis workflow, you'd want to do some investigation of these missing values, and ultimately see if there is any systematic bias there.  As our focus here is mapping in CartoDB, however, let's forge ahead.  \n",
    "\n",
    "To map CSV data, CartoDB requires that one column contain the longitude coordinates, and one column contain the latitude coordinates.  As such, we'll need to get rid of the parentheses in the column, then split the column into two columns, and finally add those columns back to our data frame.  Study the code below to examine what it does: "
   ]
  },
  {
   "cell_type": "code",
   "execution_count": 18,
   "metadata": {
    "collapsed": false
   },
   "outputs": [
    {
     "data": {
      "text/html": [
       "<div>\n",
       "<table border=\"1\" class=\"dataframe\">\n",
       "  <thead>\n",
       "    <tr style=\"text-align: right;\">\n",
       "      <th></th>\n",
       "      <th>Case_No_Offense</th>\n",
       "      <th>Case_No</th>\n",
       "      <th>Reported_Date</th>\n",
       "      <th>Nature_Of_Call</th>\n",
       "      <th>From_Date</th>\n",
       "      <th>Offense</th>\n",
       "      <th>Offense_Desc</th>\n",
       "      <th>BLOCK_ADDRESS</th>\n",
       "      <th>City</th>\n",
       "      <th>State</th>\n",
       "      <th>Beat</th>\n",
       "      <th>Division</th>\n",
       "      <th>CouncilDistrict</th>\n",
       "      <th>Attempt_Complete</th>\n",
       "      <th>Location_Type</th>\n",
       "      <th>LocationTypeDescription</th>\n",
       "      <th>intTotal</th>\n",
       "      <th>Location_1</th>\n",
       "      <th>latitude</th>\n",
       "      <th>longitude</th>\n",
       "    </tr>\n",
       "  </thead>\n",
       "  <tbody>\n",
       "    <tr>\n",
       "      <th>0</th>\n",
       "      <td>150000165-220</td>\n",
       "      <td>150000165</td>\n",
       "      <td>01/01/2015 12:00:00 AM</td>\n",
       "      <td>BURG BUILD</td>\n",
       "      <td>01/01/2015 12:00:00 AM</td>\n",
       "      <td>220</td>\n",
       "      <td>Burglary</td>\n",
       "      <td>5100 BLOCK  WICHITA ST</td>\n",
       "      <td>Fort Worth</td>\n",
       "      <td>TX</td>\n",
       "      <td>C44</td>\n",
       "      <td>C</td>\n",
       "      <td>8</td>\n",
       "      <td>C</td>\n",
       "      <td>24</td>\n",
       "      <td>Speciality store</td>\n",
       "      <td>0</td>\n",
       "      <td>32.686681044559926, -97.280407627736238</td>\n",
       "      <td>32.686681044559926</td>\n",
       "      <td>-97.280407627736238</td>\n",
       "    </tr>\n",
       "    <tr>\n",
       "      <th>1</th>\n",
       "      <td>150000187-220</td>\n",
       "      <td>150000187</td>\n",
       "      <td>01/01/2015 12:00:00 AM</td>\n",
       "      <td>BURG RES</td>\n",
       "      <td>01/01/2015 12:00:00 AM</td>\n",
       "      <td>220</td>\n",
       "      <td>Burglary</td>\n",
       "      <td>2700 BLOCK  QUINN ST</td>\n",
       "      <td>Fort Worth</td>\n",
       "      <td>TX</td>\n",
       "      <td>C42</td>\n",
       "      <td>C</td>\n",
       "      <td>5</td>\n",
       "      <td>C</td>\n",
       "      <td>20</td>\n",
       "      <td>Residence, home</td>\n",
       "      <td>0</td>\n",
       "      <td>NaN</td>\n",
       "      <td>NaN</td>\n",
       "      <td>None</td>\n",
       "    </tr>\n",
       "    <tr>\n",
       "      <th>2</th>\n",
       "      <td>150000190-220</td>\n",
       "      <td>150000190</td>\n",
       "      <td>01/01/2015 12:00:00 AM</td>\n",
       "      <td>BURG COMM</td>\n",
       "      <td>01/01/2015 12:00:00 AM</td>\n",
       "      <td>220</td>\n",
       "      <td>Burglary</td>\n",
       "      <td>6500 BLOCK  MEADOWBROOK DR</td>\n",
       "      <td>Fort Worth</td>\n",
       "      <td>TX</td>\n",
       "      <td>E24</td>\n",
       "      <td>E</td>\n",
       "      <td>5</td>\n",
       "      <td>C</td>\n",
       "      <td>17</td>\n",
       "      <td>Liquor store</td>\n",
       "      <td>0</td>\n",
       "      <td>32.746011096597293, -97.218819442381601</td>\n",
       "      <td>32.746011096597293</td>\n",
       "      <td>-97.218819442381601</td>\n",
       "    </tr>\n",
       "    <tr>\n",
       "      <th>3</th>\n",
       "      <td>150000210-220</td>\n",
       "      <td>150000210</td>\n",
       "      <td>01/01/2015 12:00:00 AM</td>\n",
       "      <td>BURG RES</td>\n",
       "      <td>01/01/2015 12:00:00 AM</td>\n",
       "      <td>220</td>\n",
       "      <td>Burglary</td>\n",
       "      <td>3000 BLOCK MC KINLEY AVE</td>\n",
       "      <td>Fort Worth</td>\n",
       "      <td>TX</td>\n",
       "      <td>N31</td>\n",
       "      <td>N</td>\n",
       "      <td>2</td>\n",
       "      <td>C</td>\n",
       "      <td>20</td>\n",
       "      <td>Residence, home</td>\n",
       "      <td>0</td>\n",
       "      <td>32.799674538970372, -97.369010160096721</td>\n",
       "      <td>32.799674538970372</td>\n",
       "      <td>-97.369010160096721</td>\n",
       "    </tr>\n",
       "    <tr>\n",
       "      <th>4</th>\n",
       "      <td>150000251-220</td>\n",
       "      <td>150000251</td>\n",
       "      <td>01/01/2015 12:00:00 AM</td>\n",
       "      <td>BURG RES</td>\n",
       "      <td>01/01/2015 12:00:00 AM</td>\n",
       "      <td>220</td>\n",
       "      <td>Burglary</td>\n",
       "      <td>3800 BLOCK  AVE G</td>\n",
       "      <td>Fort Worth</td>\n",
       "      <td>TX</td>\n",
       "      <td>C41</td>\n",
       "      <td>C</td>\n",
       "      <td>8</td>\n",
       "      <td>C</td>\n",
       "      <td>20</td>\n",
       "      <td>Residence, home</td>\n",
       "      <td>0</td>\n",
       "      <td>32.729725211613555, -97.269106791461653</td>\n",
       "      <td>32.729725211613555</td>\n",
       "      <td>-97.269106791461653</td>\n",
       "    </tr>\n",
       "  </tbody>\n",
       "</table>\n",
       "</div>"
      ],
      "text/plain": [
       "  Case_No_Offense    Case_No           Reported_Date Nature_Of_Call  \\\n",
       "0   150000165-220  150000165  01/01/2015 12:00:00 AM     BURG BUILD   \n",
       "1   150000187-220  150000187  01/01/2015 12:00:00 AM       BURG RES   \n",
       "2   150000190-220  150000190  01/01/2015 12:00:00 AM      BURG COMM   \n",
       "3   150000210-220  150000210  01/01/2015 12:00:00 AM       BURG RES   \n",
       "4   150000251-220  150000251  01/01/2015 12:00:00 AM       BURG RES   \n",
       "\n",
       "                From_Date  Offense Offense_Desc               BLOCK_ADDRESS  \\\n",
       "0  01/01/2015 12:00:00 AM      220     Burglary      5100 BLOCK  WICHITA ST   \n",
       "1  01/01/2015 12:00:00 AM      220     Burglary        2700 BLOCK  QUINN ST   \n",
       "2  01/01/2015 12:00:00 AM      220     Burglary  6500 BLOCK  MEADOWBROOK DR   \n",
       "3  01/01/2015 12:00:00 AM      220     Burglary    3000 BLOCK MC KINLEY AVE   \n",
       "4  01/01/2015 12:00:00 AM      220     Burglary           3800 BLOCK  AVE G   \n",
       "\n",
       "         City State Beat Division  CouncilDistrict Attempt_Complete  \\\n",
       "0  Fort Worth    TX  C44        C                8                C   \n",
       "1  Fort Worth    TX  C42        C                5                C   \n",
       "2  Fort Worth    TX  E24        E                5                C   \n",
       "3  Fort Worth    TX  N31        N                2                C   \n",
       "4  Fort Worth    TX  C41        C                8                C   \n",
       "\n",
       "   Location_Type LocationTypeDescription  intTotal  \\\n",
       "0             24        Speciality store         0   \n",
       "1             20         Residence, home         0   \n",
       "2             17            Liquor store         0   \n",
       "3             20         Residence, home         0   \n",
       "4             20         Residence, home         0   \n",
       "\n",
       "                                Location_1            latitude  \\\n",
       "0  32.686681044559926, -97.280407627736238  32.686681044559926   \n",
       "1                                      NaN                 NaN   \n",
       "2  32.746011096597293, -97.218819442381601  32.746011096597293   \n",
       "3  32.799674538970372, -97.369010160096721  32.799674538970372   \n",
       "4  32.729725211613555, -97.269106791461653  32.729725211613555   \n",
       "\n",
       "              longitude  \n",
       "0   -97.280407627736238  \n",
       "1                  None  \n",
       "2   -97.218819442381601  \n",
       "3   -97.369010160096721  \n",
       "4   -97.269106791461653  "
      ]
     },
     "execution_count": 18,
     "metadata": {},
     "output_type": "execute_result"
    }
   ],
   "source": [
    "# Loop through the characters in the string we want to replace, and replace them in turn\n",
    "for char in ['(', ')']: \n",
    "    df['Location_1'] = df.Location_1.str.replace(char, '')\n",
    "    \n",
    "# Split our `Location_1` column at the comma with the `.split()` method; \n",
    "# the `expand = True` argument returns a new data frame\n",
    "locs = df.Location_1.str.split(',', expand = True)\n",
    "\n",
    "locs.columns = ['latitude', 'longitude']\n",
    "\n",
    "# Add these new columns to our existing data frame with the \n",
    "# `pd.concat` method, to which we pass a list of data frames; \n",
    "# specifying `axis = 1` makes sure that we combine columns, not\n",
    "# rows.  \n",
    "df2 = pd.concat([df, locs], axis = 1)\n",
    "\n",
    "df2.head()"
   ]
  },
  {
   "cell_type": "markdown",
   "metadata": {
    "collapsed": false
   },
   "source": [
    "Success!  We can now write our location-aware data frame to a CSV, for use in CartoDB.  "
   ]
  },
  {
   "cell_type": "code",
   "execution_count": 19,
   "metadata": {
    "collapsed": true
   },
   "outputs": [],
   "source": [
    "df2.to_csv('burg2015.csv', index = False)"
   ]
  },
  {
   "cell_type": "markdown",
   "metadata": {
    "collapsed": true
   },
   "source": [
    "When you run this cell, `pandas` will write a CSV file named `burg2015.csv` in your Notebook's directory.  Go find it and make sure you know where it is; let's now head over to CartoDB at https://cartodb.com/.  \n",
    "\n",
    "## Working with CartoDB\n",
    "\n",
    "Visit the CartoDB website at the link above.  If you didn't create an account in class, follow the instructions below; if you've already created a CartoDB account, you can skip ahead.  \n",
    "\n",
    "On the CartoDB website, look for the \"Sign Up\" button; it should be displayed prominently in the center of the screen, and is also found on the top right.  Click there.  You'll be taken to the \"Sign up for CartoDB\" page; you'll have the option to log in with your Google account if you already have one, or enter a username, email, and password.  CartoDB will then take a few moments to set up your account.  Your free account gives you 250MB of data storage; paid plans offer more storage and more features.  \n",
    "\n",
    "Once your account has been created, you'll be taken to your CartoDB dashboard.  Add your burglaries CSV to CartoDB by dragging and dropping the file on your dashboard; alternatively you can click the \"New Dataset\" button if you prefer.  After you've dropped your CSV into your CartoDB account, CartoDB will take a few moments to process your data file.  If your dataset has uploaded correctly, you should be taken to your \"Data View\", which shows your dataset in tabular form.  \n",
    "\n",
    "![data view](http://personal.tcu.edu/kylewalker/img/data_view.PNG)"
   ]
  },
  {
   "cell_type": "markdown",
   "metadata": {},
   "source": [
    "Notice the column named `the_geom`.  This is the _geometry_ column in your table, which describes the location of your data.  As we've appropriately named our latitude and longitude columns in `pandas`, CartoDB has recognized those columns and created a geometry column from our CSV accordingly.  In some cases, CartoDB will not be able to figure this out automatically; in this instance, you may need to specify the geometry columns yourself by clicking __Edit &#8680; Georeference__, and following the directions provided.\n",
    "\n",
    "Now that your data are uploaded, you probably want to take a look at it!  Change the tab at the top of the screen from Data View to __Map View__.  You should see a map of Fort Worth, with the locations of burglaries from the first six months of 2016 displayed on the screen, as in the image below.  \n",
    "\n",
    "![map_view](http://personal.tcu.edu/kylewalker/img/map_view.PNG)"
   ]
  },
  {
   "cell_type": "markdown",
   "metadata": {},
   "source": [
    "CartoDB has a feature that will create \"interesting maps\" for you that appears in the lower-left hand corner of the screen; we'll explore some of these ourselves through the menus.  Before we do this, however, we'll want to appropriately specify our date column so that we can visualize trends over time.  Click \"Data View\" from the top of the screen again, and find the `from_date` column, which is currently formatted as a string.  This column represents the date of the offense.  Click the column header to change the column type to `date`, as in the GIF below.  \n",
    "\n",
    "<img src=\"http://personal.tcu.edu/kylewalker/img/to_date.gif\" style=\"width: 600px\">"
   ]
  },
  {
   "cell_type": "markdown",
   "metadata": {},
   "source": [
    "Now, click __Visualize__ in the upper-right corner of your screen.  You'll be asked if you want to create a map, and you will tell CartoDB that this is OK.  Now, click Map View again; you'll have options to both style your data and format your map.  \n",
    "\n",
    "Take a few moments to explore your map view.  On the top, you have options available to add map elements, preview your map, or export as a static image.  In the bottom-left corner, you can change your map's basemap, selecting from a number of pre-made styles, or even your own custom basemap (those of you taking Urban GIS with me next semester will learn how to make one!).  You can also change your map's options; CartoDB doesn't default to enabling scroll wheel zoom, so I like to turn that on.  \n",
    "\n",
    "Importantly, however, you have options to manipulate the appearance of your data on the right-hand side of the screen.  The SQL pane allows you to interact with and manipulate your data using Structured Query Language, the standard syntax for querying databases.  One of the brilliant things about CartoDB is that once you've uploaded your data to CartoDB's cloud, it converts your data into a SQL-enabled PostGIS database, the most popular open-source spatial database.  We're not going to worry about this for this assignment, but for the GIS students among you - this means that you can do numerous GIS operations with your data in CartoDB.  If you want to learn more, check out the tutorial here: http://academy.cartodb.com/courses/04-sql-postgis.html.  \n",
    "\n",
    "The option that is most important for us in this assignment is the Wizards pane, denoted by the paintbrush icon.  Click it and take a look.  CartoDB has defaulted to the \"simple\" style, in which every dot is the default orange.  This may make sense for some applications, but in areas of high point density it can make things appear cluttered when zoomed out.  As such, CartoDB provides several built-in methods for styling point data.  As you go through the list below, select the options in turn in CartoDB and see how they work.   \n",
    "\n",
    "* __Cluster__: when zoomed out, overlapping points will be denoted by a larger circle labeled with the number of points it represents; \n",
    "* __Choropleth__: represents quantitative variation in a selected column by color on the map; \n",
    "* __Category__: represents qualitative variation in a selected column by color; \n",
    "* __Bubble__: quantitative variation in a selected column is represented by point size on the map; \n",
    "* __Torque__: an animated time series visualization.  Spend some time modifying the options for this one.  If you've followed the instructions above correctly to convert the date column, the \"Time Column\" should default to `from_date`.  This date will then be represented by a time slider in the lower-left of your map.  You can choose to make your Torque map \"cumulative,\" which means that points from the past will stay on the screen throughout the period, or turn this off to only show points from a selected period at a time.  I won't go through all the other options - but try modifying them to see how your map changes.  \n",
    "* __Heatmap__: These types of maps are more appropriately called _kernel density maps_; you may remember the term \"kernel density\" from your work with `seaborn` earlier in the semester.  Kernel density maps are analogous here as they leverage a similar algorithm but apply it to geographic coordinates on a map.  Try experimenting with this style as well; heatmaps can also be animated over time by choosing the available option.  \n",
    "* __Torque cat__: like Torque, but can style your dots by a categorical column; \n",
    "* __Intensity__: uses color blending to show areas of greater/less concentration; \n",
    "* __Density__: \"bins\" your data into either hexagons or rectangles and shades the shapes accordingly.  Something is off with this method at the moment - I've been having trouble getting it to work properly.  \n",
    "\n",
    "Other options give you greater control over interactivity and the appearance of your map.  For visualization methods that show each individual point, you can select the __Infowindow__ option to modify the pop-up that appears when the map viewer clicks a point.  This pop-up can contain information from any of the fields in your table.   The __CSS__ tab allows you to style your data manually using CartoCSS, a CSS-like syntax for styling map data.  The __Legends__ tab gives you control over the appearance of your legend (when applicable), and the __Filters__ tab gives you an interactive way to subset your data, without having to write SQL.  \n",
    "\n",
    "Choose a method of visualization and map style that you feel is appropriate for the data - animated or not, either way is fine.  Have some fun making your map!  Add map elements, change your basemap, and customize your styling as appropriate.  When you are finished, click the __Publish__ button in the upper-right corner.  \n",
    "\n",
    "![publish](http://personal.tcu.edu/kylewalker/img/publish.PNG)\n",
    "\n",
    "You can share a direct link to your CartoDB map for sharing, you can get IFrame code for embedding in a website (or a Jupyter Notebook!), or you can get the path to the visualization for use in CartoDB.js, CartoDB's JavaScript library for creating more sophisticated web applications.  \n",
    "\n",
    "One other incredibly cool thing about CartoDB: it exposes all public datasets via its SQL API for dynamic programmatic access.  To find out how to make a call to the API, visit your CartoDB profile at https://{yournamehere}.cartodb.com/me.  My profile, for example, is https://kwalkertcu.cartodb.com/me.  Click the link to view your (or my) datasets, and choose one; then, look for the \"API Call\" link at the bottom of the page.  Click it, and you'll get a link you can use to access your data as a JSON API!  For example, check out what we can do here: "
   ]
  },
  {
   "cell_type": "code",
   "execution_count": 27,
   "metadata": {
    "collapsed": false,
    "scrolled": false
   },
   "outputs": [],
   "source": [
    "api_call = 'https://kwalkertcu.cartodb.com:443/api/v2/sql?q=select latitude, longitude from public.burg2015_1'\n",
    "\n",
    "cleaned_call = api_call.replace(' ', '%20') + '&format=csv' # we ask it to return CSV; easier for pandas\n",
    "\n",
    "burglaries = pd.read_csv(cleaned_call)"
   ]
  },
  {
   "cell_type": "code",
   "execution_count": 30,
   "metadata": {
    "collapsed": false
   },
   "outputs": [
    {
     "data": {
      "text/plain": [
       "<seaborn.axisgrid.JointGrid at 0xb1baeb8>"
      ]
     },
     "execution_count": 30,
     "metadata": {},
     "output_type": "execute_result"
    },
    {
     "data": {
      "image/png": "[encoded data removed]",
      "text/plain": [
       "<matplotlib.figure.Figure at 0x985a080>"
      ]
     },
     "metadata": {},
     "output_type": "display_data"
    }
   ],
   "source": [
    "import seaborn as sns\n",
    "sns.set(style = 'whitegrid')\n",
    "sns.set_context('notebook')\n",
    "%matplotlib inline\n",
    "\n",
    "sns.jointplot(data = burglaries, x = 'longitude', y = 'latitude', kind = 'kde', color = 'green')\n",
    "\n",
    "# You can kind of see the shape of the city on the plot!"
   ]
  },
  {
   "cell_type": "markdown",
   "metadata": {},
   "source": [
    "One could envision an interactive report in the Jupyter Notebook that includes both maps and charts; for example, the IFrame code available from CartoDB can also be embedded right in the Jupyter Notebook, and in turn sit alongside `seaborn` or Plotly plots.  \n",
    "\n",
    "## For submission\n",
    "\n",
    "All you need to do to get credit for this assignment is submit a link to your map to me!  The map can't be the default, however - it needs to be clear that you've spend some time modifying it to get full credit.  The easiest way to submit the map to me is to grab the \"Get the link\" link from the \"Publish\" menu, then submit the link to me via the eCollege dropbox.  However, I'll also accept by email as that's how we've been doing things this semester.  \n",
    "\n",
    "For full credit, your map submission is due __Thursday, December 3__.  "
   ]
  },
  {
   "cell_type": "code",
   "execution_count": null,
   "metadata": {
    "collapsed": true
   },
   "outputs": [],
   "source": []
  }
 ],
 "metadata": {
  "kernelspec": {
   "display_name": "Python 3",
   "language": "python",
   "name": "python3"
  },
  "language_info": {
   "codemirror_mode": {
    "name": "ipython",
    "version": 3
   },
   "file_extension": ".py",
   "mimetype": "text/x-python",
   "name": "python",
   "nbconvert_exporter": "python",
   "pygments_lexer": "ipython3",
   "version": "3.4.3"
  }
 },
 "nbformat": 4,
 "nbformat_minor": 0
}
