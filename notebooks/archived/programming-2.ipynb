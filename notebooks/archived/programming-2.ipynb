{
 "cells": [
  {
   "cell_type": "markdown",
   "metadata": {},
   "source": [
    "## Programming II: Functions and modules in Python\n",
    "\n",
    "Congratulations on completing your first Python assignment!  You'll be progressively building on those core skills throughout the semester.  \n",
    "\n",
    "In this week's notebook, you are going to learn about functions and modules.  Functions are in some ways the bread-and-butter of Python programming.  They make code re-usable, as they allow you to apply your code in other contexts and circumstances.  You can think about functions this way: while variables store elements of your code (e.g. numbers, strings, lists), functions can store entire chunks of your code, which can in turn be re-used as necessary.  \n",
    "\n",
    "Functions include a __definition__ and __parameters__, and are specified with `def` as follows: \n",
    "\n",
    "```python\n",
    "def myfunction(parameter1, parameter2, parameter3): \n",
    "    \"\"\"Your code goes here\"\"\"\n",
    "```\n",
    "\n",
    "The `def` command allows you to introduce a function definition.  You then specify the __parameters__ within parentheses following the function name, which are like variables that operate within your function.  A colon (`:`) then follows the parentheses, and the contents of the function are found beginning on the next line as an indented code block (more on indentation soon).  \n",
    "\n",
    "After you've defined the function, it can be __called__ by supplying __arguments__ to the parameters you've defined, again within parentheses.  For example: \n",
    "\n",
    "```python\n",
    "myfunction(arg1, arg2, arg3)\n",
    "```\n",
    "\n",
    "So how does this all work?  Let's try it out!\n",
    "\n",
    "At a very basic level, you can define a function without parameters - an _empty_ function.  This function will return whatever you've specified after it is called.  "
   ]
  },
  {
   "cell_type": "code",
   "execution_count": 1,
   "metadata": {
    "collapsed": true
   },
   "outputs": [],
   "source": [
    "def print_five(): \n",
    "    print(5)"
   ]
  },
  {
   "cell_type": "markdown",
   "metadata": {},
   "source": [
    "Now, we call the function: "
   ]
  },
  {
   "cell_type": "code",
   "execution_count": 2,
   "metadata": {
    "collapsed": false
   },
   "outputs": [
    {
     "name": "stdout",
     "output_type": "stream",
     "text": [
      "5\n"
     ]
    }
   ],
   "source": [
    "print_five()"
   ]
  },
  {
   "cell_type": "markdown",
   "metadata": {},
   "source": [
    "Notice what happened when we called our `print_five` function.  As the function has no parameters, it will always give us back 5.  Naturally, you're going to want your functions to get more complicated than this - which is what parameters are for.   Let's try out a function that has a parameter and performs a basic mathematical operation.  "
   ]
  },
  {
   "cell_type": "code",
   "execution_count": 3,
   "metadata": {
    "collapsed": false
   },
   "outputs": [
    {
     "name": "stdout",
     "output_type": "stream",
     "text": [
      "5.5\n"
     ]
    }
   ],
   "source": [
    "def divide_by_two(x): \n",
    "    print(x / 2)\n",
    "    \n",
    "divide_by_two(11)"
   ]
  },
  {
   "cell_type": "markdown",
   "metadata": {},
   "source": [
    "The function itself is fairly straightforward.  Our new function, `divide_by_two`, takes a number, which we are calling `x`.  It divides `x` by two, and then prints the result for us.  By adding a parameter, however, our function is now re-usable.  Let's try it out: "
   ]
  },
  {
   "cell_type": "code",
   "execution_count": 4,
   "metadata": {
    "collapsed": false
   },
   "outputs": [
    {
     "name": "stdout",
     "output_type": "stream",
     "text": [
      "27.5\n"
     ]
    }
   ],
   "source": [
    "divide_by_two(55)"
   ]
  },
  {
   "cell_type": "code",
   "execution_count": null,
   "metadata": {
    "collapsed": true
   },
   "outputs": [],
   "source": [
    "## Now it's your turn!  Write a new, empty function that prints your name when called.  Call the function.  \n",
    "\n"
   ]
  },
  {
   "cell_type": "markdown",
   "metadata": {},
   "source": [
    "__The 'return' statement__\n",
    "\n",
    "In the above examples, we've created functions that print some result to our screen when called.  Often, however, we want our functions to work as part of a larger workflow.  This is accomplished with the `return` statement, which allows the output of functions to be assigned to a new variable.  \n",
    "\n",
    "For example, let's try to assign the result of the `divide_by_two` function to a new variable: "
   ]
  },
  {
   "cell_type": "code",
   "execution_count": 5,
   "metadata": {
    "collapsed": false
   },
   "outputs": [
    {
     "name": "stdout",
     "output_type": "stream",
     "text": [
      "6.0\n"
     ]
    }
   ],
   "source": [
    "y = divide_by_two(12)"
   ]
  },
  {
   "cell_type": "markdown",
   "metadata": {},
   "source": [
    "And when we ask Python for the value of y: "
   ]
  },
  {
   "cell_type": "code",
   "execution_count": 6,
   "metadata": {
    "collapsed": true
   },
   "outputs": [],
   "source": [
    "y"
   ]
  },
  {
   "cell_type": "markdown",
   "metadata": {},
   "source": [
    "We don't get anything back.  Now, let's try modifying the function with `return` used instead of `print`.  "
   ]
  },
  {
   "cell_type": "code",
   "execution_count": 1,
   "metadata": {
    "collapsed": false
   },
   "outputs": [
    {
     "data": {
      "text/plain": [
       "6.0"
      ]
     },
     "execution_count": 1,
     "metadata": {},
     "output_type": "execute_result"
    }
   ],
   "source": [
    "def divide_by_two(x): \n",
    "    return x / 2\n",
    "\n",
    "y = divide_by_two(12)\n",
    "\n",
    "y"
   ]
  },
  {
   "cell_type": "code",
   "execution_count": null,
   "metadata": {
    "collapsed": true
   },
   "outputs": [],
   "source": [
    "## Now it's your turn!  Write a new function that subtracts 7 from a number\n",
    "## and returns the result.  Assign the result of the function to a new \n",
    "## variable (your argument can be any number you want).  \n",
    "\n"
   ]
  },
  {
   "cell_type": "markdown",
   "metadata": {},
   "source": [
    "__Python and whitespace__\n",
    "\n",
    "You may have noticed that the statements that follow the function definitions above are __indented__.  Python code obeys __whitespace__ for code organization.  In many languages, functions, loops, and conditional logic (which we'll get to next week), etc. are organized with curly braces, like the equivalent R code below:  \n",
    "\n",
    "```r\n",
    "divide_by_two <- function(x) {\n",
    "\n",
    "    return(x / 2)\n",
    "\n",
    "}\n",
    "```\n",
    "\n",
    "The R code, like in many languages, is organized in relation to the position of the curly braces, not the positioning of the code itself per se.  In Python, curly braces are not used in this capacity.  Instead, code is organized by indentation and whitespace.  Within a function definition, for example, the code to be executed by the function call should be indented with four spaces beneath the line that contains the `def` statement.  In many Python IDEs and the IPython Notebook, the software will already know this and indent your code accordingly.  In addition, the Tab key is set to be equivalent to the four spaces in most of these software packages as well.  Without proper indentation, however, your code will not run correctly. "
   ]
  },
  {
   "cell_type": "code",
   "execution_count": 8,
   "metadata": {
    "collapsed": false
   },
   "outputs": [
    {
     "ename": "IndentationError",
     "evalue": "expected an indented block (<ipython-input-8-ef884dd9848f>, line 2)",
     "output_type": "error",
     "traceback": [
      "\u001b[1;36m  File \u001b[1;32m\"<ipython-input-8-ef884dd9848f>\"\u001b[1;36m, line \u001b[1;32m2\u001b[0m\n\u001b[1;33m    return(x / 3)\u001b[0m\n\u001b[1;37m         ^\u001b[0m\n\u001b[1;31mIndentationError\u001b[0m\u001b[1;31m:\u001b[0m expected an indented block\n"
     ]
    }
   ],
   "source": [
    "def divide_by_three(x): \n",
    "return x / 3"
   ]
  },
  {
   "cell_type": "markdown",
   "metadata": {},
   "source": [
    "__Named arguments__\n",
    "\n",
    "Later in the semester, we'll get started using external libraries to do our work, which have many pre-built functions for accomplishing data analysis tasks.  Many of these functions are very flexible - which means they have a lot of parameters!  It turn, it can be helpful to keep your code organized when you are working with multiple parameters in a function.  \n",
    "\n",
    "There are a couple ways to supply multiple arguments to a function in Python: \n",
    "\n",
    "* In the order they are specified in the function definition; \n",
    "* As _named_ arguments, in which both the parameter name and the argument are invoked.  \n",
    "\n",
    "I'll explain this further.  Let's define a function, `subtract`, that takes two numbers and will subtract the second number from the first.  "
   ]
  },
  {
   "cell_type": "code",
   "execution_count": 1,
   "metadata": {
    "collapsed": true
   },
   "outputs": [],
   "source": [
    "def subtract(x, y): \n",
    "    return x - y"
   ]
  },
  {
   "cell_type": "markdown",
   "metadata": {},
   "source": [
    "Now, we call the function by supplying two arguments to it: "
   ]
  },
  {
   "cell_type": "code",
   "execution_count": 2,
   "metadata": {
    "collapsed": false
   },
   "outputs": [
    {
     "data": {
      "text/plain": [
       "4"
      ]
     },
     "execution_count": 2,
     "metadata": {},
     "output_type": "execute_result"
    }
   ],
   "source": [
    "subtract(11, 7)"
   ]
  },
  {
   "cell_type": "markdown",
   "metadata": {},
   "source": [
    "We could get the same result by supplying _named_ arguments to the function, which take the form of `parameter = argument`: "
   ]
  },
  {
   "cell_type": "code",
   "execution_count": 3,
   "metadata": {
    "collapsed": false
   },
   "outputs": [
    {
     "data": {
      "text/plain": [
       "4"
      ]
     },
     "execution_count": 3,
     "metadata": {},
     "output_type": "execute_result"
    }
   ],
   "source": [
    "subtract(x = 11, y = 7)"
   ]
  },
  {
   "cell_type": "markdown",
   "metadata": {},
   "source": [
    "Flipping the order of the arguments will give us a different result _unless_ we name the arguments accordingly.  Take a look: "
   ]
  },
  {
   "cell_type": "code",
   "execution_count": 4,
   "metadata": {
    "collapsed": false
   },
   "outputs": [
    {
     "data": {
      "text/plain": [
       "-4"
      ]
     },
     "execution_count": 4,
     "metadata": {},
     "output_type": "execute_result"
    }
   ],
   "source": [
    "subtract(7, 11)"
   ]
  },
  {
   "cell_type": "code",
   "execution_count": 5,
   "metadata": {
    "collapsed": false
   },
   "outputs": [
    {
     "data": {
      "text/plain": [
       "4"
      ]
     },
     "execution_count": 5,
     "metadata": {},
     "output_type": "execute_result"
    }
   ],
   "source": [
    "subtract(y = 7, x = 11)"
   ]
  },
  {
   "cell_type": "markdown",
   "metadata": {},
   "source": [
    "Be careful when mixing named and unnamed arguments, however.  When arguments are unnamed, Python assumes that you are supplying them in the order of the corresponding parameters in the function definition.  As such, you can mix named and unnamed arguments, but unnamed arguments cannot follow named arguments in a function call.  "
   ]
  },
  {
   "cell_type": "code",
   "execution_count": 7,
   "metadata": {
    "collapsed": false
   },
   "outputs": [
    {
     "data": {
      "text/plain": [
       "4"
      ]
     },
     "execution_count": 7,
     "metadata": {},
     "output_type": "execute_result"
    }
   ],
   "source": [
    "subtract(11, y = 7)"
   ]
  },
  {
   "cell_type": "code",
   "execution_count": 8,
   "metadata": {
    "collapsed": false
   },
   "outputs": [
    {
     "ename": "SyntaxError",
     "evalue": "non-keyword arg after keyword arg (<ipython-input-8-3e67d86357a1>, line 1)",
     "output_type": "error",
     "traceback": [
      "\u001b[1;36m  File \u001b[1;32m\"<ipython-input-8-3e67d86357a1>\"\u001b[1;36m, line \u001b[1;32m1\u001b[0m\n\u001b[1;33m    subtract(x = 11, 7)\u001b[0m\n\u001b[1;37m                    ^\u001b[0m\n\u001b[1;31mSyntaxError\u001b[0m\u001b[1;31m:\u001b[0m non-keyword arg after keyword arg\n"
     ]
    }
   ],
   "source": [
    "subtract(x = 11, 7)"
   ]
  },
  {
   "cell_type": "markdown",
   "metadata": {
    "collapsed": true
   },
   "source": [
    "__Docstrings and documenting your code__\n",
    "\n",
    "You've already learned how to use comments to document your code with the `#` operator, like this: \n",
    "\n",
    "```python\n",
    "# I just commented out this line!\n",
    "```\n",
    "\n",
    "Comments are generally best used for small descriptive statements about your code, or notes to yourself regarding something you'd like to remember.  More formal documentation of your code - e.g. what you functions are supposed to do - are best handled through __docstrings__.  Docstrings are enclosed in triple quotes (`\"\"\"`), and can go beneath the function definition to explain its components.  Let's try using a docstring to explain, in basic terms, the contents of our `subtract` function.  "
   ]
  },
  {
   "cell_type": "code",
   "execution_count": 6,
   "metadata": {
    "collapsed": false
   },
   "outputs": [],
   "source": [
    "def subtract(x, y): \n",
    "    \"\"\"\n",
    "    Subtract one number from another.  \n",
    "    \n",
    "    Parameters: \n",
    "    -----------    \n",
    "    x: The number you would like to subtract a quantity from (the minuend).  \n",
    "    y: The quantity you would like to subtract from x (the subtrahend).     \n",
    "    \"\"\"\n",
    "    \n",
    "    return x - y"
   ]
  },
  {
   "cell_type": "markdown",
   "metadata": {},
   "source": [
    "Now, try calling the function - but before you do so, press Shift + Tab on your keyboard after typing the first parenthesis to view your function documentation.  You've now created a reference for others who might use your function.   "
   ]
  },
  {
   "cell_type": "code",
   "execution_count": null,
   "metadata": {
    "collapsed": true
   },
   "outputs": [],
   "source": []
  },
  {
   "cell_type": "code",
   "execution_count": null,
   "metadata": {
    "collapsed": true
   },
   "outputs": [],
   "source": [
    "# Now it is your turn!  \n",
    "\n",
    "# Create a new function, \"multiply\", that multiplies two numbers together.  \n",
    "# Write a docstring in the function definition that describes what the function does, \n",
    "# and explains the parameters to the user.  \n",
    "# Run your function and call it to test it out.  \n",
    "\n"
   ]
  },
  {
   "cell_type": "markdown",
   "metadata": {},
   "source": [
    "## Scripts and modules\n",
    "\n",
    "Above, I mentioned docstrings as a way to document your code and in turn make it re-usable.  The functions we've defined in this session might be of use to others; however, right now they only exist inside of our Jupyter Notebook sessions.  So how do you go about doing this?  \n",
    "\n",
    "In Python, programmers commonly store collections of related code in a text file called a __script__.  A Python script file has a .py suffix, and might include variables, functions, classes (more on classes next week), or other useful code to be used in a project or projects.  The script can then function as a __module__, which can then be loaded in to any other Python session.   By loading the code in the module with the `import` statement, the user gets access to the contents of the code in that script. \n",
    "\n",
    "This will make more sense when we do it - so let's create a new module and import it into our notebook session.  Scripts/modules can be authored in any text editor or integrated development environment (IDE), and for large projects you might want to use a full-fledged IDE like __Rodeo__.  For this small example, however, we'll use the built-in text editor in SageMathCloud.   \n",
    "\n",
    "To set up a new text file, follow these steps: \n",
    "\n",
    "* From the menu in SageMathCloud, click __New__.   You'll be prompted to create a new file in your current directory, which should be the Assignment 2 folder.  \n",
    "* Name your new file __mymodule__ in the space provided.  \n",
    "* Look for the __File__ drop-down menu, and click the down arrow.  From the list of options, scroll down and select __Python (.py)__.    \n",
    "\n",
    "You've now set up a new module!  However, it isn't of use yet without any code.  Write the following code in your new text file - I recommend typing it manually rather than copy-pasting so you get used to the feel of writing Python.  Also, a heads-up: copy pasting can mess with code whitespace depending on where you are copy-pasting from, so be careful about that (even though you'll inevitably do some of it at some point).  \n",
    "\n",
    "```python\n",
    "tcu = \"Texas Christian\"\n",
    "\n",
    "def add_uni(uni_name): \n",
    "    return uni_name + \" University\"\n",
    "```\n",
    "\n",
    "Save your module.  You have two objects in your module: a variable called `tcu` that is assigned the string `\"Texas Christian\"`, and a function, `add_uni`, that will add the string `\"University\"` to any string input.  When I was working at the Church Pension Group in NYC, I once had a project in which I had to standardize the names of the universities all of our clients had attended (which they entered themselves into a web form) - I wish I would have used Python for that!\n",
    "\n",
    "__Namespaces__\n",
    "\n",
    "If you've done all of this correctly, you should now be able to load that code into this notebook session with the `import` statement.  Doing so adds your module to the Python __namespace__.  So what is a _namespace_, exactly?  As the official Python documentation puts it, \"a namespace is a mapping from names to objects.\"  As such, this refers to the names (and in turn objects) that are accessible to you in your Python session.  Your namespace will include: \n",
    "\n",
    "* Built-in names - such as the `type()` or `print()` functions that you've learned in the previous notebook; \n",
    "* _Global_ names - these refer to objects you've defined that are accessible in the entire Python session, e.g. your `subtract()` function we worked with earlier; \n",
    "* _Local_ names that are only accessible inside of a function, such as the names of function parameters.  \n",
    "\n",
    "Why is all of this important?  When writing code, it is important to be as clear as possible when declaring names - the name should give some hint as to what it refers to.  If you ever need to remove an object from your Python session, use the `del` statement; for example, `del x` will remove the variable named `x` from your namespace.  \n",
    "\n",
    "Additionally, avoid replicating built-in names with your objects, as this will override them in your session (e.g. don't create a new function and call it `print`).  There are some safeguards against this, however, when loading external code into your python session.  Let's import your new module into this session with the `import` statement.  The module name is the name of the text file you've authored, without the `.py` suffix.  "
   ]
  },
  {
   "cell_type": "code",
   "execution_count": 1,
   "metadata": {
    "collapsed": true
   },
   "outputs": [],
   "source": [
    "import mymodule"
   ]
  },
  {
   "cell_type": "markdown",
   "metadata": {},
   "source": [
    "If you set up the module correctly, you should now have access to the objects in the module.  However: both objects, the variable and the function, need to be referenced by the module name, `mymodule`, followed by a dot (`.`), followed by the object name.  For example: "
   ]
  },
  {
   "cell_type": "code",
   "execution_count": 2,
   "metadata": {
    "collapsed": false
   },
   "outputs": [
    {
     "data": {
      "text/plain": [
       "'Texas Christian'"
      ]
     },
     "execution_count": 2,
     "metadata": {},
     "output_type": "execute_result"
    }
   ],
   "source": [
    "mymodule.tcu"
   ]
  },
  {
   "cell_type": "code",
   "execution_count": 3,
   "metadata": {
    "collapsed": false
   },
   "outputs": [
    {
     "data": {
      "text/plain": [
       "'Texas Christian University'"
      ]
     },
     "execution_count": 3,
     "metadata": {},
     "output_type": "execute_result"
    }
   ],
   "source": [
    "mymodule.add_uni(mymodule.tcu)"
   ]
  },
  {
   "cell_type": "markdown",
   "metadata": {},
   "source": [
    "But what if you don't want to type `mymodule` every time?  You have some options.  You can either import the module __as__ some other name; "
   ]
  },
  {
   "cell_type": "code",
   "execution_count": 4,
   "metadata": {
    "collapsed": false
   },
   "outputs": [
    {
     "data": {
      "text/plain": [
       "'Texas Christian'"
      ]
     },
     "execution_count": 4,
     "metadata": {},
     "output_type": "execute_result"
    }
   ],
   "source": [
    "import mymodule as mm\n",
    "\n",
    "mm.tcu"
   ]
  },
  {
   "cell_type": "markdown",
   "metadata": {},
   "source": [
    "You can import selected objects from the module directly into your namespace with the `from` statement: "
   ]
  },
  {
   "cell_type": "code",
   "execution_count": 5,
   "metadata": {
    "collapsed": false
   },
   "outputs": [
    {
     "data": {
      "text/plain": [
       "'Texas Christian'"
      ]
     },
     "execution_count": 5,
     "metadata": {},
     "output_type": "execute_result"
    }
   ],
   "source": [
    "from mymodule import tcu\n",
    "\n",
    "tcu"
   ]
  },
  {
   "cell_type": "markdown",
   "metadata": {},
   "source": [
    "Or, you can import all objects from a module directly into your namespace by using an asterisk (`*`).  Just be careful with this, especially if you are importing multiple modules, as you could run into namespace conflicts (which is why the module prefixes tend to be a nice safeguard, and will be standard practice in this course).  "
   ]
  },
  {
   "cell_type": "code",
   "execution_count": 6,
   "metadata": {
    "collapsed": false
   },
   "outputs": [
    {
     "data": {
      "text/plain": [
       "'Texas Christian University'"
      ]
     },
     "execution_count": 6,
     "metadata": {},
     "output_type": "execute_result"
    }
   ],
   "source": [
    "from mymodule import *\n",
    "\n",
    "add_uni(tcu)"
   ]
  },
  {
   "cell_type": "code",
   "execution_count": 7,
   "metadata": {
    "collapsed": false
   },
   "outputs": [
    {
     "data": {
      "text/plain": [
       "'Baylor University'"
      ]
     },
     "execution_count": 7,
     "metadata": {},
     "output_type": "execute_result"
    }
   ],
   "source": [
    "add_uni(\"Baylor\")"
   ]
  },
  {
   "cell_type": "markdown",
   "metadata": {},
   "source": [
    "## Exercises\n",
    "\n",
    "As with the previous Jupyter Notebook you worked with, I'll ask you to complete a series of small exercises below to get full credit for this week's assignment.  Some of these exercises will build upon the skills you learned last week - so be prepared!\n",
    "\n",
    "__Exercise 1:__ Explain, in your own words, the difference between using `print` and `return` for the output of a function.  Write your response below, in this Markdown cell.  \n"
   ]
  },
  {
   "cell_type": "markdown",
   "metadata": {},
   "source": [
    "__Exercise 2:__ Write a function called `make_big` that takes a lowercase string as input and prints the string with all capital letters.  Create a new variable and assign to it a string with all lowercase letters, then call the `make_big` function with that variable as its argument.  "
   ]
  },
  {
   "cell_type": "code",
   "execution_count": null,
   "metadata": {
    "collapsed": true
   },
   "outputs": [],
   "source": [
    "# Your answer goes here!\n",
    "\n"
   ]
  },
  {
   "cell_type": "markdown",
   "metadata": {},
   "source": [
    "__Exercise 3:__ (Adapted from your textbook) Python provides a built-in function called `len` that returns the length of a string.  For example: "
   ]
  },
  {
   "cell_type": "code",
   "execution_count": 1,
   "metadata": {
    "collapsed": false
   },
   "outputs": [
    {
     "data": {
      "text/plain": [
       "26"
      ]
     },
     "execution_count": 1,
     "metadata": {},
     "output_type": "execute_result"
    }
   ],
   "source": [
    "len('Texas Christian University')"
   ]
  },
  {
   "cell_type": "markdown",
   "metadata": {},
   "source": [
    "Additionally, Python includes built-in string methods called `ljust` and `rjust` that fill in a string with a specified character the left or right hand side so that the string attains a specified length.  For example: "
   ]
  },
  {
   "cell_type": "code",
   "execution_count": 4,
   "metadata": {
    "collapsed": false
   },
   "outputs": [
    {
     "data": {
      "text/plain": [
       "'IIIIIIIIIKansas'"
      ]
     },
     "execution_count": 4,
     "metadata": {},
     "output_type": "execute_result"
    }
   ],
   "source": [
    "ks = 'Kansas'\n",
    "\n",
    "ks.rjust(15, 'I')"
   ]
  },
  {
   "cell_type": "markdown",
   "metadata": {},
   "source": [
    "As the string `'Kansas'` has six characters, passing `(15, 'I')` to `rjust` adds nine `I`s to the left of `Kansas`.  \n",
    "\n",
    "Your job is now to write a function named right_justify that takes a string named `s` as a parameter and prints the string with enough leading spaces so that the last letter of the string is in column 70 of the display.  For example: \n",
    "\n",
    "```python\n",
    "\n",
    "right_justify(s = 'kyle')\n",
    "\n",
    "                                                              kyle # the result\n",
    "                                                              \n",
    "```\n",
    "\n",
    "Write the function in the cell below, then run the function to show that it works.  "
   ]
  },
  {
   "cell_type": "code",
   "execution_count": 9,
   "metadata": {
    "collapsed": false
   },
   "outputs": [],
   "source": [
    "# Your answer goes here!\n",
    "\n"
   ]
  },
  {
   "cell_type": "markdown",
   "metadata": {},
   "source": [
    "__Exercise 4:__  Write a function called `first_word` that takes a list of character strings as input and returns the first element of the list in alphabetical order.  For example, your function should work like this: \n",
    "\n",
    "```python\n",
    "\n",
    "students = ['Mary', 'Zelda', 'Jimmy', 'Jack', 'Bartholomew', 'Gertrude']\n",
    "\n",
    "first_word(students)\n",
    "\n",
    "'Bartholomew' # The result\n",
    "\n",
    "```\n",
    "\n",
    "_Hint:_ You'll need to sort your list in the function to accomplish this.  \n",
    "\n",
    "After you've written the function, run it by supplying the list `teams` to your function as an argument to test it.  "
   ]
  },
  {
   "cell_type": "code",
   "execution_count": 3,
   "metadata": {
    "collapsed": false
   },
   "outputs": [],
   "source": [
    "teams = ['Stars', 'Cowboys', 'Rangers', 'Mavericks', 'FC Dallas']\n",
    "\n",
    "# Your code goes below!\n",
    "\n"
   ]
  },
  {
   "cell_type": "markdown",
   "metadata": {
    "collapsed": true
   },
   "source": [
    "__Exercise 5:__ Create a new Python script and save it in your notebook directory.  In the script, extend the function from Exercise 4 by writing a new function called `get_word`.  This function should have two parameters.  The first should take an input list of character strings, as in Exercise 4; the second parameter should take the index of the character string you'd like to return from the list in alphabetical order.  \n",
    "\n",
    "For example: \n",
    "\n",
    "```python\n",
    "\n",
    "get_word(students, 3)\n",
    "\n",
    "'Jimmy' # The result\n",
    "\n",
    "```\n",
    "\n",
    "Your code in the cell below should: \n",
    "\n",
    "1. Import your `get_word` function into your Python session, using one of the specified methods for importing modules that you've learned in this notebook; \n",
    "2. Call the function with `teams` as the first argument so that it returns 'Mavericks', and assign the result to a new variable called `mavs`; \n",
    "3. Print the `mavs` variable to make sure you've done everything correctly - if you have, it should print 'Mavericks'.  \n"
   ]
  },
  {
   "cell_type": "code",
   "execution_count": null,
   "metadata": {
    "collapsed": false
   },
   "outputs": [],
   "source": [
    "# Your code goes below!\n",
    "\n"
   ]
  },
  {
   "cell_type": "markdown",
   "metadata": {},
   "source": [
    "For full credit, your assignment folder must include the completed Jupyter notebook and your Python script.  "
   ]
  }
 ],
 "metadata": {
  "kernelspec": {
   "display_name": "Python [Root]",
   "language": "python",
   "name": "Python [Root]"
  },
  "language_info": {
   "codemirror_mode": {
    "name": "ipython",
    "version": 3
   },
   "file_extension": ".py",
   "mimetype": "text/x-python",
   "name": "python",
   "nbconvert_exporter": "python",
   "pygments_lexer": "ipython3",
   "version": "3.5.2"
  }
 },
 "nbformat": 4,
 "nbformat_minor": 0
}
