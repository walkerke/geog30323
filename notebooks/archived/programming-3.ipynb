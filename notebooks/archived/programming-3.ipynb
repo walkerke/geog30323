{
 "cells": [
  {
   "cell_type": "markdown",
   "metadata": {},
   "source": [
    "## Programming III: Loops, conditional statements, and object-oriented programming\n",
    "\n",
    "Welcome to your third and \"final\" notebook covering basic Python and programming concepts.  You'll be learning more ways to use Python over the course of the semester; however, this is the last notebook that directly emphasizes core programming skills.  This week's notebook will cover some additional topics that are essential to programming: loops, conditional statements, and object-oriented programming.  \n",
    "\n",
    "### Loops\n",
    "\n",
    "In programming, you will often want to do an operation multiple times, or carry out some process over a list of values that you've created.  To do this, you will frequently turn to __iterators__.  \n",
    "\n",
    "The most commonly used iterators in Python are `for` and `while`.  A `for` loop carries out an action, or set of actions, for every element that you tell it to.  Let's give it a try in very simple terms.  I've created a list of teams in the Big 12 below; we'll loop through this list with `for` and concatenate another string to each element.  "
   ]
  },
  {
   "cell_type": "code",
   "execution_count": 1,
   "metadata": {
    "collapsed": true
   },
   "outputs": [],
   "source": [
    "big12 = [\"TCU Horned Frogs\", \"Baylor Bears\", \"Oklahoma Sooners\", \"Oklahoma State Cowboys\", \"Texas Longhorns\", \n",
    "         \"Texas Tech Red Raiders\", \"West Virginia Mountaineers\", \"Kansas Jayhawks\", \"Kansas State Wildcats\",\n",
    "         \"Iowa State Cyclones\"]"
   ]
  },
  {
   "cell_type": "code",
   "execution_count": 2,
   "metadata": {
    "collapsed": false
   },
   "outputs": [
    {
     "name": "stdout",
     "output_type": "stream",
     "text": [
      "TCU Horned Frogs are in the Big 12.\n",
      "Baylor Bears are in the Big 12.\n",
      "Oklahoma Sooners are in the Big 12.\n",
      "Oklahoma State Cowboys are in the Big 12.\n",
      "Texas Longhorns are in the Big 12.\n",
      "Texas Tech Red Raiders are in the Big 12.\n",
      "West Virginia Mountaineers are in the Big 12.\n",
      "Kansas Jayhawks are in the Big 12.\n",
      "Kansas State Wildcats are in the Big 12.\n",
      "Iowa State Cyclones are in the Big 12.\n"
     ]
    }
   ],
   "source": [
    "for team in big12: # You can read this here as \"for every team in the Big 12....\n",
    "    print(team + \" are in the Big 12.\") # ... print the name of the team along with \"are in the Big 12.\"  "
   ]
  },
  {
   "cell_type": "markdown",
   "metadata": {},
   "source": [
    "A couple notes about the above code.  Notice that I'm using `team` as a temporary variable that will successively store each value of the list as we loop through it.  This variable, `team`, takes on each value of the list in turn; and presently stores the last value of the list. "
   ]
  },
  {
   "cell_type": "code",
   "execution_count": 3,
   "metadata": {
    "collapsed": false
   },
   "outputs": [
    {
     "data": {
      "text/plain": [
       "'Iowa State Cyclones'"
      ]
     },
     "execution_count": 3,
     "metadata": {},
     "output_type": "execute_result"
    }
   ],
   "source": [
    "team"
   ]
  },
  {
   "cell_type": "markdown",
   "metadata": {},
   "source": [
    "As such, this is how the `for` loop works.  `for` tells Python to evaluate every element of the list `big12`; these elements will be represented by the variable `team`.  The loop then walks through the list `big12` and prints the specified text __for__ every element in the list.  This `for` loop is equivalent, then, to: \n",
    "\n",
    "```python\n",
    "print(\"TCU Horned Frogs are in the Big 12\")\n",
    "print(\"Baylor Bears are in the Big 12\")\n",
    "print(\"Oklahoma Sooners are in the Big 12\")\n",
    "\n",
    "# ... and so forth\n",
    "\n",
    "```\n",
    "\n",
    "but you don't really want to do that manually, especially when you might have thousands of strings to evaluate.  In turn, the `for` loop does the work for you, which is one of the main benefits of programming.  \n",
    "\n",
    "Also, I'd like you to notice the structure of the loop.  Like functions, loops obey __whitespace__ rules for code organization, and will fail if your code is not properly indented.  The first line of the loop - in this case `for team in big12` - is not indented, and is followed by a colon.  Everything else contained in the loop is found in an indented block on the line(s) following the `for` loop call.  As with functions, your loop will fail without proper indentation.  "
   ]
  },
  {
   "cell_type": "code",
   "execution_count": 4,
   "metadata": {
    "collapsed": false
   },
   "outputs": [
    {
     "ename": "IndentationError",
     "evalue": "expected an indented block (<ipython-input-4-545851a98649>, line 2)",
     "output_type": "error",
     "traceback": [
      "\u001b[1;36m  File \u001b[1;32m\"<ipython-input-4-545851a98649>\"\u001b[1;36m, line \u001b[1;32m2\u001b[0m\n\u001b[1;33m    print(team + \" are in the Big 12.\")\u001b[0m\n\u001b[1;37m        ^\u001b[0m\n\u001b[1;31mIndentationError\u001b[0m\u001b[1;31m:\u001b[0m expected an indented block\n"
     ]
    }
   ],
   "source": [
    "for team in big12: \n",
    "print(team + \" are in the Big 12.\")"
   ]
  },
  {
   "cell_type": "markdown",
   "metadata": {},
   "source": [
    "Now let's say you want to create a new list of the \"...are in the Big 12\" elements.  There are a couple ways to do this.  In the first, you define an empty list object, then populate the list with the for loop and the `append` method, as shown below.  "
   ]
  },
  {
   "cell_type": "code",
   "execution_count": 5,
   "metadata": {
    "collapsed": false
   },
   "outputs": [
    {
     "data": {
      "text/plain": [
       "['TCU Horned Frogs are in the Big 12.',\n",
       " 'Baylor Bears are in the Big 12.',\n",
       " 'Oklahoma Sooners are in the Big 12.',\n",
       " 'Oklahoma State Cowboys are in the Big 12.',\n",
       " 'Texas Longhorns are in the Big 12.',\n",
       " 'Texas Tech Red Raiders are in the Big 12.',\n",
       " 'West Virginia Mountaineers are in the Big 12.',\n",
       " 'Kansas Jayhawks are in the Big 12.',\n",
       " 'Kansas State Wildcats are in the Big 12.',\n",
       " 'Iowa State Cyclones are in the Big 12.']"
      ]
     },
     "execution_count": 5,
     "metadata": {},
     "output_type": "execute_result"
    }
   ],
   "source": [
    "teams = [] # The empty brackets designate an empty list, which you'll fill up with the loop.  \n",
    "\n",
    "for team in big12: \n",
    "    teams.append(team + \" are in the Big 12.\")\n",
    "    \n",
    "teams"
   ]
  },
  {
   "cell_type": "markdown",
   "metadata": {},
   "source": [
    "You can also do the same thing with something called __list comprehension__.  List comprehension allows for the creation of a new list with one line of code.  In this case, the `for` loop is embedded within the statement you make.  Below is an example: "
   ]
  },
  {
   "cell_type": "code",
   "execution_count": 6,
   "metadata": {
    "collapsed": false
   },
   "outputs": [
    {
     "data": {
      "text/plain": [
       "['TCU Horned Frogs are in the Big 12.',\n",
       " 'Baylor Bears are in the Big 12.',\n",
       " 'Oklahoma Sooners are in the Big 12.',\n",
       " 'Oklahoma State Cowboys are in the Big 12.',\n",
       " 'Texas Longhorns are in the Big 12.',\n",
       " 'Texas Tech Red Raiders are in the Big 12.',\n",
       " 'West Virginia Mountaineers are in the Big 12.',\n",
       " 'Kansas Jayhawks are in the Big 12.',\n",
       " 'Kansas State Wildcats are in the Big 12.',\n",
       " 'Iowa State Cyclones are in the Big 12.']"
      ]
     },
     "execution_count": 6,
     "metadata": {},
     "output_type": "execute_result"
    }
   ],
   "source": [
    "teams2 = [team + \" are in the Big 12.\" for team in big12]\n",
    "\n",
    "teams2"
   ]
  },
  {
   "cell_type": "markdown",
   "metadata": {},
   "source": [
    "You can use methods and functions in your list comprehension as well, as in the example below: "
   ]
  },
  {
   "cell_type": "code",
   "execution_count": 7,
   "metadata": {
    "collapsed": false
   },
   "outputs": [
    {
     "data": {
      "text/plain": [
       "['tcu hORNED fROGS',\n",
       " 'bAYLOR bEARS',\n",
       " 'oKLAHOMA sOONERS',\n",
       " 'oKLAHOMA sTATE cOWBOYS',\n",
       " 'tEXAS lONGHORNS',\n",
       " 'tEXAS tECH rED rAIDERS',\n",
       " 'wEST vIRGINIA mOUNTAINEERS',\n",
       " 'kANSAS jAYHAWKS',\n",
       " 'kANSAS sTATE wILDCATS',\n",
       " 'iOWA sTATE cYCLONES']"
      ]
     },
     "execution_count": 7,
     "metadata": {},
     "output_type": "execute_result"
    }
   ],
   "source": [
    "swap = [name.swapcase() for name in big12]\n",
    "\n",
    "swap"
   ]
  },
  {
   "cell_type": "markdown",
   "metadata": {},
   "source": [
    "Loops also work for strings - though in this case the loop will iterate through each character contained in your string.  An example: "
   ]
  },
  {
   "cell_type": "code",
   "execution_count": 8,
   "metadata": {
    "collapsed": false
   },
   "outputs": [
    {
     "name": "stdout",
     "output_type": "stream",
     "text": [
      "The index of T is 0\n",
      "The index of e is 1\n",
      "The index of x is 2\n",
      "The index of a is 3\n",
      "The index of s is 4\n",
      "The index of   is 5\n",
      "The index of C is 6\n",
      "The index of h is 7\n",
      "The index of r is 8\n",
      "The index of i is 9\n",
      "The index of s is 10\n",
      "The index of t is 11\n",
      "The index of i is 12\n",
      "The index of a is 13\n",
      "The index of n is 14\n",
      "The index of   is 15\n",
      "The index of U is 16\n",
      "The index of n is 17\n",
      "The index of i is 18\n",
      "The index of v is 19\n",
      "The index of e is 20\n",
      "The index of r is 21\n",
      "The index of s is 22\n",
      "The index of i is 23\n",
      "The index of t is 24\n",
      "The index of y is 25\n"
     ]
    }
   ],
   "source": [
    "tcu = \"Texas Christian University\"\n",
    "\n",
    "idx = 0\n",
    "for character in tcu: \n",
    "    print(\"The index of \" + character + \" is \" + str(idx))\n",
    "    idx = idx + 1"
   ]
  },
  {
   "cell_type": "markdown",
   "metadata": {},
   "source": [
    "A quick aside - the same thing as above can be accomplished with the `enumerate` function, which returns both the index and the value of a string or list element.  Over the course of your Python journey, you'll frequently hear of people discussing the \"Pythonic\" way of doing things - which in part means writing code in the least complicated way possible.  For example - take a look at the \"Zen of Python\": "
   ]
  },
  {
   "cell_type": "code",
   "execution_count": 9,
   "metadata": {
    "collapsed": false
   },
   "outputs": [
    {
     "name": "stdout",
     "output_type": "stream",
     "text": [
      "The Zen of Python, by Tim Peters\n",
      "\n",
      "Beautiful is better than ugly.\n",
      "Explicit is better than implicit.\n",
      "Simple is better than complex.\n",
      "Complex is better than complicated.\n",
      "Flat is better than nested.\n",
      "Sparse is better than dense.\n",
      "Readability counts.\n",
      "Special cases aren't special enough to break the rules.\n",
      "Although practicality beats purity.\n",
      "Errors should never pass silently.\n",
      "Unless explicitly silenced.\n",
      "In the face of ambiguity, refuse the temptation to guess.\n",
      "There should be one-- and preferably only one --obvious way to do it.\n",
      "Although that way may not be obvious at first unless you're Dutch.\n",
      "Now is better than never.\n",
      "Although never is often better than *right* now.\n",
      "If the implementation is hard to explain, it's a bad idea.\n",
      "If the implementation is easy to explain, it may be a good idea.\n",
      "Namespaces are one honking great idea -- let's do more of those!\n"
     ]
    }
   ],
   "source": [
    "import this"
   ]
  },
  {
   "cell_type": "markdown",
   "metadata": {},
   "source": [
    "We'll come back to some of this later in the semester.  In the meantime, note how `enumerate` works: "
   ]
  },
  {
   "cell_type": "code",
   "execution_count": 10,
   "metadata": {
    "collapsed": false
   },
   "outputs": [
    {
     "name": "stdout",
     "output_type": "stream",
     "text": [
      "The index of T is 0\n",
      "The index of e is 1\n",
      "The index of x is 2\n",
      "The index of a is 3\n",
      "The index of s is 4\n",
      "The index of   is 5\n",
      "The index of C is 6\n",
      "The index of h is 7\n",
      "The index of r is 8\n",
      "The index of i is 9\n",
      "The index of s is 10\n",
      "The index of t is 11\n",
      "The index of i is 12\n",
      "The index of a is 13\n",
      "The index of n is 14\n",
      "The index of   is 15\n",
      "The index of U is 16\n",
      "The index of n is 17\n",
      "The index of i is 18\n",
      "The index of v is 19\n",
      "The index of e is 20\n",
      "The index of r is 21\n",
      "The index of s is 22\n",
      "The index of i is 23\n",
      "The index of t is 24\n",
      "The index of y is 25\n"
     ]
    }
   ],
   "source": [
    "for idx, character in enumerate(tcu): \n",
    "    print(\"The index of \" + character + \" is \" + str(idx))"
   ]
  },
  {
   "cell_type": "markdown",
   "metadata": {},
   "source": [
    "__The `while` loop__\n",
    "\n",
    "`for` is not the only loop you'll come across in Python.  You can also specify a `while` loop, which will run a loop until a given condition is satisfied.  I'll give you an example below.  Let's say you only want to return the first five elements of your list.  While you could do this with indexing (which is simpler), let's try the `while` loop instead.  "
   ]
  },
  {
   "cell_type": "code",
   "execution_count": 11,
   "metadata": {
    "collapsed": false
   },
   "outputs": [
    {
     "data": {
      "text/plain": [
       "['TCU Horned Frogs',\n",
       " 'Baylor Bears',\n",
       " 'Oklahoma Sooners',\n",
       " 'Oklahoma State Cowboys',\n",
       " 'Texas Longhorns']"
      ]
     },
     "execution_count": 11,
     "metadata": {},
     "output_type": "execute_result"
    }
   ],
   "source": [
    "newlist = []\n",
    "\n",
    "i = 0\n",
    "\n",
    "while i < 5: \n",
    "    newlist.append(big12[i])\n",
    "    i = i + 1\n",
    "    \n",
    "newlist"
   ]
  },
  {
   "cell_type": "markdown",
   "metadata": {},
   "source": [
    "Have a look at what we did.  We created an empty list, and set a new variable, `i`, to 0.  We then looped through the elements of the list index by index, adding 1 to `i` with each run of the loop, and then stopping the code when `i` became equal to 5.  In turn, we got back the elements of the `big12` list indexed 0 to 4, which are the first five elements.  \n",
    "\n",
    "Be careful with while loops, however.  If you don't specify them correctly, you can get stuck in an infinite loop, which will not stop!  For example, if we had not continued to add 1 to `i`, the loop would have never stopped and would have kept iterating through the list.  This can cause your computer to lock up, as it is infinitely trying to carry out an operation!  I've been there a few times..."
   ]
  },
  {
   "cell_type": "code",
   "execution_count": 12,
   "metadata": {
    "collapsed": true
   },
   "outputs": [],
   "source": [
    "## Now it's your turn!  \n",
    "\n",
    "## Run this cell to declare the variable list1.  In the following cell, \n",
    "## use a for loop to print each number in the list divided by 3.  \n",
    "\n",
    "list1 = [2, 4, 6, 8, 10, 12, 14, 16, 18, 20]"
   ]
  },
  {
   "cell_type": "code",
   "execution_count": 13,
   "metadata": {
    "collapsed": false
   },
   "outputs": [],
   "source": [
    "## Write your for loop here!\n",
    "\n"
   ]
  },
  {
   "cell_type": "markdown",
   "metadata": {},
   "source": [
    "## Booleans and conditional statements\n",
    "\n",
    "As you went through the iteration examples, you may have been thinking - \"What if I don't want to do the same thing for every element of my list or string?\"  Good question.  When writing programs, you'll have to design them to be flexible to user input; a particular input, for example, might need to produce a different outcome from another input.  In regards to data analysis, you might want to produce a particular type of chart if the data are structured a certain way, which wouldn't work in another scenario.  You can build this type of logic into your programs with __conditional statements__.  \n",
    "\n",
    "Before we get into this, however, I want to introduce __booleans__ in Python.  You've probably heard this term before in other classes.  Booleans in Python are the values `True` and `False`; they can be used to evaluate, understandably, if a condition is true or not.  For example: "
   ]
  },
  {
   "cell_type": "code",
   "execution_count": 14,
   "metadata": {
    "collapsed": false
   },
   "outputs": [
    {
     "data": {
      "text/plain": [
       "True"
      ]
     },
     "execution_count": 14,
     "metadata": {},
     "output_type": "execute_result"
    }
   ],
   "source": [
    "3 > 2"
   ]
  },
  {
   "cell_type": "code",
   "execution_count": 15,
   "metadata": {
    "collapsed": false
   },
   "outputs": [
    {
     "data": {
      "text/plain": [
       "False"
      ]
     },
     "execution_count": 15,
     "metadata": {},
     "output_type": "execute_result"
    }
   ],
   "source": [
    "2 > 3"
   ]
  },
  {
   "cell_type": "code",
   "execution_count": 16,
   "metadata": {
    "collapsed": false
   },
   "outputs": [
    {
     "data": {
      "text/plain": [
       "False"
      ]
     },
     "execution_count": 16,
     "metadata": {},
     "output_type": "execute_result"
    }
   ],
   "source": [
    "2 == 3"
   ]
  },
  {
   "cell_type": "code",
   "execution_count": 17,
   "metadata": {
    "collapsed": false
   },
   "outputs": [
    {
     "data": {
      "text/plain": [
       "True"
      ]
     },
     "execution_count": 17,
     "metadata": {},
     "output_type": "execute_result"
    }
   ],
   "source": [
    "2 != 3"
   ]
  },
  {
   "cell_type": "markdown",
   "metadata": {},
   "source": [
    "In the above lines of code, we used basic mathematical operators to see if conditions are true or false.  When we asked Python if 3 is greater than 2, it told us it was True; when we asked it if 2 is greater than 3, it said False.  Such true/false logic can be used with conditional statements in your code.  To do this, you'll often use __conditional operators__, which you'll be familiar with from basic mathematics, possibly with a couple exceptions.  Conditional operators in Python are as follows: \n",
    "\n",
    "* `<` Less than\n",
    "* `>` Greater than\n",
    "* `<=` Less than or equal to\n",
    "* `>=` Greater than or equal to\n",
    "* `==` Is equal to\n",
    "* `!=` Is not equal to\n",
    "\n",
    "As humans, we use conditional logic all of the time without really thinking about it.  For example, __if__ I am hungry, I'll probably go eat something; otherwise, I won't.  Such logic can be expressed in Python as a series of `if`, `elif` (which means _else if_), and `else` statements.  \n",
    "\n",
    "Let's try to express this now in code in basic terms.  This is made-up code, so we don't need to understand everything, but here are the basics of it.  We define a function, `hungry`, that measures the biological/psychological properties that govern hunger reflexes in the human body.  We say, hypothetically, that a hunger index value encapsulating these properties that exceeds 100 means that a person is hungry; in turn, the function returns `True`.  Otherwise, it returns `False`.  "
   ]
  },
  {
   "cell_type": "code",
   "execution_count": 18,
   "metadata": {
    "collapsed": false
   },
   "outputs": [
    {
     "data": {
      "text/plain": [
       "True"
      ]
     },
     "execution_count": 18,
     "metadata": {},
     "output_type": "execute_result"
    }
   ],
   "source": [
    "def hungry(hunger_index): \n",
    "    if hunger_index > 100: \n",
    "        return True\n",
    "    else: \n",
    "        return False\n",
    "    \n",
    "hungry(103)"
   ]
  },
  {
   "cell_type": "code",
   "execution_count": 19,
   "metadata": {
    "collapsed": false
   },
   "outputs": [
    {
     "data": {
      "text/plain": [
       "False"
      ]
     },
     "execution_count": 19,
     "metadata": {},
     "output_type": "execute_result"
    }
   ],
   "source": [
    "hungry(88)"
   ]
  },
  {
   "cell_type": "markdown",
   "metadata": {},
   "source": [
    "We can then pass a variable `kyle`, which represents my hunger index, to the function.  The function then checks to see if I am hungry, and returns `True` if I am, and `False` otherwise.  \n",
    "\n",
    "```python\n",
    "if hungry(kyle):  \n",
    "    eat()\n",
    "else: \n",
    "    stay_put()\n",
    "```\n",
    "\n",
    "As you can see above, this can be simplified in Python as the code `if hungry(kyle)` checks to see if the returned value is `True`.  If I am hungry, the code calls an unseen `eat()` function telling me to go eat; otherwise, it tells me to stay put with an unseen `stay_put()` function.  \n",
    "\n",
    "Simple enough, right?  Not quite.  I'm hungry right now, but I'm not currently eating.  Why is that the case?  Well... I have to get this assignment written for you!  While I am hungry, my level of hunger is not so debilitating that I am unable to work, and I know that finishing my work is a higher priority than eating at the moment.  In reality, there are countless conditions that influence whether we eat or not beyond simply how hungry we are.  For example - is there food accessible?  Are you in a place where it is socially acceptable to eat?  Perhaps you are at a party where pizza is available - you aren't hungry, but you eat it anyway?  Your brain processes all of this conditional logic at once as you make decisions, so we aren't always used to thinking explicitly about conditionals in such discrete ways.  However, to get a computer to understand this, you have to make it explicit in your code!  Let's get some more practice in.  "
   ]
  },
  {
   "cell_type": "markdown",
   "metadata": {},
   "source": [
    "The `hungry` function we defined above used conditional logic, telling Python to return `True` or `False` depending on the value of the hunger index.  Note that the `if` statement starts on a new indented line of code beneath the function definition, and itself is followed by a colon; the code associated with the `if` statement then follows on another, indented line of code.  The same goes for the `else` statement beneath it.  You should be getting a sense now of style rules in Python, and the importance of whitespace for code organization, which applies to conditional statements as well.  \n",
    "\n",
    "Now I'd like you to try to replicate this yourself!  Define a function called `greater_than_two` that checks to see if a number is greater than 2 or not.  Call the function.  "
   ]
  },
  {
   "cell_type": "code",
   "execution_count": 20,
   "metadata": {
    "collapsed": true
   },
   "outputs": [],
   "source": [
    "### Your code goes here!  \n",
    "\n"
   ]
  },
  {
   "cell_type": "markdown",
   "metadata": {},
   "source": [
    "Now let's try another example that is familiar to us from earlier in the notebook.  We'll write a function that allows us, for a list of any conference's college football teams, to extract those teams with \"Iowa\" in their name.  "
   ]
  },
  {
   "cell_type": "code",
   "execution_count": 21,
   "metadata": {
    "collapsed": false
   },
   "outputs": [],
   "source": [
    "def get_iowa(inlist): \n",
    "    for name in inlist: \n",
    "        if \"Iowa\" in name: \n",
    "            print(name)\n",
    "        else:\n",
    "            continue ## The \"continue\" statement tells our loop to pass over those elements \n",
    "                     ## for which the condition is not satisfied. \n",
    "                     ## While \"continue\" is not technically necessary in this instance, it is good to know about."
   ]
  },
  {
   "cell_type": "code",
   "execution_count": 22,
   "metadata": {
    "collapsed": false
   },
   "outputs": [
    {
     "name": "stdout",
     "output_type": "stream",
     "text": [
      "Iowa State Cyclones\n"
     ]
    }
   ],
   "source": [
    "get_iowa(big12)"
   ]
  },
  {
   "cell_type": "markdown",
   "metadata": {},
   "source": [
    "The beauty of using functions, of course, is that we can now re-use our code as necessary.  Let's try our `get_iowa` function on a list of teams in the Big Ten.  I'll provide you the list; you call the function on the `big_10` list.  "
   ]
  },
  {
   "cell_type": "code",
   "execution_count": 23,
   "metadata": {
    "collapsed": true
   },
   "outputs": [],
   "source": [
    "big10 = [\"Minnesota Gophers\", \"Nebraska Cornhuskers\", \"Michigan Wolverines\", \"Michigan State Spartans\", \n",
    "         \"Rutgers Scarlet Knights\", \"Penn State Nittany Lions\", \"Maryland Terrapins\", \"Ohio State Buckeyes\", \n",
    "         \"Iowa Hawkeyes\", \"Illinois Illini\", \"Northwestern Wildcats\", \"Wisconsin Badgers\", \n",
    "         \"Indiana Hoosiers\", \"Purdue Boilermakers\"]\n",
    "\n",
    "## Now you call the get_iowa function in on the list big10!\n",
    "\n"
   ]
  },
  {
   "cell_type": "markdown",
   "metadata": {},
   "source": [
    "## Classes\n",
    "\n",
    "In the final part of this notebook, we'll address the topic of __classes__ in Python.  As we discussed in class, Python is an example of an __object-oriented__ programming language, which means that it has the capacity to incorporate methods and attributes associated with objects.  In Python, technically, \"everything is an object\" - so you've gotten the opportunity to work with objects already.  \n",
    "\n",
    "One other way in which object-oriented programming is leveraged in Python is through the use of __classes__.  Classes are user-defined types in Python that can have attributes themselves.  We aren't going to do a ton with classes in this course, but they are useful to know about so that you can recognize them.  You can think of a class as representing some sort of real-world phenomenon that itself might have common attributes or characteristics.  Let's explore this further.  \n",
    "\n",
    "Classes are defined with the built-in function `class`.  Let's create a new class that we'll call `human` to represent human beings.  "
   ]
  },
  {
   "cell_type": "code",
   "execution_count": 24,
   "metadata": {
    "collapsed": true
   },
   "outputs": [],
   "source": [
    "class Human:\n",
    "    species = \"human\"\n",
    "    \n",
    "    def __init__(self, name, gender, age): \n",
    "        self.name = name\n",
    "        self.gender = gender\n",
    "        self.age = age"
   ]
  },
  {
   "cell_type": "markdown",
   "metadata": {},
   "source": [
    "Some of this code might look a little unfamiliar, so let's go through it.  I define the class, which will take on the name `Human`.  As all humans are of the same species, I assign `\"human\"` to the species attribute of the `Human` class.  I then define an `__init__` function that takes as arguments necessary characteristics of humans that I've specified: a name, a gender, and an age.  The `self` parameter refers to the __instance__ of the class - which is the object of class `Human` you'll create.  \n",
    "\n",
    "Confused yet?  Let's do some examples.  \n",
    "\n",
    "I'll create an object of class `human` called `kyle`, to represent me.  "
   ]
  },
  {
   "cell_type": "code",
   "execution_count": 25,
   "metadata": {
    "collapsed": true
   },
   "outputs": [],
   "source": [
    "kyle = Human(name = \"Kyle\", gender = \"male\", age = 33)"
   ]
  },
  {
   "cell_type": "markdown",
   "metadata": {},
   "source": [
    "Now, I can check the attributes of my new class instance `kyle`.  "
   ]
  },
  {
   "cell_type": "code",
   "execution_count": 26,
   "metadata": {
    "collapsed": false
   },
   "outputs": [
    {
     "data": {
      "text/plain": [
       "'human'"
      ]
     },
     "execution_count": 26,
     "metadata": {},
     "output_type": "execute_result"
    }
   ],
   "source": [
    "kyle.species"
   ]
  },
  {
   "cell_type": "code",
   "execution_count": 27,
   "metadata": {
    "collapsed": false
   },
   "outputs": [
    {
     "data": {
      "text/plain": [
       "'Kyle'"
      ]
     },
     "execution_count": 27,
     "metadata": {},
     "output_type": "execute_result"
    }
   ],
   "source": [
    "kyle.name"
   ]
  },
  {
   "cell_type": "code",
   "execution_count": 28,
   "metadata": {
    "collapsed": false
   },
   "outputs": [
    {
     "data": {
      "text/plain": [
       "'male'"
      ]
     },
     "execution_count": 28,
     "metadata": {},
     "output_type": "execute_result"
    }
   ],
   "source": [
    "kyle.gender"
   ]
  },
  {
   "cell_type": "code",
   "execution_count": 29,
   "metadata": {
    "collapsed": false
   },
   "outputs": [
    {
     "data": {
      "text/plain": [
       "33"
      ]
     },
     "execution_count": 29,
     "metadata": {},
     "output_type": "execute_result"
    }
   ],
   "source": [
    "kyle.age"
   ]
  },
  {
   "cell_type": "markdown",
   "metadata": {},
   "source": [
    "I can also assign new attributes to my class instance that aren't defined in my `__init__` function if I want.  "
   ]
  },
  {
   "cell_type": "code",
   "execution_count": 30,
   "metadata": {
    "collapsed": false
   },
   "outputs": [
    {
     "data": {
      "text/plain": [
       "'happy'"
      ]
     },
     "execution_count": 30,
     "metadata": {},
     "output_type": "execute_result"
    }
   ],
   "source": [
    "kyle.mood = \"happy\"\n",
    "\n",
    "kyle.mood"
   ]
  },
  {
   "cell_type": "code",
   "execution_count": 31,
   "metadata": {
    "collapsed": true
   },
   "outputs": [],
   "source": [
    "## Now you try!  Create an instance of class Human to represent yourself below, and assign it properties.  \n",
    "## Test it out!  \n",
    "\n"
   ]
  },
  {
   "cell_type": "markdown",
   "metadata": {},
   "source": [
    "Classes can also have other methods as properties beyond the `__init__` function.  Let's return to an example from earlier in the notebook.  I'll create a new class `Person` with the attribute `hungry`, then create a method to allow the person to eat.  Check it out:  "
   ]
  },
  {
   "cell_type": "code",
   "execution_count": 32,
   "metadata": {
    "collapsed": true
   },
   "outputs": [],
   "source": [
    "class Person:\n",
    "    \n",
    "    def __init__(self, hunger): \n",
    "        self.hunger = hunger\n",
    "    \n",
    "    def eat_food(self): \n",
    "        self.hunger = self.hunger - 40"
   ]
  },
  {
   "cell_type": "markdown",
   "metadata": {},
   "source": [
    "In this example, we assign a hunger index to the person.  We can then call the `eat_food` method to decrease the hunger index by 40 if we want.  Let's try:  "
   ]
  },
  {
   "cell_type": "code",
   "execution_count": 33,
   "metadata": {
    "collapsed": false
   },
   "outputs": [
    {
     "data": {
      "text/plain": [
       "220"
      ]
     },
     "execution_count": 33,
     "metadata": {},
     "output_type": "execute_result"
    }
   ],
   "source": [
    "bob = Person(hunger = 220)\n",
    "\n",
    "bob.hunger"
   ]
  },
  {
   "cell_type": "code",
   "execution_count": 34,
   "metadata": {
    "collapsed": false
   },
   "outputs": [
    {
     "data": {
      "text/plain": [
       "180"
      ]
     },
     "execution_count": 34,
     "metadata": {},
     "output_type": "execute_result"
    }
   ],
   "source": [
    "bob.eat_food()\n",
    "\n",
    "bob.hunger"
   ]
  },
  {
   "cell_type": "code",
   "execution_count": 35,
   "metadata": {
    "collapsed": false
   },
   "outputs": [
    {
     "data": {
      "text/plain": [
       "140"
      ]
     },
     "execution_count": 35,
     "metadata": {},
     "output_type": "execute_result"
    }
   ],
   "source": [
    "bob.eat_food()\n",
    "\n",
    "bob.hunger"
   ]
  },
  {
   "cell_type": "code",
   "execution_count": 36,
   "metadata": {
    "collapsed": false
   },
   "outputs": [
    {
     "data": {
      "text/plain": [
       "True"
      ]
     },
     "execution_count": 36,
     "metadata": {},
     "output_type": "execute_result"
    }
   ],
   "source": [
    "hungry(bob.hunger)"
   ]
  },
  {
   "cell_type": "markdown",
   "metadata": {},
   "source": [
    "Our friend Bob ate twice but is still hungry!  \n",
    "\n",
    "## Exercises\n",
    "\n",
    "__Exercise 1:__ Explain, in your own words, the difference between a `for` loop and a `while` loop.  Write your response below in this Markdown cell.  "
   ]
  },
  {
   "cell_type": "markdown",
   "metadata": {
    "collapsed": true
   },
   "source": [
    "__Exercise 2 (from your textbook, p. 49):__ \n",
    "\n",
    "> If you are given three sticks, you may or may not be able to arrange them in a triangle.\n",
    "For example, if one of the sticks is 12 inches long and the other two are one inch long, it is clear that\n",
    "you will not be able to get the short sticks to meet in the middle. For any three lengths, there is a\n",
    "simple test to see if it is possible to form a triangle:\n",
    "If any of the three lengths is greater than the sum of the other two, then you cannot\n",
    "form a triangle. Otherwise, you can. (If the sum of two lengths equals the third, they\n",
    "form what is called a “degenerate” triangle.)\n",
    "> \n",
    "> Write a function named `is_triangle` that takes three integers as arguments, and that returns either `True` or `False` depending on whether you can or cannot form a triangle from sticks with the given lengths.  \n",
    "\n",
    "For example: \n",
    "\n",
    "```python\n",
    "is_triangle(2, 2, 11)\n",
    "\n",
    "False\n",
    "\n",
    "is_triangle(5, 5, 6)\n",
    "\n",
    "True\n",
    "```"
   ]
  },
  {
   "cell_type": "code",
   "execution_count": 3,
   "metadata": {
    "collapsed": false
   },
   "outputs": [],
   "source": [
    "# Your answer goes below!\n"
   ]
  },
  {
   "cell_type": "markdown",
   "metadata": {},
   "source": [
    "__Exercise 3__: Sequences of numbers in Python can be generated by typing them out, as you've learned how to do in this class.  However, they can also be produced by the built-in `range` function, which can simplify things for you significantly if you need to generate a long list of integers.  `range` has three parameters: `start`, which is the first integer you want to start with; `stop`, which is the first integer you __don't__ want to include, and `step`, which optionally specifies the integer interval.  For example: "
   ]
  },
  {
   "cell_type": "code",
   "execution_count": 4,
   "metadata": {
    "collapsed": false
   },
   "outputs": [
    {
     "data": {
      "text/plain": [
       "range(1, 21, 5)"
      ]
     },
     "execution_count": 4,
     "metadata": {},
     "output_type": "execute_result"
    }
   ],
   "source": [
    "x = range(1, 21, 5)\n",
    "\n",
    "x"
   ]
  },
  {
   "cell_type": "code",
   "execution_count": 5,
   "metadata": {
    "collapsed": false
   },
   "outputs": [
    {
     "data": {
      "text/plain": [
       "range"
      ]
     },
     "execution_count": 5,
     "metadata": {},
     "output_type": "execute_result"
    }
   ],
   "source": [
    "type(x)"
   ]
  },
  {
   "cell_type": "markdown",
   "metadata": {},
   "source": [
    "We've created a __range__ object which conforms to the arguments we supplied to the `range` function.  Notably, the range object can be looped through:"
   ]
  },
  {
   "cell_type": "code",
   "execution_count": 6,
   "metadata": {
    "collapsed": false
   },
   "outputs": [
    {
     "name": "stdout",
     "output_type": "stream",
     "text": [
      "1\n",
      "6\n",
      "11\n",
      "16\n"
     ]
    }
   ],
   "source": [
    "for y in x: \n",
    "    print(y)"
   ]
  },
  {
   "cell_type": "markdown",
   "metadata": {},
   "source": [
    "If need be, your range object can also be converted to a list with the `list` function.  "
   ]
  },
  {
   "cell_type": "code",
   "execution_count": 7,
   "metadata": {
    "collapsed": false
   },
   "outputs": [
    {
     "data": {
      "text/plain": [
       "[1, 6, 11, 16]"
      ]
     },
     "execution_count": 7,
     "metadata": {},
     "output_type": "execute_result"
    }
   ],
   "source": [
    "list(x)"
   ]
  },
  {
   "cell_type": "markdown",
   "metadata": {
    "collapsed": false
   },
   "source": [
    "Your job in Exercise 3 is to use the `range` function to print the following text to the screen: \n",
    "\n",
    "```\n",
    "2!\n",
    "4!\n",
    "6!\n",
    "8!\n",
    "Who do we appreciate?\n",
    "```\n",
    "\n",
    "The printing of the numbers should be done in a loop over the numbers generated by the `range` function.  "
   ]
  },
  {
   "cell_type": "code",
   "execution_count": 4,
   "metadata": {
    "collapsed": false
   },
   "outputs": [],
   "source": [
    "## Your code goes here!  \n",
    "\n",
    "\n",
    "\n"
   ]
  },
  {
   "cell_type": "markdown",
   "metadata": {},
   "source": [
    "__Exercise 4:__ Whenever you get new grades for your courses at TCU, your grade point average (GPA) needs to be updated accordingly.  GPA can be calculated rather simply; each grade is worth a given number of points, which are summed and divided by the total number of grades. Of course, it can get more complicated, taking into account things like credit hours - but we'll just keep it simple here.  \n",
    "\n",
    "I'm not going to ask you to write your own class yet - classes and object-oriented programming are complicated, and you'll get used to it more throughout the semester.  However, I do want you to be able to interpret code written when you see it.  \n",
    "\n",
    "Below, I've created a new class `Student`, that has some attributes and methods associated with it.  "
   ]
  },
  {
   "cell_type": "code",
   "execution_count": 7,
   "metadata": {
    "collapsed": false
   },
   "outputs": [],
   "source": [
    "class Student: \n",
    "    \n",
    "    points = 36\n",
    "    \n",
    "    courses = 12\n",
    "    \n",
    "    def __init__(self):\n",
    "        self.gpa = self.points / self.courses\n",
    "    \n",
    "    def new_grade(self, grade): \n",
    "        self.courses = self.courses + 1\n",
    "        if grade == \"A\":\n",
    "            self.points = self.points + 4\n",
    "        elif grade == \"B\": \n",
    "            self.points = self.points + 3\n",
    "        elif grade == \"C\": \n",
    "            self.points = self.points + 2\n",
    "        elif grade == \"D\": \n",
    "            self.points = self.points + 1\n",
    "        elif grade == \"F\": \n",
    "            self.points = self.points + 0\n",
    "        else:\n",
    "            raise ValueError(\"Not a valid grade\")\n",
    "        \n",
    "        self.gpa = self.points / self.courses\n",
    "            \n",
    "            "
   ]
  },
  {
   "cell_type": "markdown",
   "metadata": {
    "collapsed": false
   },
   "source": [
    "Read through the code carefully and try to understand what it does - and be sure to compare it to the previous discussion of classes in this notebook to assist you.  Run the above cell to define the class `Student`.  Then, respond to the following sub-questions.  \n",
    "\n",
    "4a. Create a new instance of class `Student`, and name the student whatever you'd like.  What is the student's GPA?  You must use Python to show this in your notebook.  "
   ]
  },
  {
   "cell_type": "code",
   "execution_count": null,
   "metadata": {
    "collapsed": false
   },
   "outputs": [],
   "source": [
    "# Your code goes here!\n",
    "\n"
   ]
  },
  {
   "cell_type": "markdown",
   "metadata": {
    "collapsed": false
   },
   "source": [
    "4b. Use the `new_grade` class method to give your Student instance three new grades: one A, one B, and one F.  What is the student's GPA now?  "
   ]
  },
  {
   "cell_type": "code",
   "execution_count": null,
   "metadata": {
    "collapsed": false
   },
   "outputs": [],
   "source": [
    "# Your code goes here!"
   ]
  },
  {
   "cell_type": "markdown",
   "metadata": {
    "collapsed": false
   },
   "source": [
    "4c. Notice the `raise` statement that is associated with the `else` statement inside of the `new_grade` method.  What do you think this does?  Call the `new_grade` method so that the `ValueError` is raised.  Why did this happen?  "
   ]
  },
  {
   "cell_type": "code",
   "execution_count": 8,
   "metadata": {
    "collapsed": true
   },
   "outputs": [],
   "source": [
    "# Your code goes here!\n"
   ]
  },
  {
   "cell_type": "code",
   "execution_count": null,
   "metadata": {
    "collapsed": true
   },
   "outputs": [],
   "source": []
  }
 ],
 "metadata": {
  "kernelspec": {
   "display_name": "Python [Root]",
   "language": "python",
   "name": "Python [Root]"
  },
  "language_info": {
   "codemirror_mode": {
    "name": "ipython",
    "version": 3
   },
   "file_extension": ".py",
   "mimetype": "text/x-python",
   "name": "python",
   "nbconvert_exporter": "python",
   "pygments_lexer": "ipython3",
   "version": "3.5.2"
  }
 },
 "nbformat": 4,
 "nbformat_minor": 0
}
