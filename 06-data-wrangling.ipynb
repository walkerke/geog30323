{
 "cells": [
  {
   "cell_type": "markdown",
   "metadata": {
    "collapsed": false
   },
   "source": [
    "## Assignment 6: Data wrangling I\n",
    "\n",
    "In the last two assignments you've explored data with both basic statistical methods and different types of data visualization.  While this is a key part of the data analysis process, datasets need to be in the right format before analysts can start drawing meaningful conclusions.  The process of preparing data for analysis is called __data wrangling__, and often takes the bulk of an analysts' time during a data project.  Possible issues might include: \n",
    "\n",
    "* Missing data or problematic/incorrect values in a dataset; \n",
    "* Data are formatted incorrectly, preventing the analyst from working with the data in the right way; \n",
    "* Data are spread across multiple files or data tables; \n",
    "* Data are in the wrong \"shape\" for analysis and visualization\n",
    "* All of the above, in varying capacities!\n",
    "\n",
    "A major reason why you are learning to work with `pandas` in this course is because it can flexibly handle all of these tasks.  In this notebook, we'll be going over some basic examples of how this works, which you'll then put into practice with the Exercises at the end.  \n",
    "\n",
    "In this notebook, we'll be working primarily with the US Department of Education's College Scorecard dataset. Read in the full dataset with the code below."
   ]
  },
  {
   "cell_type": "code",
   "execution_count": 1,
   "metadata": {
    "collapsed": false
   },
   "outputs": [
    {
     "data": {
      "text/plain": [
       "(7804, 122)"
      ]
     },
     "execution_count": 1,
     "metadata": {},
     "output_type": "execute_result"
    }
   ],
   "source": [
    "import pandas as pd\n",
    "\n",
    "full_url = 'http://personal.tcu.edu/kylewalker/data/colleges.csv'\n",
    "full = pd.read_csv(full_url, encoding = 'latin_1')\n",
    "full.shape"
   ]
  },
  {
   "cell_type": "markdown",
   "metadata": {
    "collapsed": false
   },
   "source": [
    "We see that our data have over 7800 rows, and a whopping 122 columns!  At this point, while you might not know yet what insights are contained in the data, you will have some sense of the research questions that you are interested in.  As your research questions don't likely require all 122 columns, you can safely restrict your dataset to only those columns that you need for your analysis.  Our core research question is as follows: \n",
    "\n",
    "* How does the proportion of non-traditional students - defined as undergraduate students aged 25 and above - vary among comparable bachelor's-granting colleges and universities?  \n",
    "\n",
    "To accomplish this, we'll need to identify some columns that we need and subset our data accordingly.  The columns we'll be keeping are as follows: \n",
    "\n",
    "* `INSTNM`: The name of the institution; \n",
    "* `STABBR`: The state the institution is located in; \n",
    "* `PREDDEG`: The primary type of degree granted by the institution; codes include 1 for certificates, 2 for associate's degrees, 3 for bachelor's degrees, and 4 for graduate degrees; \n",
    "* `CONTROL`: The ownership of the institution, coded as 1 for public non-profit, 2 for private non-profit, and 3 for private for-profit; \n",
    "* `UGDS`: The number of undergraduates enrolled at the institution; \n",
    "* `UG25abv`: The percentage of undergraduates at the institution aged 25 and above.  \n",
    "\n",
    "## Subsetting data\n",
    "\n",
    "As we discussed in class, `pandas` includes many different methods for subsetting data; I encourage you to review the corresponding lecture notes for the full set of methods that we discussed.  In this notebook, we'll be focusing on the methods that allow us to accomplish the task at hand, and you'll be learning a few new methods as well.  \n",
    "\n",
    "To subset our data column-wise, we can specify a list of column names that we want to keep then use the `.filter()` method to restrict our data to only those specified columns.  "
   ]
  },
  {
   "cell_type": "code",
   "execution_count": 2,
   "metadata": {
    "collapsed": false
   },
   "outputs": [
    {
     "data": {
      "text/html": [
       "<div>\n",
       "<style scoped>\n",
       "    .dataframe tbody tr th:only-of-type {\n",
       "        vertical-align: middle;\n",
       "    }\n",
       "\n",
       "    .dataframe tbody tr th {\n",
       "        vertical-align: top;\n",
       "    }\n",
       "\n",
       "    .dataframe thead th {\n",
       "        text-align: right;\n",
       "    }\n",
       "</style>\n",
       "<table border=\"1\" class=\"dataframe\">\n",
       "  <thead>\n",
       "    <tr style=\"text-align: right;\">\n",
       "      <th></th>\n",
       "      <th>INSTNM</th>\n",
       "      <th>STABBR</th>\n",
       "      <th>PREDDEG</th>\n",
       "      <th>CONTROL</th>\n",
       "      <th>UGDS</th>\n",
       "      <th>UG25abv</th>\n",
       "    </tr>\n",
       "  </thead>\n",
       "  <tbody>\n",
       "    <tr>\n",
       "      <th>0</th>\n",
       "      <td>Alabama A &amp; M University</td>\n",
       "      <td>AL</td>\n",
       "      <td>3</td>\n",
       "      <td>1</td>\n",
       "      <td>4051.0</td>\n",
       "      <td>0.1049</td>\n",
       "    </tr>\n",
       "    <tr>\n",
       "      <th>1</th>\n",
       "      <td>University of Alabama at Birmingham</td>\n",
       "      <td>AL</td>\n",
       "      <td>3</td>\n",
       "      <td>1</td>\n",
       "      <td>11200.0</td>\n",
       "      <td>0.2422</td>\n",
       "    </tr>\n",
       "    <tr>\n",
       "      <th>2</th>\n",
       "      <td>Amridge University</td>\n",
       "      <td>AL</td>\n",
       "      <td>3</td>\n",
       "      <td>2</td>\n",
       "      <td>322.0</td>\n",
       "      <td>0.8540</td>\n",
       "    </tr>\n",
       "    <tr>\n",
       "      <th>3</th>\n",
       "      <td>University of Alabama in Huntsville</td>\n",
       "      <td>AL</td>\n",
       "      <td>3</td>\n",
       "      <td>1</td>\n",
       "      <td>5525.0</td>\n",
       "      <td>0.2640</td>\n",
       "    </tr>\n",
       "    <tr>\n",
       "      <th>4</th>\n",
       "      <td>Alabama State University</td>\n",
       "      <td>AL</td>\n",
       "      <td>3</td>\n",
       "      <td>1</td>\n",
       "      <td>5354.0</td>\n",
       "      <td>0.1270</td>\n",
       "    </tr>\n",
       "  </tbody>\n",
       "</table>\n",
       "</div>"
      ],
      "text/plain": [
       "                                INSTNM STABBR  PREDDEG  CONTROL     UGDS  \\\n",
       "0             Alabama A & M University     AL        3        1   4051.0   \n",
       "1  University of Alabama at Birmingham     AL        3        1  11200.0   \n",
       "2                   Amridge University     AL        3        2    322.0   \n",
       "3  University of Alabama in Huntsville     AL        3        1   5525.0   \n",
       "4             Alabama State University     AL        3        1   5354.0   \n",
       "\n",
       "   UG25abv  \n",
       "0   0.1049  \n",
       "1   0.2422  \n",
       "2   0.8540  \n",
       "3   0.2640  \n",
       "4   0.1270  "
      ]
     },
     "execution_count": 2,
     "metadata": {},
     "output_type": "execute_result"
    }
   ],
   "source": [
    "keep = ['INSTNM', 'STABBR', 'PREDDEG', 'CONTROL', 'UGDS', 'UG25abv']\n",
    "\n",
    "df = full.filter(keep)\n",
    "\n",
    "df.head()"
   ]
  },
  {
   "cell_type": "markdown",
   "metadata": {
    "collapsed": false
   },
   "source": [
    "Our data are much simpler to work with now!  We can already see some noticeable variations in the data; over 85 percent of students at Amridge University are over age 25; however, the university itself is quite small with only 322 undergraduates.  These are the types of things we'll want to account for in our analysis.  \n",
    "\n",
    "You may have noticed that I decided to assign the result of the subsetting operation to a new data frame.  Certainly, I could have assigned the result back to the original frame: \n",
    "\n",
    "```python\n",
    "full = full.filter(keep)\n",
    "```\n",
    "\n",
    "Or: \n",
    "\n",
    "```python\n",
    "full.filter(keep, inplace = True)\n",
    "```\n",
    "\n",
    "My personal preference when doing data programming is to assign the results of major operations to new data frames, creating a data frame object that represents each step of the analysis, and do minor operations in place.  For example, had I assigned the results of the subsetting operation back to `full`, and I later decided that I needed an additional column from the original data frame, I'd need to read the whole thing in again rather than just add a column name to the list `keep`.  Python will hold all of our data _in memory_, so it will be accessible to us throughout our Python session; given that our data are relatively small, this won't cause us any problems.  Bigger data workflows might require different methods, however.  \n",
    "\n",
    "There are small things, however, that you can do to your data frame in place to make your lives easier.  For example, I don't really want to hit Caps Lock or the Shift key every time I am typing out column names, but my column names are capitalized.  Our column names in our data frame are simply a list of strings, which we've learned how to work with already with string methods. As such, we can use __list comprehension__ to convert all of the column names to lower case: "
   ]
  },
  {
   "cell_type": "code",
   "execution_count": 3,
   "metadata": {
    "collapsed": false
   },
   "outputs": [
    {
     "data": {
      "text/html": [
       "<div>\n",
       "<style scoped>\n",
       "    .dataframe tbody tr th:only-of-type {\n",
       "        vertical-align: middle;\n",
       "    }\n",
       "\n",
       "    .dataframe tbody tr th {\n",
       "        vertical-align: top;\n",
       "    }\n",
       "\n",
       "    .dataframe thead th {\n",
       "        text-align: right;\n",
       "    }\n",
       "</style>\n",
       "<table border=\"1\" class=\"dataframe\">\n",
       "  <thead>\n",
       "    <tr style=\"text-align: right;\">\n",
       "      <th></th>\n",
       "      <th>instnm</th>\n",
       "      <th>stabbr</th>\n",
       "      <th>preddeg</th>\n",
       "      <th>control</th>\n",
       "      <th>ugds</th>\n",
       "      <th>ug25abv</th>\n",
       "    </tr>\n",
       "  </thead>\n",
       "  <tbody>\n",
       "    <tr>\n",
       "      <th>0</th>\n",
       "      <td>Alabama A &amp; M University</td>\n",
       "      <td>AL</td>\n",
       "      <td>3</td>\n",
       "      <td>1</td>\n",
       "      <td>4051.0</td>\n",
       "      <td>0.1049</td>\n",
       "    </tr>\n",
       "    <tr>\n",
       "      <th>1</th>\n",
       "      <td>University of Alabama at Birmingham</td>\n",
       "      <td>AL</td>\n",
       "      <td>3</td>\n",
       "      <td>1</td>\n",
       "      <td>11200.0</td>\n",
       "      <td>0.2422</td>\n",
       "    </tr>\n",
       "    <tr>\n",
       "      <th>2</th>\n",
       "      <td>Amridge University</td>\n",
       "      <td>AL</td>\n",
       "      <td>3</td>\n",
       "      <td>2</td>\n",
       "      <td>322.0</td>\n",
       "      <td>0.8540</td>\n",
       "    </tr>\n",
       "    <tr>\n",
       "      <th>3</th>\n",
       "      <td>University of Alabama in Huntsville</td>\n",
       "      <td>AL</td>\n",
       "      <td>3</td>\n",
       "      <td>1</td>\n",
       "      <td>5525.0</td>\n",
       "      <td>0.2640</td>\n",
       "    </tr>\n",
       "    <tr>\n",
       "      <th>4</th>\n",
       "      <td>Alabama State University</td>\n",
       "      <td>AL</td>\n",
       "      <td>3</td>\n",
       "      <td>1</td>\n",
       "      <td>5354.0</td>\n",
       "      <td>0.1270</td>\n",
       "    </tr>\n",
       "  </tbody>\n",
       "</table>\n",
       "</div>"
      ],
      "text/plain": [
       "                                instnm stabbr  preddeg  control     ugds  \\\n",
       "0             Alabama A & M University     AL        3        1   4051.0   \n",
       "1  University of Alabama at Birmingham     AL        3        1  11200.0   \n",
       "2                   Amridge University     AL        3        2    322.0   \n",
       "3  University of Alabama in Huntsville     AL        3        1   5525.0   \n",
       "4             Alabama State University     AL        3        1   5354.0   \n",
       "\n",
       "   ug25abv  \n",
       "0   0.1049  \n",
       "1   0.2422  \n",
       "2   0.8540  \n",
       "3   0.2640  \n",
       "4   0.1270  "
      ]
     },
     "execution_count": 3,
     "metadata": {},
     "output_type": "execute_result"
    }
   ],
   "source": [
    "df.columns = [x.lower() for x in df.columns]\n",
    "\n",
    "df.head()"
   ]
  },
  {
   "cell_type": "markdown",
   "metadata": {
    "collapsed": false
   },
   "source": [
    "You've also already learned to modify the column names of your data frame by passing in a list of new names. Individual names can be modified as well.  For example, I think `'state'` makes a lot more sense as a column name than `'stabbr'`, so I'm going to change it.  The following code gets this done: "
   ]
  },
  {
   "cell_type": "code",
   "execution_count": 4,
   "metadata": {
    "collapsed": false
   },
   "outputs": [
    {
     "data": {
      "text/html": [
       "<div>\n",
       "<style scoped>\n",
       "    .dataframe tbody tr th:only-of-type {\n",
       "        vertical-align: middle;\n",
       "    }\n",
       "\n",
       "    .dataframe tbody tr th {\n",
       "        vertical-align: top;\n",
       "    }\n",
       "\n",
       "    .dataframe thead th {\n",
       "        text-align: right;\n",
       "    }\n",
       "</style>\n",
       "<table border=\"1\" class=\"dataframe\">\n",
       "  <thead>\n",
       "    <tr style=\"text-align: right;\">\n",
       "      <th></th>\n",
       "      <th>instnm</th>\n",
       "      <th>state</th>\n",
       "      <th>preddeg</th>\n",
       "      <th>control</th>\n",
       "      <th>ugds</th>\n",
       "      <th>ug25abv</th>\n",
       "    </tr>\n",
       "  </thead>\n",
       "  <tbody>\n",
       "    <tr>\n",
       "      <th>0</th>\n",
       "      <td>Alabama A &amp; M University</td>\n",
       "      <td>AL</td>\n",
       "      <td>3</td>\n",
       "      <td>1</td>\n",
       "      <td>4051.0</td>\n",
       "      <td>0.1049</td>\n",
       "    </tr>\n",
       "    <tr>\n",
       "      <th>1</th>\n",
       "      <td>University of Alabama at Birmingham</td>\n",
       "      <td>AL</td>\n",
       "      <td>3</td>\n",
       "      <td>1</td>\n",
       "      <td>11200.0</td>\n",
       "      <td>0.2422</td>\n",
       "    </tr>\n",
       "    <tr>\n",
       "      <th>2</th>\n",
       "      <td>Amridge University</td>\n",
       "      <td>AL</td>\n",
       "      <td>3</td>\n",
       "      <td>2</td>\n",
       "      <td>322.0</td>\n",
       "      <td>0.8540</td>\n",
       "    </tr>\n",
       "    <tr>\n",
       "      <th>3</th>\n",
       "      <td>University of Alabama in Huntsville</td>\n",
       "      <td>AL</td>\n",
       "      <td>3</td>\n",
       "      <td>1</td>\n",
       "      <td>5525.0</td>\n",
       "      <td>0.2640</td>\n",
       "    </tr>\n",
       "    <tr>\n",
       "      <th>4</th>\n",
       "      <td>Alabama State University</td>\n",
       "      <td>AL</td>\n",
       "      <td>3</td>\n",
       "      <td>1</td>\n",
       "      <td>5354.0</td>\n",
       "      <td>0.1270</td>\n",
       "    </tr>\n",
       "  </tbody>\n",
       "</table>\n",
       "</div>"
      ],
      "text/plain": [
       "                                instnm state  preddeg  control     ugds  \\\n",
       "0             Alabama A & M University    AL        3        1   4051.0   \n",
       "1  University of Alabama at Birmingham    AL        3        1  11200.0   \n",
       "2                   Amridge University    AL        3        2    322.0   \n",
       "3  University of Alabama in Huntsville    AL        3        1   5525.0   \n",
       "4             Alabama State University    AL        3        1   5354.0   \n",
       "\n",
       "   ug25abv  \n",
       "0   0.1049  \n",
       "1   0.2422  \n",
       "2   0.8540  \n",
       "3   0.2640  \n",
       "4   0.1270  "
      ]
     },
     "execution_count": 4,
     "metadata": {},
     "output_type": "execute_result"
    }
   ],
   "source": [
    "df.rename(columns = {'stabbr': 'state'}, inplace = True)\n",
    "\n",
    "df.head()"
   ]
  },
  {
   "cell_type": "markdown",
   "metadata": {
    "collapsed": false
   },
   "source": [
    "The `rename` data frame method takes a __dictionary__ of values, which is a Python data structure that we haven't discussed yet.  Dictionaries, or `dict` objects as they are often called, are enclosed by curly braces (`{}`) and are made up of __key/value pairs__.  In turn, they can really come in handy when working with paired values; we may return to them later in the semester.  As this is a minor change to the data frame, the argument `inplace = True` makes sense to modify `df` directly.  \n",
    "\n",
    "We now want to subset our data even further.  As mentioned above, the `preddeg` column designates the primary degree granted by the colleges and universities in the dataset.  We're interested in comparing primarily bachelor's-granting universities, which have the code of `3`; in turn, we want to tell `pandas` to keep only those rows where the `preddeg` column is equal to 3.  First, let's check our `dtypes` to see if the columns is formatted as a string or number: "
   ]
  },
  {
   "cell_type": "code",
   "execution_count": 5,
   "metadata": {
    "collapsed": false
   },
   "outputs": [
    {
     "data": {
      "text/plain": [
       "instnm      object\n",
       "state       object\n",
       "preddeg      int64\n",
       "control      int64\n",
       "ugds       float64\n",
       "ug25abv    float64\n",
       "dtype: object"
      ]
     },
     "execution_count": 5,
     "metadata": {},
     "output_type": "execute_result"
    }
   ],
   "source": [
    "df.dtypes"
   ]
  },
  {
   "cell_type": "markdown",
   "metadata": {
    "collapsed": false
   },
   "source": [
    "It appears as though `preddeg` is an integer, so we will work with the values as numbers.  To subset rows in __pandas__, we can use the `.query()` data frame method.  `.query()` requires an __expression__ to be evaluated by Python using boolean/logical operators.  The method will then return those rows for which the result of the expression is `True`, and drop those rows that return `False`.  In this case, we want all of those rows for which the value of the `preddeg` column is equal to 3.  Let's create a new dataframe, called `ug` for undergraduate, from this expression.  "
   ]
  },
  {
   "cell_type": "code",
   "execution_count": 7,
   "metadata": {
    "collapsed": false
   },
   "outputs": [
    {
     "data": {
      "text/plain": [
       "(2133, 6)"
      ]
     },
     "execution_count": 7,
     "metadata": {},
     "output_type": "execute_result"
    }
   ],
   "source": [
    "ug = df.query('preddeg == 3')\n",
    "\n",
    "ug.shape"
   ]
  },
  {
   "cell_type": "markdown",
   "metadata": {
    "collapsed": false
   },
   "source": [
    "We've gone from over 7800 colleges & universities down to 2133.  \n",
    "\n",
    "### Missing data\n",
    "\n",
    "As mentioned in class, missing data in __pandas__ are designated with the value `NaN`, which refers to \"not a number.\"  Data analysts need to take missing data seriously, as they could be representative of a systematic flaw in the dataset.  You can check for missing values in __pandas__ with the `.isnull()` method.  Let's query our undergradate data frame to check to see how many rows in our dataset have missing values for our column of interest, `ug25abv`.  Note that we need the argument `engine = 'python'` in this example as we are using a __pandas__ method within the expression.  "
   ]
  },
  {
   "cell_type": "code",
   "execution_count": 8,
   "metadata": {
    "collapsed": false
   },
   "outputs": [
    {
     "data": {
      "text/plain": [
       "(36, 6)"
      ]
     },
     "execution_count": 8,
     "metadata": {},
     "output_type": "execute_result"
    }
   ],
   "source": [
    "ugnull = ug.query('ug25abv.isnull()', engine = 'python')\n",
    "\n",
    "ugnull.shape"
   ]
  },
  {
   "cell_type": "markdown",
   "metadata": {
    "collapsed": false
   },
   "source": [
    "It looks like we have 36 rows with null values for the `ug25abv` column.  Let's see what universities they are: "
   ]
  },
  {
   "cell_type": "code",
   "execution_count": 9,
   "metadata": {
    "collapsed": false,
    "scrolled": true
   },
   "outputs": [
    {
     "data": {
      "text/html": [
       "<div>\n",
       "<style scoped>\n",
       "    .dataframe tbody tr th:only-of-type {\n",
       "        vertical-align: middle;\n",
       "    }\n",
       "\n",
       "    .dataframe tbody tr th {\n",
       "        vertical-align: top;\n",
       "    }\n",
       "\n",
       "    .dataframe thead th {\n",
       "        text-align: right;\n",
       "    }\n",
       "</style>\n",
       "<table border=\"1\" class=\"dataframe\">\n",
       "  <thead>\n",
       "    <tr style=\"text-align: right;\">\n",
       "      <th></th>\n",
       "      <th>instnm</th>\n",
       "      <th>state</th>\n",
       "      <th>preddeg</th>\n",
       "      <th>control</th>\n",
       "      <th>ugds</th>\n",
       "      <th>ug25abv</th>\n",
       "    </tr>\n",
       "  </thead>\n",
       "  <tbody>\n",
       "    <tr>\n",
       "      <th>104</th>\n",
       "      <td>Frank Lloyd Wright School of Architecture</td>\n",
       "      <td>AZ</td>\n",
       "      <td>3</td>\n",
       "      <td>2</td>\n",
       "      <td>2.0</td>\n",
       "      <td>NaN</td>\n",
       "    </tr>\n",
       "    <tr>\n",
       "      <th>649</th>\n",
       "      <td>Yeshiva Ohr Elchonon Chabad West Coast Talmudi...</td>\n",
       "      <td>CA</td>\n",
       "      <td>3</td>\n",
       "      <td>2</td>\n",
       "      <td>131.0</td>\n",
       "      <td>NaN</td>\n",
       "    </tr>\n",
       "    <tr>\n",
       "      <th>1171</th>\n",
       "      <td>Rosalind Franklin University of Medicine and S...</td>\n",
       "      <td>IL</td>\n",
       "      <td>3</td>\n",
       "      <td>2</td>\n",
       "      <td>NaN</td>\n",
       "      <td>NaN</td>\n",
       "    </tr>\n",
       "    <tr>\n",
       "      <th>1893</th>\n",
       "      <td>New England College of Optometry</td>\n",
       "      <td>MA</td>\n",
       "      <td>3</td>\n",
       "      <td>2</td>\n",
       "      <td>NaN</td>\n",
       "      <td>NaN</td>\n",
       "    </tr>\n",
       "    <tr>\n",
       "      <th>2598</th>\n",
       "      <td>Beth Hatalmud Rabbinical College</td>\n",
       "      <td>NY</td>\n",
       "      <td>3</td>\n",
       "      <td>2</td>\n",
       "      <td>47.0</td>\n",
       "      <td>NaN</td>\n",
       "    </tr>\n",
       "    <tr>\n",
       "      <th>2599</th>\n",
       "      <td>Beth Hamedrash Shaarei Yosher Institute</td>\n",
       "      <td>NY</td>\n",
       "      <td>3</td>\n",
       "      <td>2</td>\n",
       "      <td>49.0</td>\n",
       "      <td>NaN</td>\n",
       "    </tr>\n",
       "    <tr>\n",
       "      <th>2668</th>\n",
       "      <td>Yeshiva of Far Rockaway Derech Ayson Rabbinica...</td>\n",
       "      <td>NY</td>\n",
       "      <td>3</td>\n",
       "      <td>2</td>\n",
       "      <td>57.0</td>\n",
       "      <td>NaN</td>\n",
       "    </tr>\n",
       "    <tr>\n",
       "      <th>2707</th>\n",
       "      <td>Kehilath Yakov Rabbinical Seminary</td>\n",
       "      <td>NY</td>\n",
       "      <td>3</td>\n",
       "      <td>2</td>\n",
       "      <td>120.0</td>\n",
       "      <td>NaN</td>\n",
       "    </tr>\n",
       "    <tr>\n",
       "      <th>2733</th>\n",
       "      <td>Mesivtha Tifereth Jerusalem of America</td>\n",
       "      <td>NY</td>\n",
       "      <td>3</td>\n",
       "      <td>2</td>\n",
       "      <td>50.0</td>\n",
       "      <td>NaN</td>\n",
       "    </tr>\n",
       "    <tr>\n",
       "      <th>2767</th>\n",
       "      <td>Ohr Hameir Theological Seminary</td>\n",
       "      <td>NY</td>\n",
       "      <td>3</td>\n",
       "      <td>2</td>\n",
       "      <td>94.0</td>\n",
       "      <td>NaN</td>\n",
       "    </tr>\n",
       "    <tr>\n",
       "      <th>2781</th>\n",
       "      <td>Rabbinical College Bobover Yeshiva Bnei Zion</td>\n",
       "      <td>NY</td>\n",
       "      <td>3</td>\n",
       "      <td>2</td>\n",
       "      <td>263.0</td>\n",
       "      <td>NaN</td>\n",
       "    </tr>\n",
       "    <tr>\n",
       "      <th>2783</th>\n",
       "      <td>Rabbinical College Beth Shraga</td>\n",
       "      <td>NY</td>\n",
       "      <td>3</td>\n",
       "      <td>2</td>\n",
       "      <td>47.0</td>\n",
       "      <td>NaN</td>\n",
       "    </tr>\n",
       "    <tr>\n",
       "      <th>2785</th>\n",
       "      <td>Rabbinical College of Long Island</td>\n",
       "      <td>NY</td>\n",
       "      <td>3</td>\n",
       "      <td>2</td>\n",
       "      <td>96.0</td>\n",
       "      <td>NaN</td>\n",
       "    </tr>\n",
       "    <tr>\n",
       "      <th>2854</th>\n",
       "      <td>Talmudical Seminary Oholei Torah</td>\n",
       "      <td>NY</td>\n",
       "      <td>3</td>\n",
       "      <td>2</td>\n",
       "      <td>321.0</td>\n",
       "      <td>NaN</td>\n",
       "    </tr>\n",
       "    <tr>\n",
       "      <th>2859</th>\n",
       "      <td>Torah Temimah Talmudical Seminary</td>\n",
       "      <td>NY</td>\n",
       "      <td>3</td>\n",
       "      <td>2</td>\n",
       "      <td>180.0</td>\n",
       "      <td>NaN</td>\n",
       "    </tr>\n",
       "    <tr>\n",
       "      <th>2875</th>\n",
       "      <td>Webb Institute</td>\n",
       "      <td>NY</td>\n",
       "      <td>3</td>\n",
       "      <td>2</td>\n",
       "      <td>82.0</td>\n",
       "      <td>NaN</td>\n",
       "    </tr>\n",
       "    <tr>\n",
       "      <th>2882</th>\n",
       "      <td>Yeshiva Karlin Stolin</td>\n",
       "      <td>NY</td>\n",
       "      <td>3</td>\n",
       "      <td>2</td>\n",
       "      <td>119.0</td>\n",
       "      <td>NaN</td>\n",
       "    </tr>\n",
       "    <tr>\n",
       "      <th>2886</th>\n",
       "      <td>Yeshiva Shaar Hatorah</td>\n",
       "      <td>NY</td>\n",
       "      <td>3</td>\n",
       "      <td>2</td>\n",
       "      <td>75.0</td>\n",
       "      <td>NaN</td>\n",
       "    </tr>\n",
       "    <tr>\n",
       "      <th>2889</th>\n",
       "      <td>Yeshivath Zichron Moshe</td>\n",
       "      <td>NY</td>\n",
       "      <td>3</td>\n",
       "      <td>2</td>\n",
       "      <td>164.0</td>\n",
       "      <td>NaN</td>\n",
       "    </tr>\n",
       "    <tr>\n",
       "      <th>2920</th>\n",
       "      <td>Davidson College</td>\n",
       "      <td>NC</td>\n",
       "      <td>3</td>\n",
       "      <td>2</td>\n",
       "      <td>1782.0</td>\n",
       "      <td>NaN</td>\n",
       "    </tr>\n",
       "    <tr>\n",
       "      <th>3657</th>\n",
       "      <td>Talmudical Yeshiva of Philadelphia</td>\n",
       "      <td>PA</td>\n",
       "      <td>3</td>\n",
       "      <td>2</td>\n",
       "      <td>124.0</td>\n",
       "      <td>NaN</td>\n",
       "    </tr>\n",
       "    <tr>\n",
       "      <th>4268</th>\n",
       "      <td>Washington and Lee University</td>\n",
       "      <td>VA</td>\n",
       "      <td>3</td>\n",
       "      <td>2</td>\n",
       "      <td>1846.0</td>\n",
       "      <td>NaN</td>\n",
       "    </tr>\n",
       "    <tr>\n",
       "      <th>4622</th>\n",
       "      <td>Yeshiva Gedolah of Greater Detroit</td>\n",
       "      <td>MI</td>\n",
       "      <td>3</td>\n",
       "      <td>2</td>\n",
       "      <td>58.0</td>\n",
       "      <td>NaN</td>\n",
       "    </tr>\n",
       "    <tr>\n",
       "      <th>4915</th>\n",
       "      <td>Yeshiva Gedolah Imrei Yosef D'spinka</td>\n",
       "      <td>NY</td>\n",
       "      <td>3</td>\n",
       "      <td>2</td>\n",
       "      <td>125.0</td>\n",
       "      <td>NaN</td>\n",
       "    </tr>\n",
       "    <tr>\n",
       "      <th>5066</th>\n",
       "      <td>Rabbi Jacob Joseph School</td>\n",
       "      <td>NJ</td>\n",
       "      <td>3</td>\n",
       "      <td>2</td>\n",
       "      <td>86.0</td>\n",
       "      <td>NaN</td>\n",
       "    </tr>\n",
       "    <tr>\n",
       "      <th>5152</th>\n",
       "      <td>Yeshivas Novominsk</td>\n",
       "      <td>NY</td>\n",
       "      <td>3</td>\n",
       "      <td>2</td>\n",
       "      <td>118.0</td>\n",
       "      <td>NaN</td>\n",
       "    </tr>\n",
       "    <tr>\n",
       "      <th>5433</th>\n",
       "      <td>Yeshiva D'monsey Rabbinical College</td>\n",
       "      <td>NY</td>\n",
       "      <td>3</td>\n",
       "      <td>2</td>\n",
       "      <td>48.0</td>\n",
       "      <td>NaN</td>\n",
       "    </tr>\n",
       "    <tr>\n",
       "      <th>5585</th>\n",
       "      <td>Yeshiva of the Telshe Alumni</td>\n",
       "      <td>NY</td>\n",
       "      <td>3</td>\n",
       "      <td>2</td>\n",
       "      <td>126.0</td>\n",
       "      <td>NaN</td>\n",
       "    </tr>\n",
       "    <tr>\n",
       "      <th>5884</th>\n",
       "      <td>Yeshiva Shaarei Torah of Rockland</td>\n",
       "      <td>NY</td>\n",
       "      <td>3</td>\n",
       "      <td>2</td>\n",
       "      <td>116.0</td>\n",
       "      <td>NaN</td>\n",
       "    </tr>\n",
       "    <tr>\n",
       "      <th>5909</th>\n",
       "      <td>Franklin W Olin College of Engineering</td>\n",
       "      <td>MA</td>\n",
       "      <td>3</td>\n",
       "      <td>2</td>\n",
       "      <td>343.0</td>\n",
       "      <td>NaN</td>\n",
       "    </tr>\n",
       "    <tr>\n",
       "      <th>6061</th>\n",
       "      <td>Beis Medrash Heichal Dovid</td>\n",
       "      <td>NY</td>\n",
       "      <td>3</td>\n",
       "      <td>2</td>\n",
       "      <td>96.0</td>\n",
       "      <td>NaN</td>\n",
       "    </tr>\n",
       "    <tr>\n",
       "      <th>6566</th>\n",
       "      <td>Yeshiva Toras Chaim</td>\n",
       "      <td>NJ</td>\n",
       "      <td>3</td>\n",
       "      <td>2</td>\n",
       "      <td>182.0</td>\n",
       "      <td>NaN</td>\n",
       "    </tr>\n",
       "    <tr>\n",
       "      <th>7520</th>\n",
       "      <td>Bais HaMedrash and Mesivta of Baltimore</td>\n",
       "      <td>MD</td>\n",
       "      <td>3</td>\n",
       "      <td>2</td>\n",
       "      <td>49.0</td>\n",
       "      <td>NaN</td>\n",
       "    </tr>\n",
       "    <tr>\n",
       "      <th>7528</th>\n",
       "      <td>Be'er Yaakov Talmudic Seminary</td>\n",
       "      <td>NY</td>\n",
       "      <td>3</td>\n",
       "      <td>2</td>\n",
       "      <td>298.0</td>\n",
       "      <td>NaN</td>\n",
       "    </tr>\n",
       "    <tr>\n",
       "      <th>7689</th>\n",
       "      <td>Yeshiva Gedolah Kesser Torah</td>\n",
       "      <td>NY</td>\n",
       "      <td>3</td>\n",
       "      <td>2</td>\n",
       "      <td>70.0</td>\n",
       "      <td>NaN</td>\n",
       "    </tr>\n",
       "    <tr>\n",
       "      <th>7691</th>\n",
       "      <td>Yeshiva Yesodei Hatorah</td>\n",
       "      <td>NJ</td>\n",
       "      <td>3</td>\n",
       "      <td>2</td>\n",
       "      <td>64.0</td>\n",
       "      <td>NaN</td>\n",
       "    </tr>\n",
       "  </tbody>\n",
       "</table>\n",
       "</div>"
      ],
      "text/plain": [
       "                                                 instnm state  preddeg  \\\n",
       "104           Frank Lloyd Wright School of Architecture    AZ        3   \n",
       "649   Yeshiva Ohr Elchonon Chabad West Coast Talmudi...    CA        3   \n",
       "1171  Rosalind Franklin University of Medicine and S...    IL        3   \n",
       "1893                   New England College of Optometry    MA        3   \n",
       "2598                   Beth Hatalmud Rabbinical College    NY        3   \n",
       "2599            Beth Hamedrash Shaarei Yosher Institute    NY        3   \n",
       "2668  Yeshiva of Far Rockaway Derech Ayson Rabbinica...    NY        3   \n",
       "2707                 Kehilath Yakov Rabbinical Seminary    NY        3   \n",
       "2733             Mesivtha Tifereth Jerusalem of America    NY        3   \n",
       "2767                    Ohr Hameir Theological Seminary    NY        3   \n",
       "2781       Rabbinical College Bobover Yeshiva Bnei Zion    NY        3   \n",
       "2783                     Rabbinical College Beth Shraga    NY        3   \n",
       "2785                  Rabbinical College of Long Island    NY        3   \n",
       "2854                   Talmudical Seminary Oholei Torah    NY        3   \n",
       "2859                  Torah Temimah Talmudical Seminary    NY        3   \n",
       "2875                                     Webb Institute    NY        3   \n",
       "2882                              Yeshiva Karlin Stolin    NY        3   \n",
       "2886                              Yeshiva Shaar Hatorah    NY        3   \n",
       "2889                            Yeshivath Zichron Moshe    NY        3   \n",
       "2920                                   Davidson College    NC        3   \n",
       "3657                 Talmudical Yeshiva of Philadelphia    PA        3   \n",
       "4268                      Washington and Lee University    VA        3   \n",
       "4622                 Yeshiva Gedolah of Greater Detroit    MI        3   \n",
       "4915               Yeshiva Gedolah Imrei Yosef D'spinka    NY        3   \n",
       "5066                          Rabbi Jacob Joseph School    NJ        3   \n",
       "5152                                 Yeshivas Novominsk    NY        3   \n",
       "5433                Yeshiva D'monsey Rabbinical College    NY        3   \n",
       "5585                       Yeshiva of the Telshe Alumni    NY        3   \n",
       "5884                  Yeshiva Shaarei Torah of Rockland    NY        3   \n",
       "5909             Franklin W Olin College of Engineering    MA        3   \n",
       "6061                         Beis Medrash Heichal Dovid    NY        3   \n",
       "6566                                Yeshiva Toras Chaim    NJ        3   \n",
       "7520            Bais HaMedrash and Mesivta of Baltimore    MD        3   \n",
       "7528                     Be'er Yaakov Talmudic Seminary    NY        3   \n",
       "7689                       Yeshiva Gedolah Kesser Torah    NY        3   \n",
       "7691                            Yeshiva Yesodei Hatorah    NJ        3   \n",
       "\n",
       "      control    ugds  ug25abv  \n",
       "104         2     2.0      NaN  \n",
       "649         2   131.0      NaN  \n",
       "1171        2     NaN      NaN  \n",
       "1893        2     NaN      NaN  \n",
       "2598        2    47.0      NaN  \n",
       "2599        2    49.0      NaN  \n",
       "2668        2    57.0      NaN  \n",
       "2707        2   120.0      NaN  \n",
       "2733        2    50.0      NaN  \n",
       "2767        2    94.0      NaN  \n",
       "2781        2   263.0      NaN  \n",
       "2783        2    47.0      NaN  \n",
       "2785        2    96.0      NaN  \n",
       "2854        2   321.0      NaN  \n",
       "2859        2   180.0      NaN  \n",
       "2875        2    82.0      NaN  \n",
       "2882        2   119.0      NaN  \n",
       "2886        2    75.0      NaN  \n",
       "2889        2   164.0      NaN  \n",
       "2920        2  1782.0      NaN  \n",
       "3657        2   124.0      NaN  \n",
       "4268        2  1846.0      NaN  \n",
       "4622        2    58.0      NaN  \n",
       "4915        2   125.0      NaN  \n",
       "5066        2    86.0      NaN  \n",
       "5152        2   118.0      NaN  \n",
       "5433        2    48.0      NaN  \n",
       "5585        2   126.0      NaN  \n",
       "5884        2   116.0      NaN  \n",
       "5909        2   343.0      NaN  \n",
       "6061        2    96.0      NaN  \n",
       "6566        2   182.0      NaN  \n",
       "7520        2    49.0      NaN  \n",
       "7528        2   298.0      NaN  \n",
       "7689        2    70.0      NaN  \n",
       "7691        2    64.0      NaN  "
      ]
     },
     "execution_count": 9,
     "metadata": {},
     "output_type": "execute_result"
    }
   ],
   "source": [
    "ugnull"
   ]
  },
  {
   "cell_type": "markdown",
   "metadata": {
    "collapsed": false
   },
   "source": [
    "Interesting!  It looks like primarily we've returned Jewish _yeshivas_ as well as a few graduate colleges - e.g. New England College of Optometry which is designated as a bachelor's granting institution but has no undergraduates - that appear to have been mis-coded.  This reveals why careful inspection of your data is important.  Missing values often aren't at random, but instead may be systematic or clustered amongst a particular type of record in your dataset.  Additionally, it looks like we've uncovered some errors in the original data as well.   \n",
    "\n",
    "In this case, let's go ahead and drop these records from our dataset.  Recall from class that there are other options available for missing data as well; you can __fill__ the `NaN` values with some other value if appropriate, such as `0` or the mean of the column.  We'll drop these values using `.query()` again, but instead with the `.notna()` __pandas__ method.  This method will identify the rows that are _not_ `NaN` in the `ug25abv` column, and retain only those rows.  "
   ]
  },
  {
   "cell_type": "code",
   "execution_count": 10,
   "metadata": {
    "collapsed": false
   },
   "outputs": [
    {
     "data": {
      "text/plain": [
       "(2097, 6)"
      ]
     },
     "execution_count": 10,
     "metadata": {},
     "output_type": "execute_result"
    }
   ],
   "source": [
    "ug_nonull = ug.query('ug25abv.notna()', engine = 'python')\n",
    "\n",
    "ug_nonull.shape"
   ]
  },
  {
   "cell_type": "markdown",
   "metadata": {
    "collapsed": false
   },
   "source": [
    "I can also use the `.dropna()` method, which we learned in class.  One thing about `.dropna()` is that it can operate over the entire data frame if we don't pass it any columns.  Let's check it out: "
   ]
  },
  {
   "cell_type": "code",
   "execution_count": 11,
   "metadata": {
    "collapsed": false
   },
   "outputs": [
    {
     "data": {
      "text/plain": [
       "(2097, 6)"
      ]
     },
     "execution_count": 11,
     "metadata": {},
     "output_type": "execute_result"
    }
   ],
   "source": [
    "ug1 = ug.dropna()\n",
    "\n",
    "ug1.shape"
   ]
  },
  {
   "cell_type": "markdown",
   "metadata": {
    "collapsed": false
   },
   "source": [
    "We get the same result, which means that we've also removed any of the rows that had null values in the `ugds` column.  \n",
    "\n",
    "__Group-wise data analysis__\n",
    "\n",
    "In class, we discussed the \"split-apply-combine\" approach to data analysis.  This approach involves: \n",
    "\n",
    "1. __Splitting__ the data into groups based on some common characteristic; \n",
    "2. __Applying__ some function to each group; \n",
    "3. __Combining__ the results back into a single dataset, allowing for group-wise comparisons.  \n",
    "\n",
    "While conceptually simple, this approach to data analysis is extraordinarily powerful - and extremely common!  For example, let's say you are working in analytics for a business, and your supervisor wants you to compare sales results of your stores by region.  This is a very common request when working with data professionally, and fortunately __pandas__ can help you out with this with minimal code.  \n",
    "\n",
    "Let's start with a couple guiding questions.  \n",
    "\n",
    "1. How does the proportion of undergraduate students above age 25 vary among public, private, and for-profit universities?  \n",
    "2. How does the proportion of undergraduate students above age 25 vary by institution size?  \n",
    "\n",
    "Group-wise data analysis in __pandas__ is conducted by the creation of a `groupby` object, in which you tell `pandas` exactly how the data should be grouped.  To address the first question, we'll want to group our data by institution type.  The code below gets this done.  "
   ]
  },
  {
   "cell_type": "code",
   "execution_count": 12,
   "metadata": {
    "collapsed": false
   },
   "outputs": [
    {
     "data": {
      "text/plain": [
       "pandas.core.groupby.generic.DataFrameGroupBy"
      ]
     },
     "execution_count": 12,
     "metadata": {},
     "output_type": "execute_result"
    }
   ],
   "source": [
    "groups1 = ug1.groupby('control')\n",
    "\n",
    "type(groups1)"
   ]
  },
  {
   "cell_type": "markdown",
   "metadata": {
    "collapsed": false
   },
   "source": [
    "Notice the object `type` - Python knows that our new object, `groups1`, represents grouped data.  In turn, anything we calculate over this object will apply to each of our groups, defined by unique values of the `control` column.  Let's try:  "
   ]
  },
  {
   "cell_type": "code",
   "execution_count": 13,
   "metadata": {
    "collapsed": false
   },
   "outputs": [
    {
     "data": {
      "text/plain": [
       "control\n",
       "1    0.215475\n",
       "2    0.235799\n",
       "3    0.670381\n",
       "Name: ug25abv, dtype: float64"
      ]
     },
     "execution_count": 13,
     "metadata": {},
     "output_type": "execute_result"
    }
   ],
   "source": [
    "groups1.ug25abv.mean()"
   ]
  },
  {
   "cell_type": "markdown",
   "metadata": {
    "collapsed": false
   },
   "source": [
    "Interesting stuff - whereas public and private non-profit colleges and universities are pretty similar in their age composition, with 21-23 percent of their student bodies above age 25, private for-profit universities are quite different, with over two-thirds of their undergraduates aged over 25.  \n",
    "\n",
    "Let's visualize this with `seaborn`, which also sets up very nicely for group-wise data analysis.  Box plots and violin plots, for example, can be extended by specifying a second column for the plot.  "
   ]
  },
  {
   "cell_type": "code",
   "execution_count": 15,
   "metadata": {
    "collapsed": false
   },
   "outputs": [
    {
     "data": {
      "text/plain": [
       "<AxesSubplot:xlabel='control', ylabel='ug25abv'>"
      ]
     },
     "execution_count": 15,
     "metadata": {},
     "output_type": "execute_result"
    },
    {
     "data": {
      "image/png": "[encoded data removed]",
      "text/plain": [
       "<Figure size 432x288 with 1 Axes>"
      ]
     },
     "metadata": {},
     "output_type": "display_data"
    }
   ],
   "source": [
    "import seaborn as sns\n",
    "sns.set(style = \"darkgrid\")\n",
    "\n",
    "sns.boxplot(data = ug1, x = 'control', y = 'ug25abv')"
   ]
  },
  {
   "cell_type": "markdown",
   "metadata": {
    "collapsed": false
   },
   "source": [
    "We can get a clear sense here of the variations of the distributions between the groups.  While the mean percentage of undergraduates above 25 at public non-profits was below that of private non-profits, it appears as though the median for private non-profits is lower; there is simply a longer tail of private non-profits with large proportions of their student bodies above 25.  For private for-profits, the distribution is quite evident - with the median value above 70 percent.  \n",
    "\n",
    "`seaborn` includes even more functionality for group-wise visualization - incorporating, in some instances, multiple groups!  We'll learn more about this in a couple weeks when we focus on data visualization; however we can take a look right now.  The `catplot` function in `seaborn` allows you to split categorical plots such as point (the default), box, violin, bar, or strip plots into separate smaller charts, to facilitate comparisons across groups.  \n",
    "\n",
    "Let's create a new subsetted data frame, `sub1`, by indexing our `ug1` data frame for only those colleges and universities that are located in New York, Texas, and California.  We then call the `catplot` function, specifying how to divide our plots into __small multiples__ with the `col = 'state'` argument."
   ]
  },
  {
   "cell_type": "code",
   "execution_count": 18,
   "metadata": {
    "collapsed": false
   },
   "outputs": [
    {
     "data": {
      "text/plain": [
       "<seaborn.axisgrid.FacetGrid at 0x7f3415dc95e0>"
      ]
     },
     "execution_count": 18,
     "metadata": {},
     "output_type": "execute_result"
    },
    {
     "data": {
      "image/png": "[encoded data removed]",
      "text/plain": [
       "<Figure size 1080x360 with 3 Axes>"
      ]
     },
     "metadata": {},
     "output_type": "display_data"
    }
   ],
   "source": [
    "sub1 = ug1.query(\"state in ['NY', 'TX', 'CA']\", engine = 'python')\n",
    "\n",
    "sns.catplot(data = sub1, x = 'control', y = 'ug25abv', \n",
    "               col = 'state', kind = 'box', order = [1, 2, 3])"
   ]
  },
  {
   "cell_type": "markdown",
   "metadata": {
    "collapsed": true
   },
   "source": [
    "Now, we want to look at how the percentage of undergraduates over age 25 varies by institution size.  Certainly, we could create a scatter plot as both the `ug25abv` and `ugds` columns are numeric:  "
   ]
  },
  {
   "cell_type": "code",
   "execution_count": 19,
   "metadata": {
    "collapsed": false
   },
   "outputs": [
    {
     "data": {
      "text/plain": [
       "<seaborn.axisgrid.FacetGrid at 0x7f3415cd5d60>"
      ]
     },
     "execution_count": 19,
     "metadata": {},
     "output_type": "execute_result"
    },
    {
     "data": {
      "image/png": "[encoded data removed]",
      "text/plain": [
       "<Figure size 360x360 with 1 Axes>"
      ]
     },
     "metadata": {},
     "output_type": "display_data"
    }
   ],
   "source": [
    "sns.lmplot(data = ug1, x = 'ugds', y = 'ug25abv')"
   ]
  },
  {
   "cell_type": "markdown",
   "metadata": {
    "collapsed": false
   },
   "source": [
    "The regression line suggests an inverse relationship; however the clustering of dots suggests (potentially) a non-linear relationship, and there are several outliers.  For example:  "
   ]
  },
  {
   "cell_type": "code",
   "execution_count": 20,
   "metadata": {
    "collapsed": false
   },
   "outputs": [
    {
     "data": {
      "text/html": [
       "<div>\n",
       "<style scoped>\n",
       "    .dataframe tbody tr th:only-of-type {\n",
       "        vertical-align: middle;\n",
       "    }\n",
       "\n",
       "    .dataframe tbody tr th {\n",
       "        vertical-align: top;\n",
       "    }\n",
       "\n",
       "    .dataframe thead th {\n",
       "        text-align: right;\n",
       "    }\n",
       "</style>\n",
       "<table border=\"1\" class=\"dataframe\">\n",
       "  <thead>\n",
       "    <tr style=\"text-align: right;\">\n",
       "      <th></th>\n",
       "      <th>instnm</th>\n",
       "      <th>state</th>\n",
       "      <th>preddeg</th>\n",
       "      <th>control</th>\n",
       "      <th>ugds</th>\n",
       "      <th>ug25abv</th>\n",
       "    </tr>\n",
       "  </thead>\n",
       "  <tbody>\n",
       "    <tr>\n",
       "      <th>4880</th>\n",
       "      <td>University of Phoenix-Online Campus</td>\n",
       "      <td>AZ</td>\n",
       "      <td>3</td>\n",
       "      <td>3</td>\n",
       "      <td>166816.0</td>\n",
       "      <td>0.8368</td>\n",
       "    </tr>\n",
       "  </tbody>\n",
       "</table>\n",
       "</div>"
      ],
      "text/plain": [
       "                                   instnm state  preddeg  control      ugds  \\\n",
       "4880  University of Phoenix-Online Campus    AZ        3        3  166816.0   \n",
       "\n",
       "      ug25abv  \n",
       "4880   0.8368  "
      ]
     },
     "execution_count": 20,
     "metadata": {},
     "output_type": "execute_result"
    }
   ],
   "source": [
    "ug1.query('ugds > 150000')"
   ]
  },
  {
   "cell_type": "markdown",
   "metadata": {
    "collapsed": false
   },
   "source": [
    "The University of Phoenix-Online, with over 160,000 students, stands out as a distinct outlier.  Additionally, a scatter plot is not the only way that we can assess this relationship.  We can convert our data from quantitative to categorical, and in turn assess variations amongst the categories.  \n",
    "\n",
    "Creating a categorical column from a quantitative column requires computing a new column in our data frame, which will be a common part of your workflow in __pandas__.  As you learned in class, you can use basic mathematical operations to create new columns from existing ones.  In this example, we are going to organize our universities into __bins__ based on their size, and then compare universities across those bins.  \n",
    "\n",
    "__pandas__ includes a lot of methods for creating new columns; we're going to discuss here options for organizing our data into bins.  The three options are as follows: \n",
    "\n",
    "* Equal interval: all bins have the same width, regardless of the number of observations in each bin.  \n",
    "* Manual breaks: the analyst specifies where the bin breaks should be located\n",
    "* Quantile: An equal number of observations are organized into a specified number of bins; bins widths will in turn be irregular.  \n",
    "\n",
    "Equal interval and manual breaks are available via the `cut()` function in __pandas__; quantiles are available from the `qcut()` function.  Let's create a new column with the `.assign()` method that organizes the values in `ugds` into five quantiles, labeled with 1 through 5 which we accomplish with `range()`: "
   ]
  },
  {
   "cell_type": "code",
   "execution_count": 25,
   "metadata": {
    "collapsed": false
   },
   "outputs": [
    {
     "data": {
      "text/html": [
       "<div>\n",
       "<style scoped>\n",
       "    .dataframe tbody tr th:only-of-type {\n",
       "        vertical-align: middle;\n",
       "    }\n",
       "\n",
       "    .dataframe tbody tr th {\n",
       "        vertical-align: top;\n",
       "    }\n",
       "\n",
       "    .dataframe thead th {\n",
       "        text-align: right;\n",
       "    }\n",
       "</style>\n",
       "<table border=\"1\" class=\"dataframe\">\n",
       "  <thead>\n",
       "    <tr style=\"text-align: right;\">\n",
       "      <th></th>\n",
       "      <th>instnm</th>\n",
       "      <th>state</th>\n",
       "      <th>preddeg</th>\n",
       "      <th>control</th>\n",
       "      <th>ugds</th>\n",
       "      <th>ug25abv</th>\n",
       "      <th>quant5</th>\n",
       "    </tr>\n",
       "  </thead>\n",
       "  <tbody>\n",
       "    <tr>\n",
       "      <th>0</th>\n",
       "      <td>Alabama A &amp; M University</td>\n",
       "      <td>AL</td>\n",
       "      <td>3</td>\n",
       "      <td>1</td>\n",
       "      <td>4051.0</td>\n",
       "      <td>0.1049</td>\n",
       "      <td>4</td>\n",
       "    </tr>\n",
       "    <tr>\n",
       "      <th>1</th>\n",
       "      <td>University of Alabama at Birmingham</td>\n",
       "      <td>AL</td>\n",
       "      <td>3</td>\n",
       "      <td>1</td>\n",
       "      <td>11200.0</td>\n",
       "      <td>0.2422</td>\n",
       "      <td>5</td>\n",
       "    </tr>\n",
       "    <tr>\n",
       "      <th>2</th>\n",
       "      <td>Amridge University</td>\n",
       "      <td>AL</td>\n",
       "      <td>3</td>\n",
       "      <td>2</td>\n",
       "      <td>322.0</td>\n",
       "      <td>0.8540</td>\n",
       "      <td>1</td>\n",
       "    </tr>\n",
       "    <tr>\n",
       "      <th>3</th>\n",
       "      <td>University of Alabama in Huntsville</td>\n",
       "      <td>AL</td>\n",
       "      <td>3</td>\n",
       "      <td>1</td>\n",
       "      <td>5525.0</td>\n",
       "      <td>0.2640</td>\n",
       "      <td>4</td>\n",
       "    </tr>\n",
       "    <tr>\n",
       "      <th>4</th>\n",
       "      <td>Alabama State University</td>\n",
       "      <td>AL</td>\n",
       "      <td>3</td>\n",
       "      <td>1</td>\n",
       "      <td>5354.0</td>\n",
       "      <td>0.1270</td>\n",
       "      <td>4</td>\n",
       "    </tr>\n",
       "  </tbody>\n",
       "</table>\n",
       "</div>"
      ],
      "text/plain": [
       "                                instnm state  preddeg  control     ugds  \\\n",
       "0             Alabama A & M University    AL        3        1   4051.0   \n",
       "1  University of Alabama at Birmingham    AL        3        1  11200.0   \n",
       "2                   Amridge University    AL        3        2    322.0   \n",
       "3  University of Alabama in Huntsville    AL        3        1   5525.0   \n",
       "4             Alabama State University    AL        3        1   5354.0   \n",
       "\n",
       "   ug25abv quant5  \n",
       "0   0.1049      4  \n",
       "1   0.2422      5  \n",
       "2   0.8540      1  \n",
       "3   0.2640      4  \n",
       "4   0.1270      4  "
      ]
     },
     "execution_count": 25,
     "metadata": {},
     "output_type": "execute_result"
    }
   ],
   "source": [
    "ug_quantiles = ug1.assign(quant5 = pd.qcut(ug.ugds, 5, labels = range(1, 6)))\n",
    "\n",
    "ug_quantiles.head()"
   ]
  },
  {
   "cell_type": "markdown",
   "metadata": {
    "collapsed": true
   },
   "source": [
    "We can now make comparisons by quantile if we want.  Let's try a bar chart; `seaborn`'s `barplot` function will calculate group means and plot them, and give us an indication of the uncertainty around that mean with an error bar: "
   ]
  },
  {
   "cell_type": "code",
   "execution_count": 26,
   "metadata": {
    "collapsed": false
   },
   "outputs": [
    {
     "data": {
      "text/plain": [
       "<AxesSubplot:xlabel='ug25abv', ylabel='quant5'>"
      ]
     },
     "execution_count": 26,
     "metadata": {},
     "output_type": "execute_result"
    },
    {
     "data": {
      "image/png": "[encoded data removed]",
      "text/plain": [
       "<Figure size 432x288 with 1 Axes>"
      ]
     },
     "metadata": {},
     "output_type": "display_data"
    }
   ],
   "source": [
    "sns.barplot(x = 'ug25abv', y = 'quant5', data = ug_quantiles)"
   ]
  },
  {
   "cell_type": "markdown",
   "metadata": {},
   "source": [
    "We can analyze this further by breaking out the bar charts by college type with `sns.catplot()`: "
   ]
  },
  {
   "cell_type": "code",
   "execution_count": 27,
   "metadata": {
    "collapsed": false
   },
   "outputs": [
    {
     "data": {
      "text/plain": [
       "<seaborn.axisgrid.FacetGrid at 0x7f34141fe9a0>"
      ]
     },
     "execution_count": 27,
     "metadata": {},
     "output_type": "execute_result"
    },
    {
     "data": {
      "image/png": "[encoded data removed]",
      "text/plain": [
       "<Figure size 1080x360 with 3 Axes>"
      ]
     },
     "metadata": {},
     "output_type": "display_data"
    }
   ],
   "source": [
    "sns.catplot(data = ug1, x = 'ug25abv', y = 'quant5', col = 'control', kind = 'bar')"
   ]
  },
  {
   "cell_type": "markdown",
   "metadata": {
    "collapsed": false
   },
   "source": [
    "Our results appear quite different when we break them out by college type!  This starts to reveal the importance of detailed investigation of your data through visualization; we'll be exploring this much more in the next few weeks.  We can also take a look at the numbers behind these plots by creating a `groupby` object that groups by `control` and the quantiles: "
   ]
  },
  {
   "cell_type": "code",
   "execution_count": 28,
   "metadata": {
    "collapsed": false
   },
   "outputs": [
    {
     "data": {
      "text/plain": [
       "control  quant5\n",
       "1        1         0.498289\n",
       "         2         0.298886\n",
       "         3         0.265841\n",
       "         4         0.224723\n",
       "         5         0.183518\n",
       "2        1         0.410560\n",
       "         2         0.225184\n",
       "         3         0.162080\n",
       "         4         0.176742\n",
       "         5         0.210676\n",
       "3        1         0.701017\n",
       "         2         0.641752\n",
       "         3         0.610130\n",
       "         4         0.594723\n",
       "         5         0.787532\n",
       "Name: ug25abv, dtype: float64"
      ]
     },
     "execution_count": 28,
     "metadata": {},
     "output_type": "execute_result"
    }
   ],
   "source": [
    "groups2 = ug_quantiles.groupby(['control', 'quant5'])\n",
    "\n",
    "groups2.ug25abv.mean()"
   ]
  },
  {
   "cell_type": "markdown",
   "metadata": {
    "collapsed": false
   },
   "source": [
    "## Exercises\n",
    "\n",
    "You'll now complete some exercises so you can practice what you've learned.  Your job, in general, is to replicate the analysis above, but for a different column in the dataset.  You'll be analyzing the column `PCTPELL`, which denotes the percentages of students receiving Pell Grants, a federal grant program to help students pay for college.  Unlike loans, Pell Grants do not need to be repaid.  \n",
    "\n",
    "While you'll be using a lot of the code I provided for you and modifying it slightly, make sure that you know what the code is doing at every step! \n",
    "\n",
    "---\n",
    "\n",
    "__Exercise 1__:  Similar to what you did earlier in the notebook, create a data frame that is subsetted for the columns `'INSTNM', 'STABBR', 'PREDDEG', 'CONTROL', 'UGDS',` and `'PCTPELL'`, and that retains only those rows where `PREDDEG` is equal to `3`, representing primarily bachelor's-granting universities.  What is the mean, median, maximum value, and minimum value of the `PCTPELL` column?  "
   ]
  },
  {
   "cell_type": "code",
   "execution_count": null,
   "metadata": {
    "collapsed": false
   },
   "outputs": [],
   "source": []
  },
  {
   "cell_type": "markdown",
   "metadata": {
    "collapsed": false
   },
   "source": [
    "__Exercise 2:__ How many null values are contained in the `PCTPELL` column in your subsetted data frame?  Once you've found this out, drop them from your data frame.  "
   ]
  },
  {
   "cell_type": "code",
   "execution_count": null,
   "metadata": {
    "collapsed": false
   },
   "outputs": [],
   "source": []
  },
  {
   "cell_type": "markdown",
   "metadata": {
    "collapsed": false
   },
   "source": [
    "__Exercise 3:__ Compare the means of `PCTPELL` by the different groups of `CONTROL` (the college/university type).  Draw a visualization that shows how the distributions vary.  "
   ]
  },
  {
   "cell_type": "code",
   "execution_count": null,
   "metadata": {
    "collapsed": false
   },
   "outputs": [],
   "source": []
  },
  {
   "cell_type": "markdown",
   "metadata": {
    "collapsed": false
   },
   "source": [
    "__Exercise 4:__ Draw a visualization that breaks your visualization from Exercise 3 down by state with `catplot`, similar to what you did earlier in the notebook; in this instance, however, compare Texas with Florida and Illinois.  "
   ]
  },
  {
   "cell_type": "code",
   "execution_count": null,
   "metadata": {
    "collapsed": false
   },
   "outputs": [],
   "source": []
  },
  {
   "cell_type": "markdown",
   "metadata": {
    "collapsed": false
   },
   "source": [
    "__Exercise 5__: Show how the percent of students receiving Pell Grants varies by institution size and institution type (public, private, for-profit).  Break up the `UGDS` column into five quantiles in your data frame as you did before, and then compare the means of `PCTPELL` by institution type by institution size.  Draw a visualization with `catplot` to show this graphically.  "
   ]
  },
  {
   "cell_type": "code",
   "execution_count": null,
   "metadata": {
    "collapsed": false
   },
   "outputs": [],
   "source": []
  }
 ],
 "metadata": {
  "interpreter": {
   "hash": "bb36249fbdba1d6ade34ba4fc02bf8ccd33de44ac7660b9968452a14add822d2"
  },
  "kernelspec": {
   "display_name": "Python 3.9.5 64-bit ('python39': conda)",
   "name": "python3"
  },
  "language_info": {
   "codemirror_mode": {
    "name": "ipython",
    "version": 3
   },
   "file_extension": ".py",
   "mimetype": "text/x-python",
   "name": "python",
   "nbconvert_exporter": "python",
   "pygments_lexer": "ipython3",
   "version": "3.9.5"
  }
 },
 "nbformat": 4,
 "nbformat_minor": 4
}
