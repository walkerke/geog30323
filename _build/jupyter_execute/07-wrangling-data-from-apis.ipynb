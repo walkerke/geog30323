{
 "cells": [
  {
   "cell_type": "markdown",
   "metadata": {
    "collapsed": false
   },
   "source": [
    "## Assignment 7: Wrangling data from APIs\n",
    "\n",
    "The previous assignment gave you some experience with the data wrangling functionality of `pandas`; this are skills you'll be returning to throughout the semester.  In this assignment, you'll be expanding upon those skills by working with data from the City of Fort Worth's Open Data API.  As you learned in class, data APIs are interfaces that allow you to access data programmatically.  In turn, data APIs allow data to be accessed by applications such as websites, or in this case a data analysis pipeline.  \n",
    "\n",
    "Fort Worth's Open Data API is powered by [Socrata](http://www.socrata.com/), a start-up that helps cities open up their data catalogs to the public.  Many other cities, including [New York City](https://nycopendata.socrata.com/) and [Dallas](https://www.dallasopendata.com/), use Socrata as well.  Fort Worth's open data catalog is small, but growing, and the city's use of Socrata makes its data available in many different ways.  \n",
    "\n",
    "In this assignment we'll be working with Fort Worth Police crime data, available at this link: https://data.fortworthtexas.gov/Public-Safety-Courts/Crime-Data/k6ic-7kp7.  The data include observations going back more than 100 years!  However, we'll be working with more recent data as we can presume that they are more complete.  \n",
    "\n",
    "The Socrata web interface includes a lot of options for filtering, manipulating, and visualizing the data.  As we want to be able to access it inside our data analysis environment in `pandas`, however, we'll want to be able to access it directly.  Socrata gives several options for exporting the data in a variety of formats, including CSV; however, you are going to learn in this assignment how to access the data through Socrata's open data API.  \n",
    "\n",
    "Generally, data APIs make data available in one of two formats: JSON (**J**ava**S**cript **O**bject **N**otation) or XML (e**X**tensible **M**arkup **L**anguage).  JSON is becoming the more common of the two, as it fits well within the structure of modern websites, which rely heavily on the JavaScript programming language.  \n",
    "\n",
    "JSON is a way of encoding data objects with JavaScript, and organizes data as a series objects represented by key-value pairs.  In terms of how you are used to thinking about data, the __object__ represents a record, the __key__ represents a column header, and the __value__ represents a data value.  Let's take a look at a single JSON record from the crime database (run the cell to display it if it doesn't show): "
   ]
  },
  {
   "cell_type": "code",
   "execution_count": 1,
   "metadata": {
    "collapsed": false
   },
   "outputs": [
    {
     "data": {
      "text/html": [
       "\n",
       "        <iframe\n",
       "            width=\"700\"\n",
       "            height=\"450\"\n",
       "            src=\"https://data.fortworthtexas.gov/resource/k6ic-7kp7.json?case_no=180003105\"\n",
       "            frameborder=\"0\"\n",
       "            allowfullscreen\n",
       "        ></iframe>\n",
       "        "
      ],
      "text/plain": [
       "<IPython.lib.display.IFrame at 0x7f6451ac48b0>"
      ]
     },
     "execution_count": 1,
     "metadata": {},
     "output_type": "execute_result"
    }
   ],
   "source": [
    "from IPython.display import IFrame\n",
    "\n",
    "IFrame('https://data.fortworthtexas.gov/resource/k6ic-7kp7.json?case_no=180003105', width = 700, height = 450)"
   ]
  },
  {
   "cell_type": "markdown",
   "metadata": {
    "collapsed": false
   },
   "source": [
    "The code you see above is new: I'm using the capabilities of the Jupyter Notebook to display an embedded web page.  Trust me, we haven't even scratched the surface of what the Notebook can do; it can display animated GIFs, YouTube videos, interactive charts/maps, and much more!  Here, I'm showing the contents of the URL https://data.fortworthtexas.gov/resource/k6ic-7kp7.json?case_no=63560 - click it to take a look if you want - which queries Fort Worth's open data API and returns a single record from the crime dataset.  Let's break the URL down a little bit.  \n",
    "\n",
    "The first part, https://data.fortworthtexas.gov/resource/k6ic-7kp7.json, is the __API endpoint__.  This is the root directory of the data API; if you were to follow that link, you'd see the entire dataset in JSON format.  The second part, `?case_no=63560`, is a __filter__; the question mark signifies that I am going to query the data, and the string that follows, `case_no=63560`, specifies how the data are to be subsetted.  I've done this all in the URL of the API call!\n",
    "\n",
    "Additionally, the Socrata API recognizes a query language they call \"SoQL\", which operates against the API in a similar way to how SQL (Structured Query Language) allows users to access databases.  More information is here: http://dev.socrata.com/docs/queries.html.  For example, the following query will return thefts in Fort Worth for 2019: "
   ]
  },
  {
   "cell_type": "code",
   "execution_count": 2,
   "metadata": {
    "collapsed": false
   },
   "outputs": [],
   "source": [
    "# This is the API endpoint - the source of our data\n",
    "endpoint = \"https://data.fortworthtexas.gov/resource/k6ic-7kp7.json\"\n",
    "\n",
    "# Here is the first part of the SoQL query - denoting what type of offense we want\n",
    "type_query = \"?$where=nature_of_call='THEFT'\"\n",
    "\n",
    "# Here is the second part of the query - we are taking offenses after midnight on December 1, \n",
    "# and prior to midnight on January 1\n",
    "date_query = \" AND reported_date>'2019-01-01T00:00:00' AND reported_date<'2020-01-01T00:00:00' &$limit=50000\"\n",
    "\n",
    "# We then concatenate together the endpoint and the two components of the SoQL query\n",
    "# to get our API call.\n",
    "theft_call = endpoint + type_query + date_query"
   ]
  },
  {
   "cell_type": "markdown",
   "metadata": {
    "collapsed": false
   },
   "source": [
    "The `read_json()` function in `pandas` can then translate JSON to a nice data frame.  However, we'll first need to translate our long query to a URL-appropriate string that `pandas` can use.  Currently, our API call looks like this: "
   ]
  },
  {
   "cell_type": "code",
   "execution_count": 3,
   "metadata": {
    "collapsed": false
   },
   "outputs": [
    {
     "data": {
      "text/plain": [
       "\"https://data.fortworthtexas.gov/resource/k6ic-7kp7.json?$where=nature_of_call='THEFT' AND reported_date>'2019-01-01T00:00:00' AND reported_date<'2020-01-01T00:00:00' &$limit=50000\""
      ]
     },
     "execution_count": 3,
     "metadata": {},
     "output_type": "execute_result"
    }
   ],
   "source": [
    "theft_call"
   ]
  },
  {
   "cell_type": "markdown",
   "metadata": {
    "collapsed": false
   },
   "source": [
    "However, as there are spaces and special characters in the query, `pandas` needs the string as it will be translated in the web browser.  Fortunately, Python has a built-in library, `urllib`, that can assist with this.  The `quote` function in the `parse` module gets this done, so let's import it and format the URL accordingly.  Note the argument supplied to the `safe` parameter, which denotes characters we don't want to convert.  Take a look at how the URL changes: "
   ]
  },
  {
   "cell_type": "code",
   "execution_count": 4,
   "metadata": {
    "collapsed": false
   },
   "outputs": [
    {
     "data": {
      "text/plain": [
       "'https://data.fortworthtexas.gov/resource/k6ic-7kp7.json?$where=nature_of_call=%27THEFT%27%20AND%20reported_date>%272019-01-01T00:00:00%27%20AND%20reported_date<%272020-01-01T00:00:00%27%20&$limit=50000'"
      ]
     },
     "execution_count": 4,
     "metadata": {},
     "output_type": "execute_result"
    }
   ],
   "source": [
    "from urllib.parse import quote\n",
    "\n",
    "quote(theft_call, safe = \"/:?$=<->&\")"
   ]
  },
  {
   "cell_type": "markdown",
   "metadata": {
    "collapsed": false
   },
   "source": [
    "We can use this formatted URL in a `read_json` call now using `pandas`, creating a new data frame called `theft_df`.  "
   ]
  },
  {
   "cell_type": "code",
   "execution_count": 5,
   "metadata": {
    "collapsed": false
   },
   "outputs": [
    {
     "data": {
      "text/plain": [
       "(12296, 17)"
      ]
     },
     "execution_count": 5,
     "metadata": {},
     "output_type": "execute_result"
    }
   ],
   "source": [
    "import pandas as pd\n",
    "\n",
    "formatted_call = quote(theft_call, safe = \"/:?$=<->&\")\n",
    "\n",
    "theft_df = pd.read_json(formatted_call)\n",
    "\n",
    "theft_df.shape"
   ]
  },
  {
   "cell_type": "markdown",
   "metadata": {
    "collapsed": false
   },
   "source": [
    "Our API call has returned 11632 theft calls in Fort Worth in 2019.  Let's take a quick peek at the data: "
   ]
  },
  {
   "cell_type": "code",
   "execution_count": 6,
   "metadata": {
    "collapsed": false
   },
   "outputs": [
    {
     "data": {
      "text/html": [
       "<div>\n",
       "<style scoped>\n",
       "    .dataframe tbody tr th:only-of-type {\n",
       "        vertical-align: middle;\n",
       "    }\n",
       "\n",
       "    .dataframe tbody tr th {\n",
       "        vertical-align: top;\n",
       "    }\n",
       "\n",
       "    .dataframe thead th {\n",
       "        text-align: right;\n",
       "    }\n",
       "</style>\n",
       "<table border=\"1\" class=\"dataframe\">\n",
       "  <thead>\n",
       "    <tr style=\"text-align: right;\">\n",
       "      <th></th>\n",
       "      <th>case_no_offense</th>\n",
       "      <th>case_no</th>\n",
       "      <th>reported_date</th>\n",
       "      <th>nature_of_call</th>\n",
       "      <th>from_date</th>\n",
       "      <th>offense</th>\n",
       "      <th>offense_desc</th>\n",
       "      <th>block_address</th>\n",
       "      <th>city</th>\n",
       "      <th>state</th>\n",
       "      <th>beat</th>\n",
       "      <th>division</th>\n",
       "      <th>councildistrict</th>\n",
       "      <th>attempt_complete</th>\n",
       "      <th>location_type</th>\n",
       "      <th>locationtypedescription</th>\n",
       "      <th>location_1</th>\n",
       "    </tr>\n",
       "  </thead>\n",
       "  <tbody>\n",
       "    <tr>\n",
       "      <th>0</th>\n",
       "      <td>190060995-26A</td>\n",
       "      <td>190060995</td>\n",
       "      <td>2019-07-16T10:02:00.000</td>\n",
       "      <td>THEFT</td>\n",
       "      <td>2019-03-16T12:00:00.000</td>\n",
       "      <td>26A</td>\n",
       "      <td>PC 31.04(E)(4)  2015 Theft of Service&gt;=$2500&lt;$...</td>\n",
       "      <td>6700 CAMP BOWIE BLVD</td>\n",
       "      <td>FORT WORTH</td>\n",
       "      <td>TX</td>\n",
       "      <td>L12</td>\n",
       "      <td>West</td>\n",
       "      <td>3.0</td>\n",
       "      <td>C</td>\n",
       "      <td>8.0</td>\n",
       "      <td>08 DEPARTMENT/DISCOUNT STORE</td>\n",
       "      <td>{'latitude': '32.721920974474735', 'longitude'...</td>\n",
       "    </tr>\n",
       "    <tr>\n",
       "      <th>1</th>\n",
       "      <td>190059481-23C</td>\n",
       "      <td>190059481</td>\n",
       "      <td>2019-07-11T08:53:10.000</td>\n",
       "      <td>THEFT</td>\n",
       "      <td>2019-07-11T08:53:10.000</td>\n",
       "      <td>23C</td>\n",
       "      <td>GC 085-07 Theft under $100 23C SHOPLIFTING 000...</td>\n",
       "      <td>4200 E LANCASTER AVE EB</td>\n",
       "      <td>FORT WORTH</td>\n",
       "      <td>TX</td>\n",
       "      <td>G14</td>\n",
       "      <td>NaN</td>\n",
       "      <td>NaN</td>\n",
       "      <td>C</td>\n",
       "      <td>7.0</td>\n",
       "      <td>07 CONVENIENCE STORE</td>\n",
       "      <td>{'latitude': '32.740739801747495', 'longitude'...</td>\n",
       "    </tr>\n",
       "    <tr>\n",
       "      <th>2</th>\n",
       "      <td>190059936-23H</td>\n",
       "      <td>190059936</td>\n",
       "      <td>2019-07-12T15:05:00.000</td>\n",
       "      <td>THEFT</td>\n",
       "      <td>2019-07-12T08:30:00.000</td>\n",
       "      <td>23H</td>\n",
       "      <td>PC 31.03 - Others Theft - Others 23H ALL OTHER...</td>\n",
       "      <td>4600 SPRING MIST CV</td>\n",
       "      <td>FORT WORTH</td>\n",
       "      <td>TX</td>\n",
       "      <td>E15</td>\n",
       "      <td>North</td>\n",
       "      <td>4.0</td>\n",
       "      <td>C</td>\n",
       "      <td>20.0</td>\n",
       "      <td>20 RESIDENCE/HOME</td>\n",
       "      <td>{'latitude': '32.897210352706274', 'longitude'...</td>\n",
       "    </tr>\n",
       "    <tr>\n",
       "      <th>3</th>\n",
       "      <td>190059937-23H</td>\n",
       "      <td>190059937</td>\n",
       "      <td>2019-07-12T15:16:00.000</td>\n",
       "      <td>THEFT</td>\n",
       "      <td>2019-07-04T13:30:00.000</td>\n",
       "      <td>23H</td>\n",
       "      <td>PC 31.03 - Others Theft - Others 23H ALL OTHER...</td>\n",
       "      <td>1700 BEAUVIOR DR</td>\n",
       "      <td>FORT WORTH</td>\n",
       "      <td>TX</td>\n",
       "      <td>H15</td>\n",
       "      <td>East</td>\n",
       "      <td>5.0</td>\n",
       "      <td>C</td>\n",
       "      <td>20.0</td>\n",
       "      <td>20 RESIDENCE/HOME</td>\n",
       "      <td>{'latitude': '32.752789904996575', 'longitude'...</td>\n",
       "    </tr>\n",
       "    <tr>\n",
       "      <th>4</th>\n",
       "      <td>190060642-23H</td>\n",
       "      <td>190060642</td>\n",
       "      <td>2019-07-15T09:11:18.000</td>\n",
       "      <td>THEFT</td>\n",
       "      <td>2019-07-12T18:00:00.000</td>\n",
       "      <td>23H</td>\n",
       "      <td>PC 31.03(E)(2)(A)(1) Theft&gt;=$50&lt;$500 23H ALL O...</td>\n",
       "      <td>14800 TRINITY BLVD</td>\n",
       "      <td>FORT WORTH</td>\n",
       "      <td>TX</td>\n",
       "      <td>H17</td>\n",
       "      <td>East</td>\n",
       "      <td>5.0</td>\n",
       "      <td>C</td>\n",
       "      <td>5.0</td>\n",
       "      <td>05 COMMERCIAL/OFFICE BUILDING</td>\n",
       "      <td>{'latitude': '32.82222460099878', 'longitude':...</td>\n",
       "    </tr>\n",
       "  </tbody>\n",
       "</table>\n",
       "</div>"
      ],
      "text/plain": [
       "  case_no_offense    case_no            reported_date nature_of_call  \\\n",
       "0   190060995-26A  190060995  2019-07-16T10:02:00.000          THEFT   \n",
       "1   190059481-23C  190059481  2019-07-11T08:53:10.000          THEFT   \n",
       "2   190059936-23H  190059936  2019-07-12T15:05:00.000          THEFT   \n",
       "3   190059937-23H  190059937  2019-07-12T15:16:00.000          THEFT   \n",
       "4   190060642-23H  190060642  2019-07-15T09:11:18.000          THEFT   \n",
       "\n",
       "                 from_date offense  \\\n",
       "0  2019-03-16T12:00:00.000     26A   \n",
       "1  2019-07-11T08:53:10.000     23C   \n",
       "2  2019-07-12T08:30:00.000     23H   \n",
       "3  2019-07-04T13:30:00.000     23H   \n",
       "4  2019-07-12T18:00:00.000     23H   \n",
       "\n",
       "                                        offense_desc            block_address  \\\n",
       "0  PC 31.04(E)(4)  2015 Theft of Service>=$2500<$...     6700 CAMP BOWIE BLVD   \n",
       "1  GC 085-07 Theft under $100 23C SHOPLIFTING 000...  4200 E LANCASTER AVE EB   \n",
       "2  PC 31.03 - Others Theft - Others 23H ALL OTHER...      4600 SPRING MIST CV   \n",
       "3  PC 31.03 - Others Theft - Others 23H ALL OTHER...         1700 BEAUVIOR DR   \n",
       "4  PC 31.03(E)(2)(A)(1) Theft>=$50<$500 23H ALL O...       14800 TRINITY BLVD   \n",
       "\n",
       "         city state beat division  councildistrict attempt_complete  \\\n",
       "0  FORT WORTH    TX  L12     West              3.0                C   \n",
       "1  FORT WORTH    TX  G14      NaN              NaN                C   \n",
       "2  FORT WORTH    TX  E15    North              4.0                C   \n",
       "3  FORT WORTH    TX  H15     East              5.0                C   \n",
       "4  FORT WORTH    TX  H17     East              5.0                C   \n",
       "\n",
       "   location_type        locationtypedescription  \\\n",
       "0            8.0   08 DEPARTMENT/DISCOUNT STORE   \n",
       "1            7.0           07 CONVENIENCE STORE   \n",
       "2           20.0              20 RESIDENCE/HOME   \n",
       "3           20.0              20 RESIDENCE/HOME   \n",
       "4            5.0  05 COMMERCIAL/OFFICE BUILDING   \n",
       "\n",
       "                                          location_1  \n",
       "0  {'latitude': '32.721920974474735', 'longitude'...  \n",
       "1  {'latitude': '32.740739801747495', 'longitude'...  \n",
       "2  {'latitude': '32.897210352706274', 'longitude'...  \n",
       "3  {'latitude': '32.752789904996575', 'longitude'...  \n",
       "4  {'latitude': '32.82222460099878', 'longitude':...  "
      ]
     },
     "execution_count": 6,
     "metadata": {},
     "output_type": "execute_result"
    }
   ],
   "source": [
    "theft_df.head()"
   ]
  },
  {
   "cell_type": "markdown",
   "metadata": {
    "collapsed": false
   },
   "source": [
    "Notice how `pandas` has translated the JSON into a data frame with columns that make sense to us.  There is a lot we can do with the data here!  We have information about the date of the crime; the location - including lat/long coordinates, that need some additional parsing - the police beat, and the city council district.  Using the methods we've learned to this point, we can do some basic analysis of the data.  For example: how did theft vary by city council district in 2019?  "
   ]
  },
  {
   "cell_type": "code",
   "execution_count": 7,
   "metadata": {
    "collapsed": false
   },
   "outputs": [
    {
     "data": {
      "text/plain": [
       "councildistrict\n",
       "2.0     976\n",
       "3.0    1228\n",
       "4.0    1238\n",
       "5.0    1310\n",
       "6.0    1298\n",
       "7.0     805\n",
       "8.0    1627\n",
       "9.0    1664\n",
       "dtype: int64"
      ]
     },
     "execution_count": 7,
     "metadata": {},
     "output_type": "execute_result"
    }
   ],
   "source": [
    "theft_by_district = theft_df.groupby('councildistrict')\n",
    "\n",
    "theft_by_district.size()"
   ]
  },
  {
   "cell_type": "markdown",
   "metadata": {
    "collapsed": false
   },
   "source": [
    "Looks like District 8 had the most thefts, followed by District 9.  Let's try plotting this with `seaborn`: "
   ]
  },
  {
   "cell_type": "code",
   "execution_count": 8,
   "metadata": {
    "collapsed": false
   },
   "outputs": [
    {
     "data": {
      "text/plain": [
       "<AxesSubplot:xlabel='count', ylabel='councildistrict'>"
      ]
     },
     "execution_count": 8,
     "metadata": {},
     "output_type": "execute_result"
    },
    {
     "data": {
      "image/png": "[encoded data removed]",
      "text/plain": [
       "<Figure size 576x432 with 1 Axes>"
      ]
     },
     "metadata": {},
     "output_type": "display_data"
    }
   ],
   "source": [
    "import seaborn as sns\n",
    "sns.set(style = \"darkgrid\", rc = {\"figure.figsize\": (8, 6)})\n",
    "\n",
    "sns.countplot(data = theft_df, y = 'councildistrict', order = range(2, 10))"
   ]
  },
  {
   "cell_type": "markdown",
   "metadata": {
    "collapsed": false
   },
   "source": [
    "A trained observer, however, would notice that that data are not normalized for population.  As data analysts, always be mindful of whether your analysis accurately represents the underlying variation in your data.  Data can easily mislead if not presented correctly; for example, while the largest cities in the United States will usually have the most crimes, they won't necessarily have the highest crime __rates__.  \n",
    "\n",
    "However, we don't have city council district population in our dataset; in turn, we'll need to fetch it from somewhere else and __merge__ it to our existing data.  As we discussed in class, merges are based on __key fields__ that match between two different tables.  Also, recall from class our discussion of the four types of merges available to you in `pandas` via the `.merge()` method, which can be passed as arguments to the `how` parameter: \n",
    "\n",
    "* `'inner'` (the default): only the matching rows are retained\n",
    "* `'left'`: all rows from the first table are retained; only matching rows from the second table are retained\n",
    "* `'right'`: all rows from the second table are retained; only matching rows from the first table are retained\n",
    "* `'outer'`: all rows are retained, regardless of a match between the two tables\n",
    "\n",
    "We'll be conducting a very simple merge here, in which all rows will match between the two tables.  Let's read in the city council population data from my website:  "
   ]
  },
  {
   "cell_type": "code",
   "execution_count": 9,
   "metadata": {
    "collapsed": false
   },
   "outputs": [
    {
     "data": {
      "text/html": [
       "<div>\n",
       "<style scoped>\n",
       "    .dataframe tbody tr th:only-of-type {\n",
       "        vertical-align: middle;\n",
       "    }\n",
       "\n",
       "    .dataframe tbody tr th {\n",
       "        vertical-align: top;\n",
       "    }\n",
       "\n",
       "    .dataframe thead th {\n",
       "        text-align: right;\n",
       "    }\n",
       "</style>\n",
       "<table border=\"1\" class=\"dataframe\">\n",
       "  <thead>\n",
       "    <tr style=\"text-align: right;\">\n",
       "      <th></th>\n",
       "      <th>name</th>\n",
       "      <th>total</th>\n",
       "      <th>district</th>\n",
       "    </tr>\n",
       "  </thead>\n",
       "  <tbody>\n",
       "    <tr>\n",
       "      <th>0</th>\n",
       "      <td>2 - Carlos Flores</td>\n",
       "      <td>107649</td>\n",
       "      <td>2</td>\n",
       "    </tr>\n",
       "    <tr>\n",
       "      <th>1</th>\n",
       "      <td>3 - Brian Byrd</td>\n",
       "      <td>98711</td>\n",
       "      <td>3</td>\n",
       "    </tr>\n",
       "    <tr>\n",
       "      <th>2</th>\n",
       "      <td>4 - Cary Moon</td>\n",
       "      <td>112074</td>\n",
       "      <td>4</td>\n",
       "    </tr>\n",
       "    <tr>\n",
       "      <th>3</th>\n",
       "      <td>5 - Gyna Bivens</td>\n",
       "      <td>104732</td>\n",
       "      <td>5</td>\n",
       "    </tr>\n",
       "    <tr>\n",
       "      <th>4</th>\n",
       "      <td>6 - Jungus Jordan</td>\n",
       "      <td>98986</td>\n",
       "      <td>6</td>\n",
       "    </tr>\n",
       "    <tr>\n",
       "      <th>5</th>\n",
       "      <td>7 - Dennis Shingleton</td>\n",
       "      <td>124235</td>\n",
       "      <td>7</td>\n",
       "    </tr>\n",
       "    <tr>\n",
       "      <th>6</th>\n",
       "      <td>8 - Kelly Allen Gray</td>\n",
       "      <td>103432</td>\n",
       "      <td>8</td>\n",
       "    </tr>\n",
       "    <tr>\n",
       "      <th>7</th>\n",
       "      <td>9 - Ann Zadeh</td>\n",
       "      <td>95479</td>\n",
       "      <td>9</td>\n",
       "    </tr>\n",
       "  </tbody>\n",
       "</table>\n",
       "</div>"
      ],
      "text/plain": [
       "                    name   total  district\n",
       "0      2 - Carlos Flores  107649         2\n",
       "1         3 - Brian Byrd   98711         3\n",
       "2          4 - Cary Moon  112074         4\n",
       "3        5 - Gyna Bivens  104732         5\n",
       "4      6 - Jungus Jordan   98986         6\n",
       "5  7 - Dennis Shingleton  124235         7\n",
       "6   8 - Kelly Allen Gray  103432         8\n",
       "7          9 - Ann Zadeh   95479         9"
      ]
     },
     "execution_count": 9,
     "metadata": {},
     "output_type": "execute_result"
    }
   ],
   "source": [
    "council = pd.read_csv('http://personal.tcu.edu/kylewalker/data/cd_population.csv')\n",
    "\n",
    "council"
   ]
  },
  {
   "cell_type": "markdown",
   "metadata": {
    "collapsed": false
   },
   "source": [
    "We can now create a data frame from our `groupby` result (resetting the index, as `pandas` places the group name in the index), to get it ready for a merge.  "
   ]
  },
  {
   "cell_type": "code",
   "execution_count": 10,
   "metadata": {
    "collapsed": false
   },
   "outputs": [
    {
     "data": {
      "text/html": [
       "<div>\n",
       "<style scoped>\n",
       "    .dataframe tbody tr th:only-of-type {\n",
       "        vertical-align: middle;\n",
       "    }\n",
       "\n",
       "    .dataframe tbody tr th {\n",
       "        vertical-align: top;\n",
       "    }\n",
       "\n",
       "    .dataframe thead th {\n",
       "        text-align: right;\n",
       "    }\n",
       "</style>\n",
       "<table border=\"1\" class=\"dataframe\">\n",
       "  <thead>\n",
       "    <tr style=\"text-align: right;\">\n",
       "      <th></th>\n",
       "      <th>district</th>\n",
       "      <th>count</th>\n",
       "    </tr>\n",
       "  </thead>\n",
       "  <tbody>\n",
       "    <tr>\n",
       "      <th>0</th>\n",
       "      <td>2.0</td>\n",
       "      <td>976</td>\n",
       "    </tr>\n",
       "    <tr>\n",
       "      <th>1</th>\n",
       "      <td>3.0</td>\n",
       "      <td>1228</td>\n",
       "    </tr>\n",
       "    <tr>\n",
       "      <th>2</th>\n",
       "      <td>4.0</td>\n",
       "      <td>1238</td>\n",
       "    </tr>\n",
       "    <tr>\n",
       "      <th>3</th>\n",
       "      <td>5.0</td>\n",
       "      <td>1310</td>\n",
       "    </tr>\n",
       "    <tr>\n",
       "      <th>4</th>\n",
       "      <td>6.0</td>\n",
       "      <td>1298</td>\n",
       "    </tr>\n",
       "    <tr>\n",
       "      <th>5</th>\n",
       "      <td>7.0</td>\n",
       "      <td>805</td>\n",
       "    </tr>\n",
       "    <tr>\n",
       "      <th>6</th>\n",
       "      <td>8.0</td>\n",
       "      <td>1627</td>\n",
       "    </tr>\n",
       "    <tr>\n",
       "      <th>7</th>\n",
       "      <td>9.0</td>\n",
       "      <td>1664</td>\n",
       "    </tr>\n",
       "  </tbody>\n",
       "</table>\n",
       "</div>"
      ],
      "text/plain": [
       "   district  count\n",
       "0       2.0    976\n",
       "1       3.0   1228\n",
       "2       4.0   1238\n",
       "3       5.0   1310\n",
       "4       6.0   1298\n",
       "5       7.0    805\n",
       "6       8.0   1627\n",
       "7       9.0   1664"
      ]
     },
     "execution_count": 10,
     "metadata": {},
     "output_type": "execute_result"
    }
   ],
   "source": [
    "theft_by_district_df = pd.DataFrame(theft_by_district.size().reset_index())\n",
    "\n",
    "theft_by_district_df.columns = ['district', 'count']\n",
    "\n",
    "theft_by_district_df"
   ]
  },
  {
   "cell_type": "markdown",
   "metadata": {
    "collapsed": false
   },
   "source": [
    "We'll be able to merge on the \"district\" column, which I've renamed in the second data frame for clarity.  First, let's check our `dtypes` to make sure they match up: "
   ]
  },
  {
   "cell_type": "code",
   "execution_count": 11,
   "metadata": {
    "collapsed": false
   },
   "outputs": [
    {
     "data": {
      "text/plain": [
       "name        object\n",
       "total        int64\n",
       "district     int64\n",
       "dtype: object"
      ]
     },
     "execution_count": 11,
     "metadata": {},
     "output_type": "execute_result"
    }
   ],
   "source": [
    "council.dtypes"
   ]
  },
  {
   "cell_type": "code",
   "execution_count": 12,
   "metadata": {
    "collapsed": false
   },
   "outputs": [
    {
     "data": {
      "text/plain": [
       "district    float64\n",
       "count         int64\n",
       "dtype: object"
      ]
     },
     "execution_count": 12,
     "metadata": {},
     "output_type": "execute_result"
    }
   ],
   "source": [
    "theft_by_district_df.dtypes"
   ]
  },
  {
   "cell_type": "markdown",
   "metadata": {
    "collapsed": false
   },
   "source": [
    "Now, we can do the merge with the `.merge()` method in `pandas`.  "
   ]
  },
  {
   "cell_type": "code",
   "execution_count": 13,
   "metadata": {
    "collapsed": false
   },
   "outputs": [
    {
     "data": {
      "text/html": [
       "<div>\n",
       "<style scoped>\n",
       "    .dataframe tbody tr th:only-of-type {\n",
       "        vertical-align: middle;\n",
       "    }\n",
       "\n",
       "    .dataframe tbody tr th {\n",
       "        vertical-align: top;\n",
       "    }\n",
       "\n",
       "    .dataframe thead th {\n",
       "        text-align: right;\n",
       "    }\n",
       "</style>\n",
       "<table border=\"1\" class=\"dataframe\">\n",
       "  <thead>\n",
       "    <tr style=\"text-align: right;\">\n",
       "      <th></th>\n",
       "      <th>name</th>\n",
       "      <th>total</th>\n",
       "      <th>district</th>\n",
       "      <th>count</th>\n",
       "    </tr>\n",
       "  </thead>\n",
       "  <tbody>\n",
       "    <tr>\n",
       "      <th>0</th>\n",
       "      <td>2 - Carlos Flores</td>\n",
       "      <td>107649</td>\n",
       "      <td>2</td>\n",
       "      <td>976</td>\n",
       "    </tr>\n",
       "    <tr>\n",
       "      <th>1</th>\n",
       "      <td>3 - Brian Byrd</td>\n",
       "      <td>98711</td>\n",
       "      <td>3</td>\n",
       "      <td>1228</td>\n",
       "    </tr>\n",
       "    <tr>\n",
       "      <th>2</th>\n",
       "      <td>4 - Cary Moon</td>\n",
       "      <td>112074</td>\n",
       "      <td>4</td>\n",
       "      <td>1238</td>\n",
       "    </tr>\n",
       "    <tr>\n",
       "      <th>3</th>\n",
       "      <td>5 - Gyna Bivens</td>\n",
       "      <td>104732</td>\n",
       "      <td>5</td>\n",
       "      <td>1310</td>\n",
       "    </tr>\n",
       "    <tr>\n",
       "      <th>4</th>\n",
       "      <td>6 - Jungus Jordan</td>\n",
       "      <td>98986</td>\n",
       "      <td>6</td>\n",
       "      <td>1298</td>\n",
       "    </tr>\n",
       "    <tr>\n",
       "      <th>5</th>\n",
       "      <td>7 - Dennis Shingleton</td>\n",
       "      <td>124235</td>\n",
       "      <td>7</td>\n",
       "      <td>805</td>\n",
       "    </tr>\n",
       "    <tr>\n",
       "      <th>6</th>\n",
       "      <td>8 - Kelly Allen Gray</td>\n",
       "      <td>103432</td>\n",
       "      <td>8</td>\n",
       "      <td>1627</td>\n",
       "    </tr>\n",
       "    <tr>\n",
       "      <th>7</th>\n",
       "      <td>9 - Ann Zadeh</td>\n",
       "      <td>95479</td>\n",
       "      <td>9</td>\n",
       "      <td>1664</td>\n",
       "    </tr>\n",
       "  </tbody>\n",
       "</table>\n",
       "</div>"
      ],
      "text/plain": [
       "                    name   total  district  count\n",
       "0      2 - Carlos Flores  107649         2    976\n",
       "1         3 - Brian Byrd   98711         3   1228\n",
       "2          4 - Cary Moon  112074         4   1238\n",
       "3        5 - Gyna Bivens  104732         5   1310\n",
       "4      6 - Jungus Jordan   98986         6   1298\n",
       "5  7 - Dennis Shingleton  124235         7    805\n",
       "6   8 - Kelly Allen Gray  103432         8   1627\n",
       "7          9 - Ann Zadeh   95479         9   1664"
      ]
     },
     "execution_count": 13,
     "metadata": {},
     "output_type": "execute_result"
    }
   ],
   "source": [
    "council_merged = council.merge(theft_by_district_df, on = 'district', how = \"left\")\n",
    "\n",
    "council_merged"
   ]
  },
  {
   "cell_type": "markdown",
   "metadata": {
    "collapsed": false
   },
   "source": [
    "Perfect!  We can now calculate a new column that measures rate per 1000 residents for thefts in 2019."
   ]
  },
  {
   "cell_type": "code",
   "execution_count": 14,
   "metadata": {
    "collapsed": false
   },
   "outputs": [
    {
     "data": {
      "text/html": [
       "<div>\n",
       "<style scoped>\n",
       "    .dataframe tbody tr th:only-of-type {\n",
       "        vertical-align: middle;\n",
       "    }\n",
       "\n",
       "    .dataframe tbody tr th {\n",
       "        vertical-align: top;\n",
       "    }\n",
       "\n",
       "    .dataframe thead th {\n",
       "        text-align: right;\n",
       "    }\n",
       "</style>\n",
       "<table border=\"1\" class=\"dataframe\">\n",
       "  <thead>\n",
       "    <tr style=\"text-align: right;\">\n",
       "      <th></th>\n",
       "      <th>name</th>\n",
       "      <th>total</th>\n",
       "      <th>district</th>\n",
       "      <th>count</th>\n",
       "      <th>rate</th>\n",
       "    </tr>\n",
       "  </thead>\n",
       "  <tbody>\n",
       "    <tr>\n",
       "      <th>0</th>\n",
       "      <td>2 - Carlos Flores</td>\n",
       "      <td>107649</td>\n",
       "      <td>2</td>\n",
       "      <td>976</td>\n",
       "      <td>9.066503</td>\n",
       "    </tr>\n",
       "    <tr>\n",
       "      <th>1</th>\n",
       "      <td>3 - Brian Byrd</td>\n",
       "      <td>98711</td>\n",
       "      <td>3</td>\n",
       "      <td>1228</td>\n",
       "      <td>12.440356</td>\n",
       "    </tr>\n",
       "    <tr>\n",
       "      <th>2</th>\n",
       "      <td>4 - Cary Moon</td>\n",
       "      <td>112074</td>\n",
       "      <td>4</td>\n",
       "      <td>1238</td>\n",
       "      <td>11.046273</td>\n",
       "    </tr>\n",
       "    <tr>\n",
       "      <th>3</th>\n",
       "      <td>5 - Gyna Bivens</td>\n",
       "      <td>104732</td>\n",
       "      <td>5</td>\n",
       "      <td>1310</td>\n",
       "      <td>12.508116</td>\n",
       "    </tr>\n",
       "    <tr>\n",
       "      <th>4</th>\n",
       "      <td>6 - Jungus Jordan</td>\n",
       "      <td>98986</td>\n",
       "      <td>6</td>\n",
       "      <td>1298</td>\n",
       "      <td>13.112965</td>\n",
       "    </tr>\n",
       "    <tr>\n",
       "      <th>5</th>\n",
       "      <td>7 - Dennis Shingleton</td>\n",
       "      <td>124235</td>\n",
       "      <td>7</td>\n",
       "      <td>805</td>\n",
       "      <td>6.479655</td>\n",
       "    </tr>\n",
       "    <tr>\n",
       "      <th>6</th>\n",
       "      <td>8 - Kelly Allen Gray</td>\n",
       "      <td>103432</td>\n",
       "      <td>8</td>\n",
       "      <td>1627</td>\n",
       "      <td>15.730142</td>\n",
       "    </tr>\n",
       "    <tr>\n",
       "      <th>7</th>\n",
       "      <td>9 - Ann Zadeh</td>\n",
       "      <td>95479</td>\n",
       "      <td>9</td>\n",
       "      <td>1664</td>\n",
       "      <td>17.427916</td>\n",
       "    </tr>\n",
       "  </tbody>\n",
       "</table>\n",
       "</div>"
      ],
      "text/plain": [
       "                    name   total  district  count       rate\n",
       "0      2 - Carlos Flores  107649         2    976   9.066503\n",
       "1         3 - Brian Byrd   98711         3   1228  12.440356\n",
       "2          4 - Cary Moon  112074         4   1238  11.046273\n",
       "3        5 - Gyna Bivens  104732         5   1310  12.508116\n",
       "4      6 - Jungus Jordan   98986         6   1298  13.112965\n",
       "5  7 - Dennis Shingleton  124235         7    805   6.479655\n",
       "6   8 - Kelly Allen Gray  103432         8   1627  15.730142\n",
       "7          9 - Ann Zadeh   95479         9   1664  17.427916"
      ]
     },
     "execution_count": 14,
     "metadata": {},
     "output_type": "execute_result"
    }
   ],
   "source": [
    "council_merged['rate'] = (council_merged['count'] / council_merged['total']) * 1000\n",
    "\n",
    "council_merged"
   ]
  },
  {
   "cell_type": "markdown",
   "metadata": {
    "collapsed": false
   },
   "source": [
    "And we can plot the results: "
   ]
  },
  {
   "cell_type": "code",
   "execution_count": 15,
   "metadata": {
    "collapsed": false
   },
   "outputs": [
    {
     "data": {
      "text/plain": [
       "<AxesSubplot:xlabel='rate', ylabel='name'>"
      ]
     },
     "execution_count": 15,
     "metadata": {},
     "output_type": "execute_result"
    },
    {
     "data": {
      "image/png": "[encoded data removed]",
      "text/plain": [
       "<Figure size 576x432 with 1 Axes>"
      ]
     },
     "metadata": {},
     "output_type": "display_data"
    }
   ],
   "source": [
    "council_sort = council_merged.sort_values('rate', ascending = False)\n",
    "\n",
    "sns.stripplot(data = council_sort, x = 'rate', y = 'name', size = 12)"
   ]
  },
  {
   "cell_type": "markdown",
   "metadata": {
    "collapsed": false
   },
   "source": [
    "Just in case you were wondering: TCU is split across council districts 3 and 9.  \n",
    "\n",
    "The last thing we're going to do is look at how thefts varied by date in 2019.  We have two columns that represent dates: `from_date` and `reported_date`; however they are not currently formatted as dates.  Dates are very tricky types to work with in data analysis - there are many different ways that dates can be written!  Fortunately, ours are currently fairly consistent - we just need to do a little work with them.  \n",
    "\n",
    "The date fields in our data frame include a substring, `'T00:00:00'`; this means that the Socrata date field type supports time of day, but we don't have this information in our dataset.  As such, we're going to remove it from the string.  \n",
    "\n",
    "The steps below will do the following: \n",
    "\n",
    "* Remove the unnecessary time information, creating a new column `d1`; \n",
    "* Create a new column formatted as a date, `date2`, from `date1`, using the `to_datetime()` function in `pandas`.  "
   ]
  },
  {
   "cell_type": "code",
   "execution_count": 16,
   "metadata": {
    "collapsed": false
   },
   "outputs": [
    {
     "data": {
      "text/html": [
       "<div>\n",
       "<style scoped>\n",
       "    .dataframe tbody tr th:only-of-type {\n",
       "        vertical-align: middle;\n",
       "    }\n",
       "\n",
       "    .dataframe tbody tr th {\n",
       "        vertical-align: top;\n",
       "    }\n",
       "\n",
       "    .dataframe thead th {\n",
       "        text-align: right;\n",
       "    }\n",
       "</style>\n",
       "<table border=\"1\" class=\"dataframe\">\n",
       "  <thead>\n",
       "    <tr style=\"text-align: right;\">\n",
       "      <th></th>\n",
       "      <th>case_no_offense</th>\n",
       "      <th>case_no</th>\n",
       "      <th>reported_date</th>\n",
       "      <th>nature_of_call</th>\n",
       "      <th>from_date</th>\n",
       "      <th>offense</th>\n",
       "      <th>offense_desc</th>\n",
       "      <th>block_address</th>\n",
       "      <th>city</th>\n",
       "      <th>state</th>\n",
       "      <th>beat</th>\n",
       "      <th>division</th>\n",
       "      <th>councildistrict</th>\n",
       "      <th>attempt_complete</th>\n",
       "      <th>location_type</th>\n",
       "      <th>locationtypedescription</th>\n",
       "      <th>location_1</th>\n",
       "      <th>date1</th>\n",
       "      <th>date2</th>\n",
       "    </tr>\n",
       "  </thead>\n",
       "  <tbody>\n",
       "    <tr>\n",
       "      <th>0</th>\n",
       "      <td>190060995-26A</td>\n",
       "      <td>190060995</td>\n",
       "      <td>2019-07-16T10:02:00.000</td>\n",
       "      <td>THEFT</td>\n",
       "      <td>2019-03-16T12:00:00.000</td>\n",
       "      <td>26A</td>\n",
       "      <td>PC 31.04(E)(4)  2015 Theft of Service&gt;=$2500&lt;$...</td>\n",
       "      <td>6700 CAMP BOWIE BLVD</td>\n",
       "      <td>FORT WORTH</td>\n",
       "      <td>TX</td>\n",
       "      <td>L12</td>\n",
       "      <td>West</td>\n",
       "      <td>3.0</td>\n",
       "      <td>C</td>\n",
       "      <td>8.0</td>\n",
       "      <td>08 DEPARTMENT/DISCOUNT STORE</td>\n",
       "      <td>{'latitude': '32.721920974474735', 'longitude'...</td>\n",
       "      <td>2019-07-16</td>\n",
       "      <td>2019-07-16</td>\n",
       "    </tr>\n",
       "    <tr>\n",
       "      <th>1</th>\n",
       "      <td>190059481-23C</td>\n",
       "      <td>190059481</td>\n",
       "      <td>2019-07-11T08:53:10.000</td>\n",
       "      <td>THEFT</td>\n",
       "      <td>2019-07-11T08:53:10.000</td>\n",
       "      <td>23C</td>\n",
       "      <td>GC 085-07 Theft under $100 23C SHOPLIFTING 000...</td>\n",
       "      <td>4200 E LANCASTER AVE EB</td>\n",
       "      <td>FORT WORTH</td>\n",
       "      <td>TX</td>\n",
       "      <td>G14</td>\n",
       "      <td>NaN</td>\n",
       "      <td>NaN</td>\n",
       "      <td>C</td>\n",
       "      <td>7.0</td>\n",
       "      <td>07 CONVENIENCE STORE</td>\n",
       "      <td>{'latitude': '32.740739801747495', 'longitude'...</td>\n",
       "      <td>2019-07-11</td>\n",
       "      <td>2019-07-11</td>\n",
       "    </tr>\n",
       "    <tr>\n",
       "      <th>2</th>\n",
       "      <td>190059936-23H</td>\n",
       "      <td>190059936</td>\n",
       "      <td>2019-07-12T15:05:00.000</td>\n",
       "      <td>THEFT</td>\n",
       "      <td>2019-07-12T08:30:00.000</td>\n",
       "      <td>23H</td>\n",
       "      <td>PC 31.03 - Others Theft - Others 23H ALL OTHER...</td>\n",
       "      <td>4600 SPRING MIST CV</td>\n",
       "      <td>FORT WORTH</td>\n",
       "      <td>TX</td>\n",
       "      <td>E15</td>\n",
       "      <td>North</td>\n",
       "      <td>4.0</td>\n",
       "      <td>C</td>\n",
       "      <td>20.0</td>\n",
       "      <td>20 RESIDENCE/HOME</td>\n",
       "      <td>{'latitude': '32.897210352706274', 'longitude'...</td>\n",
       "      <td>2019-07-12</td>\n",
       "      <td>2019-07-12</td>\n",
       "    </tr>\n",
       "    <tr>\n",
       "      <th>3</th>\n",
       "      <td>190059937-23H</td>\n",
       "      <td>190059937</td>\n",
       "      <td>2019-07-12T15:16:00.000</td>\n",
       "      <td>THEFT</td>\n",
       "      <td>2019-07-04T13:30:00.000</td>\n",
       "      <td>23H</td>\n",
       "      <td>PC 31.03 - Others Theft - Others 23H ALL OTHER...</td>\n",
       "      <td>1700 BEAUVIOR DR</td>\n",
       "      <td>FORT WORTH</td>\n",
       "      <td>TX</td>\n",
       "      <td>H15</td>\n",
       "      <td>East</td>\n",
       "      <td>5.0</td>\n",
       "      <td>C</td>\n",
       "      <td>20.0</td>\n",
       "      <td>20 RESIDENCE/HOME</td>\n",
       "      <td>{'latitude': '32.752789904996575', 'longitude'...</td>\n",
       "      <td>2019-07-12</td>\n",
       "      <td>2019-07-12</td>\n",
       "    </tr>\n",
       "    <tr>\n",
       "      <th>4</th>\n",
       "      <td>190060642-23H</td>\n",
       "      <td>190060642</td>\n",
       "      <td>2019-07-15T09:11:18.000</td>\n",
       "      <td>THEFT</td>\n",
       "      <td>2019-07-12T18:00:00.000</td>\n",
       "      <td>23H</td>\n",
       "      <td>PC 31.03(E)(2)(A)(1) Theft&gt;=$50&lt;$500 23H ALL O...</td>\n",
       "      <td>14800 TRINITY BLVD</td>\n",
       "      <td>FORT WORTH</td>\n",
       "      <td>TX</td>\n",
       "      <td>H17</td>\n",
       "      <td>East</td>\n",
       "      <td>5.0</td>\n",
       "      <td>C</td>\n",
       "      <td>5.0</td>\n",
       "      <td>05 COMMERCIAL/OFFICE BUILDING</td>\n",
       "      <td>{'latitude': '32.82222460099878', 'longitude':...</td>\n",
       "      <td>2019-07-15</td>\n",
       "      <td>2019-07-15</td>\n",
       "    </tr>\n",
       "  </tbody>\n",
       "</table>\n",
       "</div>"
      ],
      "text/plain": [
       "  case_no_offense    case_no            reported_date nature_of_call  \\\n",
       "0   190060995-26A  190060995  2019-07-16T10:02:00.000          THEFT   \n",
       "1   190059481-23C  190059481  2019-07-11T08:53:10.000          THEFT   \n",
       "2   190059936-23H  190059936  2019-07-12T15:05:00.000          THEFT   \n",
       "3   190059937-23H  190059937  2019-07-12T15:16:00.000          THEFT   \n",
       "4   190060642-23H  190060642  2019-07-15T09:11:18.000          THEFT   \n",
       "\n",
       "                 from_date offense  \\\n",
       "0  2019-03-16T12:00:00.000     26A   \n",
       "1  2019-07-11T08:53:10.000     23C   \n",
       "2  2019-07-12T08:30:00.000     23H   \n",
       "3  2019-07-04T13:30:00.000     23H   \n",
       "4  2019-07-12T18:00:00.000     23H   \n",
       "\n",
       "                                        offense_desc            block_address  \\\n",
       "0  PC 31.04(E)(4)  2015 Theft of Service>=$2500<$...     6700 CAMP BOWIE BLVD   \n",
       "1  GC 085-07 Theft under $100 23C SHOPLIFTING 000...  4200 E LANCASTER AVE EB   \n",
       "2  PC 31.03 - Others Theft - Others 23H ALL OTHER...      4600 SPRING MIST CV   \n",
       "3  PC 31.03 - Others Theft - Others 23H ALL OTHER...         1700 BEAUVIOR DR   \n",
       "4  PC 31.03(E)(2)(A)(1) Theft>=$50<$500 23H ALL O...       14800 TRINITY BLVD   \n",
       "\n",
       "         city state beat division  councildistrict attempt_complete  \\\n",
       "0  FORT WORTH    TX  L12     West              3.0                C   \n",
       "1  FORT WORTH    TX  G14      NaN              NaN                C   \n",
       "2  FORT WORTH    TX  E15    North              4.0                C   \n",
       "3  FORT WORTH    TX  H15     East              5.0                C   \n",
       "4  FORT WORTH    TX  H17     East              5.0                C   \n",
       "\n",
       "   location_type        locationtypedescription  \\\n",
       "0            8.0   08 DEPARTMENT/DISCOUNT STORE   \n",
       "1            7.0           07 CONVENIENCE STORE   \n",
       "2           20.0              20 RESIDENCE/HOME   \n",
       "3           20.0              20 RESIDENCE/HOME   \n",
       "4            5.0  05 COMMERCIAL/OFFICE BUILDING   \n",
       "\n",
       "                                          location_1       date1      date2  \n",
       "0  {'latitude': '32.721920974474735', 'longitude'...  2019-07-16 2019-07-16  \n",
       "1  {'latitude': '32.740739801747495', 'longitude'...  2019-07-11 2019-07-11  \n",
       "2  {'latitude': '32.897210352706274', 'longitude'...  2019-07-12 2019-07-12  \n",
       "3  {'latitude': '32.752789904996575', 'longitude'...  2019-07-12 2019-07-12  \n",
       "4  {'latitude': '32.82222460099878', 'longitude':...  2019-07-15 2019-07-15  "
      ]
     },
     "execution_count": 16,
     "metadata": {},
     "output_type": "execute_result"
    }
   ],
   "source": [
    "theft_df['date1'] = theft_df['reported_date'].str[:10]\n",
    "\n",
    "theft_df['date2'] = pd.to_datetime(theft_df['date1'])\n",
    "\n",
    "theft_df.head()"
   ]
  },
  {
   "cell_type": "markdown",
   "metadata": {
    "collapsed": false
   },
   "source": [
    "Scroll to the end; we see that `date1` and `date2` look similar; however, `date2` is formatted as a date, which means that `pandas` recognizes how to work with it in sequence.  In turn, we can plot how burglaries varied by day in Fort Worth last December: "
   ]
  },
  {
   "cell_type": "code",
   "execution_count": 17,
   "metadata": {
    "collapsed": false
   },
   "outputs": [
    {
     "data": {
      "text/plain": [
       "<AxesSubplot:xlabel='Date', ylabel='Number'>"
      ]
     },
     "execution_count": 17,
     "metadata": {},
     "output_type": "execute_result"
    },
    {
     "data": {
      "image/png": "[encoded data removed]",
      "text/plain": [
       "<Figure size 576x432 with 1 Axes>"
      ]
     },
     "metadata": {},
     "output_type": "display_data"
    }
   ],
   "source": [
    "theft_by_date = (theft_df\n",
    "                .groupby('date2')\n",
    "                .size()\n",
    "                .reset_index()\n",
    "                )\n",
    "\n",
    "theft_by_date.columns = [\"Date\", \"Number\"]\n",
    "\n",
    "\n",
    "sns.lineplot(x = \"Date\", y = \"Number\", data = theft_by_date)"
   ]
  },
  {
   "cell_type": "markdown",
   "metadata": {
    "collapsed": false
   },
   "source": [
    "Read through the code to understand what it does.  I'm introducing you here to a new process of operations called _method chaining_ which is very popular in data programming. Rather than writing out a separate command for each method, generating new objects along the way, e.g.:\n",
    "\n",
    "```python\n",
    "theft_groupby = theft_df.groupby('date2')\n",
    "theft_size = theft_groupby.size()\n",
    "theft_reset = theft_size.reset_index()\n",
    "```\n",
    "\n",
    "Method chaining allows for the specification of a data wrangling process as a series of steps.  The code we use - \n",
    "\n",
    "```python\n",
    "theft_by_date = (theft_df\n",
    "                .groupby('date2')\n",
    "                .size()\n",
    "                .reset_index()\n",
    "                )\n",
    "```\n",
    "\n",
    "can be read as \"To generate the object `theft_by_date`, we first take the `theft_df` data frame, then we group it by the `\"date2\"` column, then we compute the size, then we reset the index.\"  Method chains over multiple lines like these must be wrapped in parentheses so Python knows that the methods belong to a multi-line chain.  This is the style that I often use in my projects as it helps me keep my thoughts organized.  \n",
    "\n",
    "Once we've generated an appropriate object using the method chain, we can give it sensible column names and plot the result with `sns.lineplot()`.\n",
    "\n",
    "One thing you may notice with the plot, however, is that it appears choppy, making it difficult to discern trends for the entire year.  An alternative way to visualize this is by re-calculating the data as a _rolling mean_, where the number associated with each date represents an average of the days around it.  __pandas__ is designed specifically for this type of time-series analysis.  "
   ]
  },
  {
   "cell_type": "code",
   "execution_count": 18,
   "metadata": {
    "collapsed": false
   },
   "outputs": [
    {
     "data": {
      "text/html": [
       "<div>\n",
       "<style scoped>\n",
       "    .dataframe tbody tr th:only-of-type {\n",
       "        vertical-align: middle;\n",
       "    }\n",
       "\n",
       "    .dataframe tbody tr th {\n",
       "        vertical-align: top;\n",
       "    }\n",
       "\n",
       "    .dataframe thead th {\n",
       "        text-align: right;\n",
       "    }\n",
       "</style>\n",
       "<table border=\"1\" class=\"dataframe\">\n",
       "  <thead>\n",
       "    <tr style=\"text-align: right;\">\n",
       "      <th></th>\n",
       "      <th>Date</th>\n",
       "      <th>Number</th>\n",
       "      <th>Weekly_Avg</th>\n",
       "    </tr>\n",
       "  </thead>\n",
       "  <tbody>\n",
       "    <tr>\n",
       "      <th>0</th>\n",
       "      <td>2019-01-01</td>\n",
       "      <td>30</td>\n",
       "      <td>30.000000</td>\n",
       "    </tr>\n",
       "    <tr>\n",
       "      <th>1</th>\n",
       "      <td>2019-01-02</td>\n",
       "      <td>35</td>\n",
       "      <td>32.500000</td>\n",
       "    </tr>\n",
       "    <tr>\n",
       "      <th>2</th>\n",
       "      <td>2019-01-03</td>\n",
       "      <td>42</td>\n",
       "      <td>35.666667</td>\n",
       "    </tr>\n",
       "    <tr>\n",
       "      <th>3</th>\n",
       "      <td>2019-01-04</td>\n",
       "      <td>37</td>\n",
       "      <td>36.000000</td>\n",
       "    </tr>\n",
       "    <tr>\n",
       "      <th>4</th>\n",
       "      <td>2019-01-05</td>\n",
       "      <td>31</td>\n",
       "      <td>35.000000</td>\n",
       "    </tr>\n",
       "  </tbody>\n",
       "</table>\n",
       "</div>"
      ],
      "text/plain": [
       "        Date  Number  Weekly_Avg\n",
       "0 2019-01-01      30   30.000000\n",
       "1 2019-01-02      35   32.500000\n",
       "2 2019-01-03      42   35.666667\n",
       "3 2019-01-04      37   36.000000\n",
       "4 2019-01-05      31   35.000000"
      ]
     },
     "execution_count": 18,
     "metadata": {},
     "output_type": "execute_result"
    }
   ],
   "source": [
    "theft_by_date['Weekly_Avg'] = theft_by_date['Number'].rolling(window = 7, min_periods = 1).mean()\n",
    "\n",
    "theft_by_date.head()"
   ]
  },
  {
   "cell_type": "markdown",
   "metadata": {
    "collapsed": false
   },
   "source": [
    "Above, we use the `.rolling()` method to specify a \"window\" of observations around each row for a given column.  We can then compute a statistic (e.g. sum, mean) over that rolling window and we get back the appropriate result.  The `min_periods` argument is necessary here as the default will return `NaN` (missing data) for rows with fewer observations in their windows than the specified size.\n",
    "\n",
    "As we've now computed the seven-day average for theft in 2019 by day, we can visualize it on a chart."
   ]
  },
  {
   "cell_type": "code",
   "execution_count": 19,
   "metadata": {
    "collapsed": false
   },
   "outputs": [
    {
     "data": {
      "text/plain": [
       "<AxesSubplot:xlabel='Date', ylabel='Weekly_Avg'>"
      ]
     },
     "execution_count": 19,
     "metadata": {},
     "output_type": "execute_result"
    },
    {
     "data": {
      "image/png": "[encoded data removed]",
      "text/plain": [
       "<Figure size 576x432 with 1 Axes>"
      ]
     },
     "metadata": {},
     "output_type": "display_data"
    }
   ],
   "source": [
    "sns.lineplot(x = \"Date\", y = \"Weekly_Avg\", data = theft_by_date)"
   ]
  },
  {
   "cell_type": "markdown",
   "metadata": {
    "collapsed": false
   },
   "source": [
    "## Exercises\n",
    "\n",
    "Data APIs are complicated topics and we're only scratching the surface here of what you can do with them.  In turn, your exercises for this assignment will be a little different.  \n",
    "\n",
    "Your job here is to replicate the above analysis for __another type of offense__ and __optionally another time period__ in Fort Worth.  Visit the Fort Worth dataset on the web here: https://data.fortworthtexas.gov/Public-Safety/Crime-Data/k6ic-7kp7/data and look at the \"Nature of Call\" column to see what other options there are.  Some tips: some crimes like murder are relatively rare, so you might be better served choosing an offense that is more frequent.  Also, values in the \"Description\" column have changed somewhat over time, so be mindful of this when selecting a type of crime.  \n",
    "\n",
    "What this basically involves is re-using the code I've already written for this assignment, and modifying it slightly for your chosen type of offense and your chosen time period.  To do this, you'll modify the API call at the beginning of the code accordingly.  I want you to get a sense of how you can \"change parameters\" in an API call, and in turn get different results.  Indeed, an enterprising analysis like this could wrap everything in a function and re-produce analyses by parameterizing these inputs in Python; you don't have to do that here, but hopefully this gives you a sense of why it is useful to write everything out with code.  \n",
    "\n",
    "To get full credit for this assignment, your results should include responses to the following questions:  \n",
    "\n",
    "1. How did crime incidents for your chosen offense in your chosen time period vary by city council district?  \n",
    "2. Draw a chart that shows these variations.  \n",
    "3. How did crime rates per 1000 residents in your chosen time period vary by city council district for your chosen offense?  \n",
    "4. Draw a chart that shows variations in rates by council district.  \n",
    "5. Draw a line chart that shows how incidents of your chosen offense varied by day in the time period that you chose.  "
   ]
  },
  {
   "cell_type": "code",
   "execution_count": 0,
   "metadata": {
    "collapsed": true
   },
   "outputs": [],
   "source": []
  }
 ],
 "metadata": {
  "kernelspec": {
   "display_name": "Python 3 (system-wide)",
   "language": "python",
   "metadata": {
    "cocalc": {
     "description": "Python 3 programming language",
     "priority": 100,
     "url": "https://www.python.org/"
    }
   },
   "name": "python3"
  },
  "language_info": {
   "codemirror_mode": {
    "name": "ipython",
    "version": 3
   },
   "file_extension": ".py",
   "mimetype": "text/x-python",
   "name": "python",
   "nbconvert_exporter": "python",
   "pygments_lexer": "ipython3",
   "version": "3.8.2"
  }
 },
 "nbformat": 4,
 "nbformat_minor": 4
}