{
 "cells": [
  {
   "cell_type": "markdown",
   "metadata": {
    "collapsed": false
   },
   "source": [
    "## Assignment 8: Data visualization\n",
    "\n",
    "As we've discussed in class, there are many different ways you can visualize data!  You've learned several techniques for data visualization in this class thus far.  This assignment will focus explicitly on data visualization, and include more of an emphasis on plot customization.  \n",
    "\n",
    "The dataset we'll be using in this assignment is the popular \"Baby names\" dataset from the Social Security Administration, available at http://ssa.gov/oact/babynames/limits.html.  We'll be using a pre-processed dataset available in the R package `babynames`, which is a long-form table of baby names from 1880 to 2017.  Let's import the necessary libraries for this assignment, then read in the dataset and take a quick look: "
   ]
  },
  {
   "cell_type": "code",
   "execution_count": 27,
   "metadata": {
    "collapsed": false
   },
   "outputs": [
   ],
   "source": [
    "import pandas as pd\n",
    "import seaborn as sns\n",
    "import matplotlib.pyplot as plt\n",
    "pd.options.mode.chained_assignment = None # Turning off the \"SettingWithCopyWarning\"\n",
    "sns.set_style(\"white\")\n",
    "\n",
    "df = pd.read_csv('babynames.csv')\n",
    "# Converting the year to integer for better display\n",
    "df['year'] = df.year.astype(int)\n",
    "\n",
    "df.head()"
   ]
  },
  {
   "cell_type": "markdown",
   "metadata": {
    "collapsed": false
   },
   "source": [
    "The data frame has the following columns: `year`, which is the year the baby was born; `sex`, the sex of the baby; `name`, the name of the baby; `n`, the number of babies born with that name for that sex in that year; and `prop`, the proportion of babies of that sex in that year with that name.  As you can see, over 7 percent of female babies in 1880 were given the name Mary!  Now let's take a look at the size of our data frame.  "
   ]
  },
  {
   "cell_type": "code",
   "execution_count": 0,
   "metadata": {
    "collapsed": false
   },
   "outputs": [
   ],
   "source": [
    "df.shape"
   ]
  },
  {
   "cell_type": "markdown",
   "metadata": {
    "collapsed": false
   },
   "source": [
    "Our data frame has 1.92 million rows!  As such, this isn't a dataset that you could reasonably deal with manually.  Also: Excel worksheets cannot handle data of this size, as they have row limits of 1,048,576 rows, which takes us up to around 1989.  This is not a dataset that is \"big\" by standard definitions, as it is only about 49 MB in size given the small number of columns.  However, it is much-better suited to a computational approach to data analysis like Python/`pandas`.  \n",
    "\n",
    "Granted, with 1.9 million rows in our dataset, we'll need to carefully consider our research questions and how they can help us cut down the size of our dataset.  In this notebook, I'd like you to get experience with three skills in Python plot customization: \n",
    "\n",
    "1. Modifying chart properties\n",
    "2. Annotation/labeling\n",
    "3. Small multiples\n",
    "\n",
    "To do this, we are going to focus on three topics: \n",
    "\n",
    "1. What were the most popular names in 2017 (the last year in the dataset), and how did their popularity change over the past 10 years? \n",
    "2. How does the release of Disney princess movies influence the popularity of baby names? \n",
    "3. How have various gender-neutral names shifted in popularity between male & female over time?  \n",
    "\n",
    "You'll then get a chance to do some of this on your own at the end of the assignment.  \n",
    "\n",
    "__Question 1: What were the most popular names in 2017, and how did their popularity change over the past 10 years?__\n",
    "\n",
    "To get started with this question, we need to do some subsetting, which you are very familiar with by now.  Let's look specifically at males for this first question.  First and foremost, however, we need to figure out the most popular male baby names in 2017.  A few `pandas`/Python methods that you've learned in previous assignments can get this done.  \n",
    "\n",
    "Notice what we are doing here - you can think of the line of code as a _chain_ of methods in which we are manipulating the `df` data frame in turn.  \n",
    "\n",
    "* First, we subset the data frame for only those male records in 2017; \n",
    "* Then, we sort the data frame in descending order by count; \n",
    "* Then, we slice the data frame to get back the top 15 rows; \n",
    "* Finally, we ask `pandas` to generate a list of names from our subsetted and sorted data frame.  "
   ]
  },
  {
   "cell_type": "code",
   "execution_count": 0,
   "metadata": {
    "collapsed": false
   },
   "outputs": [
   ],
   "source": [
    "# Subset for males in 2017\n",
    "male17 = df[(df.year == 2017) & (df.sex == 'M')]\n",
    "# Sort in descending order of the number of names\n",
    "male17sorted = male17.sort_values('n', ascending = False)\n",
    "# Slice the sorted data frame for the first 15 rows\n",
    "top_male = male17sorted[0:15]\n",
    "# Pull the name column from the sliced data frame and convert to a list\n",
    "name_list = top_male.name.tolist()\n",
    "\n",
    "name_list"
   ]
  },
  {
   "cell_type": "markdown",
   "metadata": {
    "collapsed": false
   },
   "source": [
    "`pandas` returns a Python list of the top 15 baby names in 2017 for boys.  We can then pass this list to the `.isin()` method to get back entries for all of those names since 2000, and calculate their frequency per 1000 records in the dataset.  "
   ]
  },
  {
   "cell_type": "code",
   "execution_count": 0,
   "metadata": {
    "collapsed": false
   },
   "outputs": [
   ],
   "source": [
    "sub1 = df[(df.name.isin(name_list)) & (df.year > 1999) & (df.sex == 'M')]\n",
    "\n",
    "sub1['per1000'] = sub1.prop * 1000\n",
    "\n",
    "sub1.head()"
   ]
  },
  {
   "cell_type": "markdown",
   "metadata": {
    "collapsed": false
   },
   "source": [
    "We are just about ready to visualize the data now.  There are multiple ways these data could be visualized; in this instance, we'll use a __heatmap__, which we discussed in class.  A heatmap is a grid of cells in which the shading of each cell is proportional to its value.  Generally, darker cells represent a greater value.  When applied to temporal data, it can be an effective way to show the variation of values for multiple data series over time.  \n",
    "\n",
    "Heatmaps in `seaborn` take a wide-format data frame with the y-values in the index, the x-values as the columns, and the data values in the cells.  We will use the `.pivot()` method to reshape our data and produce this type of data frame, then pass the dataframe to the `heatmap()` function.  "
   ]
  },
  {
   "cell_type": "code",
   "execution_count": 0,
   "metadata": {
    "collapsed": false
   },
   "outputs": [
   ],
   "source": [
    "wide1 = sub1.pivot(index = 'name', columns = 'year', values = 'per1000')\n",
    "\n",
    "sns.heatmap(wide1)"
   ]
  },
  {
   "cell_type": "markdown",
   "metadata": {
    "collapsed": false
   },
   "source": [
    "The plot looks nice by default; we can see some trends such as the ascension of Liam, Aiden, and Noah and the relative descent of Michael and Jacob (although both of those names are still in the top 15, of course).  However, you may still want to customize your chart.  \n",
    "\n",
    "`seaborn` plots have many plot customization options built-in; you'll learn how to use a few later in the assignment.  `seaborn` plots, however, are also `matplotlib` objects, which is the core plotting library in Python.  In turn, you can use the wealth of functions available in `matplotlib` to modify your `seaborn` plots.  You'll learn a few of those methods in this assignment.  \n",
    "\n",
    "Note the code below and what we are doing.  We'll import the `pyplot` module from `matplotlib` in the standard way as `plt`.  `pyplot` gives us access to many different plot customization functions.  We can set the figure size before calling the plotting function, then rotate the x-tick labels, remove the axis labels, and add a title to our chart.  Also, notice the arguments passed to `sns.heatmap()`.  The `annot` parameter allows us to annotate the heatmap with data values, and the `cmap` parameter allows us to adjust the colors.  It accepts all ColorBrewer palettes as well as the built-in `matplotlib` palettes.  "
   ]
  },
  {
   "cell_type": "code",
   "execution_count": 0,
   "metadata": {
    "collapsed": false
   },
   "outputs": [
   ],
   "source": [
    "import matplotlib.pyplot as plt\n",
    "\n",
    "sns.heatmap(wide1, annot = True, cmap = 'Greens')\n",
    "\n",
    "plt.xticks(rotation = 45)\n",
    "plt.ylabel(\"\")\n",
    "plt.xlabel(\"\")\n",
    "plt.title(\"Most popular baby names - Male (rate per 1000)\")"
   ]
  },
  {
   "cell_type": "markdown",
   "metadata": {
    "collapsed": true
   },
   "source": [
    "__Question 2: How does the release of Disney movies influence the popularity of baby names?__\n",
    "\n",
    "Baby names can sometimes be responsive to trends in popular culture.  For example, \"Daenerys\" showed up in the dataset for the first time in 2012, and 82 baby girls were named Daenerys in 2015!.  In this exercise, we'll examine how the release of Disney Princess movies relates to baby names.\n",
    "\n",
    "Let's examine trends in female baby names since 1980 for four Disney Princess names: Jasmine, Ariel, Elsa, and Tiana.  "
   ]
  },
  {
   "cell_type": "code",
   "execution_count": 0,
   "metadata": {
    "collapsed": false
   },
   "outputs": [
   ],
   "source": [
    "sns.set_style(\"darkgrid\")\n",
    "princesses = ['Jasmine', 'Ariel', 'Elsa', 'Tiana']\n",
    "\n",
    "princess_df = df[(df.name.isin(princesses)) & (df.sex == 'F') & (df.year > 1979)]\n",
    "\n",
    "princess_df['per1000'] = princess_df.prop * 1000\n",
    "\n",
    "princess_df.head()"
   ]
  },
  {
   "cell_type": "markdown",
   "metadata": {
    "collapsed": false
   },
   "source": [
    "Clearly, Jasmine was a popular name in the early 1980s prior to the release of Aladdin.  Tiana, Ariel, and Elsa, however, were not as popular.  So how did their popularity shift over time?  \n",
    "\n",
    "We'll make a line chart using the `lineplot()` function in `seaborn`.  `sns.lineplot()` takes a long-form data frame like our babynames data frame along with a mapping of x and y values for a given dataset.  The `hue` argument, if specified, will divide up the data into groups within a given column and plot a separate line, with different colors, for each group. "
   ]
  },
  {
   "cell_type": "code",
   "execution_count": 0,
   "metadata": {
    "collapsed": false
   },
   "outputs": [
   ],
   "source": [
    "sns.lineplot(data = princess_df, x = \"year\", y = \"per1000\", hue = \"name\")"
   ]
  },
  {
   "cell_type": "markdown",
   "metadata": {
    "collapsed": false
   },
   "source": [
    "We can start to get a sense here of some \"spikes\" in the data - for example, a clear spike in babies named Ariel is evident after 1989, which is when _The Little Mermaid_ was released.  We can also note small spikes for Tiana and Elsa after the release of their respective movies.  \n",
    "\n",
    "However - how can we express this on the chart in clearer terms?  One way to accomplish this is through __annotation__, which refers to the placement of text on the plot to highlight particular data points.  Before doing this, let's figure out approximately what the values are for each princess name when its movie was released: "
   ]
  },
  {
   "cell_type": "code",
   "execution_count": 0,
   "metadata": {
    "collapsed": false
   },
   "outputs": [
   ],
   "source": [
    "disney_yrs = {'Ariel': 1989,\n",
    "             'Elsa': 2013,\n",
    "             'Jasmine': 1992,\n",
    "             'Tiana': 2009}\n",
    "\n",
    "for princess, year in disney_yrs.items():\n",
    "    # Subset the data frame for princess and year\n",
    "    subset = princess_df[(princess_df.name == princess) & (princess_df.year == year)]\n",
    "    # Extract the value for per1000 with .values\n",
    "    # .values returns a list, so we'll extract the 0th element\n",
    "    value = subset.per1000.values[0]\n",
    "    print(princess + ': ' + str(value))"
   ]
  },
  {
   "cell_type": "markdown",
   "metadata": {
    "collapsed": false
   },
   "source": [
    "I accomplished this with a little new Python code.  I've mentioned before the `dict`, a type of Python object enclosed in curly braces (`{}`) that can hold key-value pairs.  The _key_ comes before the colon, the _value_ comes after the colon, and each element of the dictionary is separated by a comma.  \n",
    "\n",
    "In this case, our dictionary holds the name of the Disney princess, and the year that the corresponding film was released.  Dictionaries can be iterated through with `for` and the `.items()` method; in this example, `princess` represents the key in the loop, and `year` represents the value.  Within the loop, we can first create a princess and year-specific subset of our data frame, then extract the corresponding value from it.\n",
    "\n",
    "Spend some time reading through the `plt.annotate()` code below so that you can understand it.  We're using a number of parameters here: \n",
    "\n",
    "* The annotation text is the first argument.  Python will interpret the string '\\n' as a line break, which allows us to put the text on multiple lines.  \n",
    "* The `xy` parameter refers to the data coordinates of the point we want to annotate, given that we've specified this with the `'data'` argument supplied to the `xycoords` parameter.  We'll use the year of the film release for the X value, and the data values we obtained above (approximately) for the Y value.  \n",
    "* In this case, however, we don't want to put the text right on top of the lines themselves; as such, we can specify an offset, and connect our text with the data point with an arrow.  We use the `xytext` and `textcoords` parameters to do this; have a look at the plot and see where this puts the text.  The argument supplied to `arrowprops`, which are in the form of a `dict`, govern the appearance of the arrow.  \n",
    "\n",
    "Annotation often takes iteration and patience to get it right.  Try changing some of the arguments in the `plt.annotate()` calls below and see how the text and arrows move around!"
   ]
  },
  {
   "cell_type": "code",
   "execution_count": 0,
   "metadata": {
    "collapsed": false
   },
   "outputs": [
   ],
   "source": [
    "sns.lineplot(data = princess_df, x = \"year\", y = \"per1000\", hue = \"name\")\n",
    "\n",
    "plt.annotate('The Little \\nMermaid', xy = (1989, 0.64), xycoords = 'data', \n",
    "            xytext = (1983, 2.5), textcoords = 'data', arrowprops = dict(arrowstyle = 'simple'),\n",
    "            fontsize = 10)\n",
    "\n",
    "plt.annotate('Aladdin', xy = (1992, 5.23), xycoords = 'data', \n",
    "            xytext = (1990, 6.1), textcoords = 'data', arrowprops = dict(arrowstyle = 'simple'),\n",
    "            fontsize = 10)\n",
    "\n",
    "plt.annotate('Frozen', xy = (2013, 0.294), xycoords = 'data', \n",
    "            xytext = (2011, 2.5), textcoords = 'data', arrowprops = dict(arrowstyle = 'simple'),\n",
    "            fontsize = 10)\n",
    "\n",
    "plt.annotate('The Princess \\nand the Frog', xy = (2009, 0.247), xycoords = 'data', \n",
    "            xytext = (2007, 1.6), textcoords = 'data', arrowprops = dict(arrowstyle = 'simple'),\n",
    "            fontsize = 10)\n",
    "\n",
    "plt.ylabel(\"Female baby names per 1000\", fontsize = 12)\n",
    "plt.xlabel(\"\")\n",
    "plt.title(\"Influence of Disney movies on baby names\", fontsize = 15)\n",
    "plt.legend(title = \"\", fontsize = 12)"
   ]
  },
  {
   "cell_type": "markdown",
   "metadata": {
    "collapsed": false
   },
   "source": [
    "__Question 3: How have gender-neutral names shifted in popularity between male and female over time?__\n",
    "\n",
    "For the third and final question, we'll be looking at how four gender-neutral names have shifted between male and female over time.  Let's produce a new data frame from our original data frame that subsets for four popular gender-neutral names: Jordan, Riley, Peyton, and Taylor.  We'll take rows for years 1960 and later, and fill NaN values with 0.  "
   ]
  },
  {
   "cell_type": "code",
   "execution_count": 0,
   "metadata": {
    "collapsed": false
   },
   "outputs": [
   ],
   "source": [
    "neutral_names = ['Jordan', 'Peyton', 'Taylor', 'Riley']"
   ]
  },
  {
   "cell_type": "code",
   "execution_count": 0,
   "metadata": {
    "collapsed": false
   },
   "outputs": [
   ],
   "source": [
    "neutral_df = df[(df.name.isin(neutral_names)) & (df.year > 1959)].fillna(0)\n",
    "\n",
    "neutral_df.head()"
   ]
  },
  {
   "cell_type": "markdown",
   "metadata": {
    "collapsed": false
   },
   "source": [
    "In Assignment 6, you learned how to make faceted plots are available using the `catplot()` function, which is appropriate for charts that have a categorical axis.  The companion `relplot()` function can be used for plots with two continuous axes, such as scatterplots or lineplots. Let's try plotting faceted line charts that show how counts for these names vary by gender over time:"
   ]
  },
  {
   "cell_type": "code",
   "execution_count": 0,
   "metadata": {
    "collapsed": false
   },
   "outputs": [
   ],
   "source": [
    "sns.relplot(data = neutral_df, x = \"year\", y = \"n\", hue = \"sex\", col = \"name\", kind = \"line\")"
   ]
  },
  {
   "cell_type": "markdown",
   "metadata": {
    "collapsed": false
   },
   "source": [
    "We can start to get a sense of some of the variations here; Taylor is more popular among girls than boys, whereas the opposite is true for Jordan.  Given that all of the plots share the same y-axis, however, it is tough to tell for Riley and Peyton.  Let's make a few modifications to the plot to improve its clarity.  We will add a `col_wrap` argument to specify how many columns to create in our plot grid.  We can also change the colors with the argument supplied to `palette`; we'll use common colors to represent female and male babies here.  We can also specify a `height` argument to modify the plot size.\n",
    "\n",
    "Additionally, plot objects themselves have methods that you can use to modify the chart appearance; we'll use `.set_axis_labels()` to improve the look of our axes, and we can modify the title of the legend as well.  "
   ]
  },
  {
   "cell_type": "code",
   "execution_count": 0,
   "metadata": {
    "collapsed": false
   },
   "outputs": [
   ],
   "source": [
    "sns.set(style = \"white\", font_scale = 1.25)\n",
    "\n",
    "chart = sns.relplot(data = neutral_df, x = \"year\", y = \"n\", \n",
    "                    hue = \"sex\", col = \"name\", kind = \"line\",\n",
    "                    col_wrap = 2, palette = [\"pink\", \"skyblue\"],\n",
    "                    height = 4)\n",
    "\n",
    "chart.set_axis_labels('Year', 'Number of names')\n",
    "chart._legend.set_title('Sex')"
   ]
  },
  {
   "cell_type": "markdown",
   "metadata": {
    "collapsed": true
   },
   "source": [
    "## Exercises\n",
    "\n",
    "To get credit for this assignment, you are going to apply what you've learned to some additional tasks using the baby names dataset.  Some of this will involve re-producing some of the analyses in the notebook, but for different prompts.  \n",
    "\n",
    "__Exercise 1:__ Re-create the heatmap from Question 1, but this time for females.  What trends do you observe?  "
   ]
  },
  {
   "cell_type": "code",
   "execution_count": 0,
   "metadata": {
    "collapsed": false
   },
   "outputs": [
   ],
   "source": [
   ]
  },
  {
   "cell_type": "markdown",
   "metadata": {
    "collapsed": false
   },
   "source": [
    "__Exercise 2:__ Create a line chart that shows how a name of your choice has varied in popularity over time.  Find out the year when your chosen name peaked in popularity, and annotate your chart to show where this peak is located on the line.  "
   ]
  },
  {
   "cell_type": "code",
   "execution_count": 0,
   "metadata": {
    "collapsed": false
   },
   "outputs": [
   ],
   "source": [
   ]
  },
  {
   "cell_type": "markdown",
   "metadata": {
    "collapsed": false
   },
   "source": [
    "__Exercise 3:__ In Question 2, we looked at the possible influence of Disney princess movies on female baby names.  Pick four other names (male or female) from popular culture over the past 30 years and produce a chart that illustrates their influence (or lack thereof) on baby names.  Be strategic with your name decisions!  You can create a single line chart with four series, or a small multiples chart with facets - pick the one you think is ideal!"
   ]
  },
  {
   "cell_type": "code",
   "execution_count": 0,
   "metadata": {
    "collapsed": false
   },
   "outputs": [
   ],
   "source": [
   ]
  }
 ],
 "metadata": {
  "kernelspec": {
   "display_name": "Python 3 (system-wide)",
   "language": "python",
   "metadata": {
    "cocalc": {
     "description": "Python 3 programming language",
     "priority": 100,
     "url": "https://www.python.org/"
    }
   },
   "name": "python3"
  },
  "language_info": {
   "codemirror_mode": {
    "name": "ipython",
    "version": 3
   },
   "file_extension": ".py",
   "mimetype": "text/x-python",
   "name": "python",
   "nbconvert_exporter": "python",
   "pygments_lexer": "ipython3",
   "version": "3.8.5"
  }
 },
 "nbformat": 4,
 "nbformat_minor": 4
}